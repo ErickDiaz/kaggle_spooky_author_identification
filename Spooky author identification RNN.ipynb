{
 "cells": [
  {
   "cell_type": "markdown",
   "metadata": {},
   "source": [
    "# Spooky author identification\n",
    "\n"
   ]
  },
  {
   "cell_type": "code",
   "execution_count": 1,
   "metadata": {
    "collapsed": true
   },
   "outputs": [],
   "source": [
    "import numpy as np\n",
    "import tensorflow as tf\n",
    "import csv\n",
    "from sklearn import preprocessing\n",
    "from string import punctuation\n",
    "from sklearn import metrics"
   ]
  },
  {
   "cell_type": "code",
   "execution_count": 2,
   "metadata": {
    "collapsed": true
   },
   "outputs": [],
   "source": [
    "reviews = []\n",
    "labels = []\n",
    "test = []\n",
    "test_ids = []\n",
    "with open('./text.csv', 'r',encoding=\"latin-1\") as f:\n",
    "    text_reader = csv.reader(f,delimiter=\",\")\n",
    "    next(text_reader)\n",
    "    for row in text_reader:\n",
    "        reviews.append(row[0])\n",
    "with open('./author.csv', 'r') as labels_csv:\n",
    "    author_reader = csv.reader(labels_csv,delimiter =\",\")\n",
    "    next(author_reader) #ignore header\n",
    "    for row in author_reader:\n",
    "        labels.append(row[0])\n",
    "with open(\"./test.csv\",'r') as test_csv:\n",
    "    text_reader = csv.reader(test_csv, delimiter= \",\")\n",
    "    next(text_reader) #ignore header\n",
    "    \n",
    "    for row in text_reader:\n",
    "        test_ids.append(row[0])\n",
    "        test.append(row[1])"
   ]
  },
  {
   "cell_type": "code",
   "execution_count": 3,
   "metadata": {},
   "outputs": [
    {
     "data": {
      "text/plain": [
       "8392"
      ]
     },
     "execution_count": 3,
     "metadata": {},
     "output_type": "execute_result"
    }
   ],
   "source": [
    "len(test)"
   ]
  },
  {
   "cell_type": "code",
   "execution_count": 4,
   "metadata": {},
   "outputs": [
    {
     "data": {
      "text/plain": [
       "['This process, however, afforded me no means of ascertaining the dimensions of my dungeon; as I might make its circuit, and return to the point whence I set out, without being aware of the fact; so perfectly uniform seemed the wall.',\n",
       " 'It never once occurred to me that the fumbling might be a mere mistake.',\n",
       " 'In his left hand was a gold snuff box, from which, as he capered down the hill, cutting all manner of fantastic steps, he took snuff incessantly with an air of the greatest possible self satisfaction.',\n",
       " 'How lovely is spring As we looked from Windsor Terrace on the sixteen fertile counties spread beneath, speckled by happy cottages and wealthier towns, all looked as in former years, heart cheering and fair.',\n",
       " 'Finding nothing else, not even gold, the Superintendent abandoned his attempts; but a perplexed look occasionally steals over his countenance as he sits thinking at his desk.',\n",
       " 'A youth passed in solitude, my best years spent under your gentle and feminine fosterage, has so refined the groundwork of my character that I cannot overcome an intense distaste to the usual brutality exercised on board ship: I have never believed it to be necessary, and when I heard of a mariner equally noted for his kindliness of heart and the respect and obedience paid to him by his crew, I felt myself peculiarly fortunate in being able to secure his services.',\n",
       " 'The astronomer, perhaps, at this point, took refuge in the suggestion of non luminosity; and here analogy was suddenly let fall.',\n",
       " 'The surcingle hung in ribands from my body.',\n",
       " \"I knew that you could not say to yourself 'stereotomy' without being brought to think of atomies, and thus of the theories of Epicurus; and since, when we discussed this subject not very long ago, I mentioned to you how singularly, yet with how little notice, the vague guesses of that noble Greek had met with confirmation in the late nebular cosmogony, I felt that you could not avoid casting your eyes upward to the great nebula in Orion, and I certainly expected that you would do so.\",\n",
       " 'I confess that neither the structure of languages, nor the code of governments, nor the politics of various states possessed attractions for me.',\n",
       " 'He shall find that I can feel my injuries; he shall learn to dread my revenge\" A few days after he arrived.',\n",
       " 'Here we barricaded ourselves, and, for the present were secure.',\n",
       " 'Herbert West needed fresh bodies because his life work was the reanimation of the dead.',\n",
       " 'The farm like grounds extended back very deeply up the hill, almost to Wheaton Street.',\n",
       " 'But a glance will show the fallacy of this idea.',\n",
       " 'He had escaped me, and I must commence a destructive and almost endless journey across the mountainous ices of the ocean, amidst cold that few of the inhabitants could long endure and which I, the native of a genial and sunny climate, could not hope to survive.',\n",
       " 'To these speeches they gave, of course, their own interpretation; fancying, no doubt, that at all events I should come into possession of vast quantities of ready money; and provided I paid them all I owed, and a trifle more, in consideration of their services, I dare say they cared very little what became of either my soul or my carcass.',\n",
       " 'Her native sprightliness needed no undue excitement, and her placid heart reposed contented on my love, the well being of her children, and the beauty of surrounding nature.',\n",
       " 'I even went so far as to speak of a slightly hectic cough with which, at one time, I had been troubled of a chronic rheumatism of a twinge of hereditary gout and, in conclusion, of the disagreeable and inconvenient, but hitherto carefully concealed, weakness of my eyes.',\n",
       " \"His facial aspect, too, was remarkable for its maturity; for though he shared his mother's and grandfather's chinlessness, his firm and precociously shaped nose united with the expression of his large, dark, almost Latin eyes to give him an air of quasi adulthood and well nigh preternatural intelligence.\"]"
      ]
     },
     "execution_count": 4,
     "metadata": {},
     "output_type": "execute_result"
    }
   ],
   "source": [
    "reviews[:20]"
   ]
  },
  {
   "cell_type": "code",
   "execution_count": 5,
   "metadata": {},
   "outputs": [
    {
     "data": {
      "text/plain": [
       "['EAP',\n",
       " 'HPL',\n",
       " 'EAP',\n",
       " 'MWS',\n",
       " 'HPL',\n",
       " 'MWS',\n",
       " 'EAP',\n",
       " 'EAP',\n",
       " 'EAP',\n",
       " 'MWS',\n",
       " 'MWS',\n",
       " 'EAP',\n",
       " 'HPL',\n",
       " 'HPL',\n",
       " 'EAP',\n",
       " 'MWS',\n",
       " 'EAP',\n",
       " 'MWS',\n",
       " 'EAP',\n",
       " 'HPL']"
      ]
     },
     "execution_count": 5,
     "metadata": {},
     "output_type": "execute_result"
    }
   ],
   "source": [
    "labels[:20]"
   ]
  },
  {
   "cell_type": "code",
   "execution_count": 6,
   "metadata": {},
   "outputs": [
    {
     "data": {
      "text/plain": [
       "['Still, as I urged our leaving Ireland with such inquietude and impatience, my father thought it best to yield.',\n",
       " 'If a fire wanted fanning, it could readily be fanned with a newspaper, and as the government grew weaker, I have no doubt that leather and iron acquired durability in proportion, for, in a very short time, there was not a pair of bellows in all Rotterdam that ever stood in need of a stitch or required the assistance of a hammer.',\n",
       " 'And when they had broken down the frail door they found only this: two cleanly picked human skeletons on the earthen floor, and a number of singular beetles crawling in the shadowy corners.',\n",
       " 'While I was thinking how I should possibly manage without them, one actually tumbled out of my head, and, rolling down the steep side of the steeple, lodged in the rain gutter which ran along the eaves of the main building.',\n",
       " 'I am not sure to what limit his knowledge may extend.',\n",
       " '\"The thick and peculiar mist, or smoke, which distinguishes the Indian Summer, and which now hung heavily over all objects, served, no doubt, to deepen the vague impressions which these objects created.',\n",
       " 'That which is not matter, is not at all unless qualities are things.',\n",
       " 'I sought for repose although I did not hope for forgetfulness; I knew I should be pursued by dreams, but did not dread the frightful one that I really had.',\n",
       " 'Upon the fourth day of the assassination, a party of the police came, very unexpectedly, into the house, and proceeded again to make rigorous investigation of the premises.',\n",
       " '\"The tone metaphysical is also a good one.',\n",
       " 'These, the offspring of a later period, stood erect and seemed ready to advance fearlessly into coming time; while those out worn stragglers, blasted and broke, clung to each other, their weak boughs sighing as the wind buffetted them a weather beaten crew.',\n",
       " 'What kept him from going with her and Brown Jenkin and the other to the throne of Chaos where the thin flutes pipe mindlessly was the fact that he had seen the name \"Azathoth\" in the Necronomicon, and knew it stood for a primal evil too horrible for description.',\n",
       " 'Persuading the widow that my connexion with her husband\\'s \"technical matters\" was sufficient to entitle me to his manuscript, I bore the document away and began to read it on the London boat.',\n",
       " 'When I arose trembling, I know not how much later, I staggered into the house and made shocking obeisances before the enshrined amulet of green jade.',\n",
       " 'And by the shores of the river Zaire there is neither quiet nor silence.',\n",
       " \"Idris heard of her mother's return with pleasure.\",\n",
       " 'I say this proudly, but with tears in my eyes for the firm proved themselves the basest of ingrates.',\n",
       " 'But let us glance at the treatise Ah \"Ability or inability to conceive,\" says Mr. Mill, very properly, \"is in no case to be received as a criterion of axiomatic truth.\"',\n",
       " '\"What a place is this that you inhabit, my son\" said he, looking mournfully at the barred windows and wretched appearance of the room.',\n",
       " 'At his nod I took one of the latter and seated myself upon an aged, discoloured gravestone close by the newly uncovered aperture.']"
      ]
     },
     "execution_count": 6,
     "metadata": {},
     "output_type": "execute_result"
    }
   ],
   "source": [
    "test[:20]"
   ]
  },
  {
   "cell_type": "markdown",
   "metadata": {},
   "source": [
    "## Data preprocessing\n",
    "\n",
    "The first step when building a neural network model is getting your data into the proper form to feed into the network. Since we're using embedding layers, we'll need to encode each word with an integer. We'll also want to clean it up a bit.\n",
    "\n",
    "You can see an example of the reviews data above. We'll want to get rid of those periods. Also, you might notice that the reviews are delimited with newlines `\\n`. To deal with those, I'm going to split the text into each review using `\\n` as the delimiter. Then I can combined all the reviews back together into one big string.\n",
    "\n",
    "First, let's remove all punctuation. Then get all the text without the newlines and split it into individual words."
   ]
  },
  {
   "cell_type": "code",
   "execution_count": 7,
   "metadata": {
    "collapsed": true
   },
   "outputs": [],
   "source": [
    "from string import punctuation\n",
    "all_text = ' '.join([c for c in reviews + test if c not in punctuation])\n",
    "\n",
    "words = all_text.split()"
   ]
  },
  {
   "cell_type": "code",
   "execution_count": 8,
   "metadata": {},
   "outputs": [
    {
     "data": {
      "text/plain": [
       "'This process, however, afforded me no means of ascertaining the dimensions of my dungeon; as I might make its circuit, and return to the point whence I set out, without being aware of the fact; so perfectly uniform seemed the wall. It never once occurred to me that the fumbling might be a mere mistake. I'"
      ]
     },
     "execution_count": 8,
     "metadata": {},
     "output_type": "execute_result"
    }
   ],
   "source": [
    "all_text[:305]"
   ]
  },
  {
   "cell_type": "code",
   "execution_count": 9,
   "metadata": {},
   "outputs": [
    {
     "data": {
      "text/plain": [
       "['This',\n",
       " 'process,',\n",
       " 'however,',\n",
       " 'afforded',\n",
       " 'me',\n",
       " 'no',\n",
       " 'means',\n",
       " 'of',\n",
       " 'ascertaining',\n",
       " 'the',\n",
       " 'dimensions',\n",
       " 'of',\n",
       " 'my',\n",
       " 'dungeon;',\n",
       " 'as',\n",
       " 'I',\n",
       " 'might',\n",
       " 'make',\n",
       " 'its',\n",
       " 'circuit,',\n",
       " 'and',\n",
       " 'return',\n",
       " 'to',\n",
       " 'the',\n",
       " 'point',\n",
       " 'whence',\n",
       " 'I',\n",
       " 'set',\n",
       " 'out,',\n",
       " 'without',\n",
       " 'being',\n",
       " 'aware',\n",
       " 'of',\n",
       " 'the',\n",
       " 'fact;',\n",
       " 'so',\n",
       " 'perfectly',\n",
       " 'uniform',\n",
       " 'seemed',\n",
       " 'the',\n",
       " 'wall.',\n",
       " 'It',\n",
       " 'never',\n",
       " 'once',\n",
       " 'occurred',\n",
       " 'to',\n",
       " 'me',\n",
       " 'that',\n",
       " 'the',\n",
       " 'fumbling',\n",
       " 'might',\n",
       " 'be',\n",
       " 'a',\n",
       " 'mere',\n",
       " 'mistake.',\n",
       " 'In',\n",
       " 'his',\n",
       " 'left',\n",
       " 'hand',\n",
       " 'was',\n",
       " 'a',\n",
       " 'gold',\n",
       " 'snuff',\n",
       " 'box,',\n",
       " 'from',\n",
       " 'which,',\n",
       " 'as',\n",
       " 'he',\n",
       " 'capered',\n",
       " 'down',\n",
       " 'the',\n",
       " 'hill,',\n",
       " 'cutting',\n",
       " 'all',\n",
       " 'manner',\n",
       " 'of',\n",
       " 'fantastic',\n",
       " 'steps,',\n",
       " 'he',\n",
       " 'took',\n",
       " 'snuff',\n",
       " 'incessantly',\n",
       " 'with',\n",
       " 'an',\n",
       " 'air',\n",
       " 'of',\n",
       " 'the',\n",
       " 'greatest',\n",
       " 'possible',\n",
       " 'self',\n",
       " 'satisfaction.',\n",
       " 'How',\n",
       " 'lovely',\n",
       " 'is',\n",
       " 'spring',\n",
       " 'As',\n",
       " 'we',\n",
       " 'looked',\n",
       " 'from',\n",
       " 'Windsor']"
      ]
     },
     "execution_count": 9,
     "metadata": {},
     "output_type": "execute_result"
    }
   ],
   "source": [
    "words[:100]"
   ]
  },
  {
   "cell_type": "markdown",
   "metadata": {},
   "source": [
    "### Encoding the words\n",
    "\n",
    "The embedding lookup requires that we pass in integers to our network. The easiest way to do this is to create dictionaries that map the words in the vocabulary to integers. Then we can convert each of our reviews into integers so they can be passed into the network.\n",
    "\n",
    "> **Exercise:** Now you're going to encode the words with integers. Build a dictionary that maps words to integers. Later we're going to pad our input vectors with zeros, so make sure the integers **start at 1, not 0**.\n",
    "> Also, convert the reviews to integers and store the reviews in a new list called `reviews_ints`. "
   ]
  },
  {
   "cell_type": "code",
   "execution_count": 10,
   "metadata": {},
   "outputs": [
    {
     "data": {
      "text/plain": [
       "'In his left hand was a gold snuff box, from which, as he capered down the hill, cutting all manner of fantastic steps, he took snuff incessantly with an air of the greatest possible self satisfaction.'"
      ]
     },
     "execution_count": 10,
     "metadata": {},
     "output_type": "execute_result"
    }
   ],
   "source": [
    "reviews[2]"
   ]
  },
  {
   "cell_type": "code",
   "execution_count": 11,
   "metadata": {
    "collapsed": true
   },
   "outputs": [],
   "source": [
    "# Create your dictionary that maps vocab words to integers here\n",
    "vocab_to_int = {word:index for index,word in enumerate(set(words),1)}\n",
    "vocab_to_int[\"<PAD>\"] = 0\n",
    "\n",
    "# Convert the reviews to integers, same shape as reviews list, but with integers\n",
    "reviews_ints = []\n",
    "for review in reviews:\n",
    "    reviews_ints.append([vocab_to_int[word] for word in review.split()])\n",
    "    \n",
    "test_ints = []\n",
    "for test_line in test:\n",
    "    test_ints.append([vocab_to_int[word] for word in test_line.split()])"
   ]
  },
  {
   "cell_type": "code",
   "execution_count": 12,
   "metadata": {},
   "outputs": [
    {
     "data": {
      "text/plain": [
       "[12445,\n",
       " 36801,\n",
       " 45629,\n",
       " 31539,\n",
       " 19190,\n",
       " 49333,\n",
       " 39107,\n",
       " 32517,\n",
       " 36548,\n",
       " 26901,\n",
       " 5490,\n",
       " 661,\n",
       " 8163,\n",
       " 46924]"
      ]
     },
     "execution_count": 12,
     "metadata": {},
     "output_type": "execute_result"
    }
   ],
   "source": [
    "reviews_ints[1]"
   ]
  },
  {
   "cell_type": "code",
   "execution_count": 13,
   "metadata": {},
   "outputs": [
    {
     "data": {
      "text/plain": [
       "[37181,\n",
       " 661,\n",
       " 42625,\n",
       " 8481,\n",
       " 24827,\n",
       " 23523,\n",
       " 56198,\n",
       " 18565,\n",
       " 5490,\n",
       " 19770,\n",
       " 2063,\n",
       " 661,\n",
       " 42237,\n",
       " 31397,\n",
       " 9755,\n",
       " 32517,\n",
       " 7177,\n",
       " 45396,\n",
       " 35750,\n",
       " 23956,\n",
       " 5658,\n",
       " 45944,\n",
       " 25989,\n",
       " 39107,\n",
       " 39751,\n",
       " 31397,\n",
       " 26779,\n",
       " 21454,\n",
       " 25378,\n",
       " 47343,\n",
       " 44100,\n",
       " 21514,\n",
       " 47343,\n",
       " 661,\n",
       " 28425,\n",
       " 20238,\n",
       " 4062,\n",
       " 29068,\n",
       " 20885,\n",
       " 8903,\n",
       " 661,\n",
       " 49407,\n",
       " 44961,\n",
       " 8158,\n",
       " 47343,\n",
       " 42389,\n",
       " 6587,\n",
       " 39107,\n",
       " 38739,\n",
       " 47054,\n",
       " 47343,\n",
       " 23739,\n",
       " 44961,\n",
       " 661,\n",
       " 9209,\n",
       " 29703,\n",
       " 49576,\n",
       " 32517,\n",
       " 24218,\n",
       " 44961,\n",
       " 661,\n",
       " 5834]"
      ]
     },
     "execution_count": 13,
     "metadata": {},
     "output_type": "execute_result"
    }
   ],
   "source": [
    "test_ints[1]"
   ]
  },
  {
   "cell_type": "markdown",
   "metadata": {},
   "source": [
    "### Encoding the labels\n",
    "\n",
    "Our labels are \"positive\" or \"negative\". To use these labels in our network, we need to convert them to 0 and 1.\n",
    "\n",
    "> **Exercise:** Convert labels from `positive` and `negative` to 1 and 0, respectively."
   ]
  },
  {
   "cell_type": "code",
   "execution_count": 14,
   "metadata": {},
   "outputs": [
    {
     "name": "stdout",
     "output_type": "stream",
     "text": [
      "{'HPL': 0, 'EAP': 1, 'MWS': 2}\n",
      "{0: 'HPL', 1: 'EAP', 2: 'MWS'}\n",
      "[1, 0, 1, 2, 0, 2, 1, 1, 1, 2]\n"
     ]
    }
   ],
   "source": [
    "labels_to_int = {}\n",
    "int_to_labels = {}\n",
    "unique_labels = list(set(labels))\n",
    "for i,label in enumerate(unique_labels):\n",
    "    labels_to_int[label] = i\n",
    "    int_to_labels[i] = label\n",
    "    \n",
    "int_labels = []\n",
    "\n",
    "for label in labels:\n",
    "    int_labels.append(labels_to_int[label])\n",
    "    \n",
    "print(labels_to_int)\n",
    "print(int_to_labels)\n",
    "print(int_labels[:10])"
   ]
  },
  {
   "cell_type": "code",
   "execution_count": 15,
   "metadata": {},
   "outputs": [
    {
     "data": {
      "text/plain": [
       "array([[0, 1, 0],\n",
       "       [1, 0, 0],\n",
       "       [0, 1, 0],\n",
       "       ..., \n",
       "       [0, 1, 0],\n",
       "       [0, 1, 0],\n",
       "       [1, 0, 0]])"
      ]
     },
     "execution_count": 15,
     "metadata": {},
     "output_type": "execute_result"
    }
   ],
   "source": [
    "encoder = preprocessing.LabelBinarizer()\n",
    "encoder.fit(list(set(int_labels)))\n",
    "one_hot_labels = encoder.transform(int_labels)\n",
    "                                   \n",
    "one_hot_labels"
   ]
  },
  {
   "cell_type": "code",
   "execution_count": 16,
   "metadata": {},
   "outputs": [
    {
     "name": "stdout",
     "output_type": "stream",
     "text": [
      "Zero-length reviews: 0\n",
      "Maximum review length: 861\n",
      "Minimum length: 2\n",
      "Average length: 92.09655172413792\n"
     ]
    }
   ],
   "source": [
    "from collections import Counter\n",
    "review_lens = Counter([len(x) for x in reviews_ints])\n",
    "print(\"Zero-length reviews: {}\".format(review_lens[0]))\n",
    "print(\"Maximum review length: {}\".format(max(review_lens)))\n",
    "print(\"Minimum length: {}\".format(min(review_lens)))\n",
    "print(\"Average length: {}\".format(sum(review_lens)/len(review_lens)))"
   ]
  },
  {
   "cell_type": "code",
   "execution_count": 17,
   "metadata": {},
   "outputs": [
    {
     "name": "stdout",
     "output_type": "stream",
     "text": [
      "Zero-length reviews: 0\n",
      "Maximum review length: 818\n",
      "Minimum length: 3\n",
      "Average length: 77.57377049180327\n"
     ]
    }
   ],
   "source": [
    "test_lens = Counter([len(x) for x in test_ints])\n",
    "print(\"Zero-length reviews: {}\".format(test_lens[0]))\n",
    "print(\"Maximum review length: {}\".format(max(test_lens)))\n",
    "print(\"Minimum length: {}\".format(min(test_lens)))\n",
    "print(\"Average length: {}\".format(sum(test_lens)/len(test_lens)))"
   ]
  },
  {
   "cell_type": "markdown",
   "metadata": {},
   "source": [
    "The maximum review length is way too many steps for our RNN. Let's truncate to 100 steps. For reviews shorter than 100, we'll pad with 0s. For reviews longer than 100, we can truncate them to the first 200 characters."
   ]
  },
  {
   "cell_type": "markdown",
   "metadata": {},
   "source": [
    "Now, create an array `features` that contains the data we'll pass to the network. The data should come from text ints, since we want to feed integers to the network. Each row should be 100 elements long. For lubes shorter than 200 words, left pad with 0s. \n"
   ]
  },
  {
   "cell_type": "code",
   "execution_count": 18,
   "metadata": {
    "collapsed": true
   },
   "outputs": [],
   "source": [
    "seq_len = 100\n",
    "features = []\n",
    "\n",
    "for review in reviews_ints:\n",
    "    review_size = len(review)\n",
    "    if review_size < seq_len:\n",
    "        padded_review = [0] * seq_len\n",
    "        padded_review[seq_len-len(review):seq_len] = review\n",
    "    elif review_size > seq_len:\n",
    "        padded_review = review[:seq_len]\n",
    "    \n",
    "    features.append(padded_review)\n",
    "features  = np.array(features)"
   ]
  },
  {
   "cell_type": "code",
   "execution_count": 19,
   "metadata": {},
   "outputs": [
    {
     "data": {
      "text/plain": [
       "array([[    0,     0,     0,     0,     0,     0,     0,     0,     0,\n",
       "            0,     0,     0,     0,     0,     0,     0,     0,     0,\n",
       "            0,     0,     0,     0,     0,     0,     0,     0,     0,\n",
       "            0,     0,     0,     0,     0,     0,     0,     0,     0,\n",
       "            0,     0,     0,     0,     0,     0,     0,     0,     0,\n",
       "            0,     0,     0,     0,     0,     0,     0,     0,     0,\n",
       "            0,     0,     0,     0,     0, 48886, 47824, 40352, 56509,\n",
       "        49333, 45944, 33722, 44961, 40662, 32517, 41872, 44961, 40507,\n",
       "        15087,  9755, 23956, 26901, 31856,  8524,  4847, 31397, 56130,\n",
       "        19190, 32517, 44357, 56456, 23956,  8467,  3505, 43994, 35618,\n",
       "        27832, 44961, 32517, 18041, 52610, 33149, 33770, 27605, 32517,\n",
       "        49802],\n",
       "       [    0,     0,     0,     0,     0,     0,     0,     0,     0,\n",
       "            0,     0,     0,     0,     0,     0,     0,     0,     0,\n",
       "            0,     0,     0,     0,     0,     0,     0,     0,     0,\n",
       "            0,     0,     0,     0,     0,     0,     0,     0,     0,\n",
       "            0,     0,     0,     0,     0,     0,     0,     0,     0,\n",
       "            0,     0,     0,     0,     0,     0,     0,     0,     0,\n",
       "            0,     0,     0,     0,     0,     0,     0,     0,     0,\n",
       "            0,     0,     0,     0,     0,     0,     0,     0,     0,\n",
       "            0,     0,     0,     0,     0,     0,     0,     0,     0,\n",
       "            0,     0,     0,     0,     0, 12445, 36801, 45629, 31539,\n",
       "        19190, 49333, 39107, 32517, 36548, 26901,  5490,   661,  8163,\n",
       "        46924],\n",
       "       [    0,     0,     0,     0,     0,     0,     0,     0,     0,\n",
       "            0,     0,     0,     0,     0,     0,     0,     0,     0,\n",
       "            0,     0,     0,     0,     0,     0,     0,     0,     0,\n",
       "            0,     0,     0,     0,     0,     0,     0,     0,     0,\n",
       "            0,     0,     0,     0,     0,     0,     0,     0,     0,\n",
       "            0,     0,     0,     0,     0,     0,     0,     0,     0,\n",
       "            0,     0,     0,     0,     0,     0,     0,     0,     0,\n",
       "            0, 19156,  4704, 56585, 40822, 20885,   661, 21921, 54222,\n",
       "        26008, 49759,  6861,  9755, 38477,  6466, 41627, 32517, 29391,\n",
       "        40799, 42389, 45848, 44961, 38141, 14082, 38477, 22996, 54222,\n",
       "        48474,  2063,   795, 16181, 44961, 32517, 55366, 23043, 16636,\n",
       "        10130],\n",
       "       [    0,     0,     0,     0,     0,     0,     0,     0,     0,\n",
       "            0,     0,     0,     0,     0,     0,     0,     0,     0,\n",
       "            0,     0,     0,     0,     0,     0,     0,     0,     0,\n",
       "            0,     0,     0,     0,     0,     0,     0,     0,     0,\n",
       "            0,     0,     0,     0,     0,     0,     0,     0,     0,\n",
       "            0,     0,     0,     0,     0,     0,     0,     0,     0,\n",
       "            0,     0,     0,     0,     0,     0,     0,     0,     0,\n",
       "            0,     0,     0, 50401, 36994, 13012, 48266, 52779, 34458,\n",
       "        46847, 49759, 18659, 34263, 37646, 32517, 23904, 27124, 11131,\n",
       "        18197, 17287, 36497, 15874, 29582, 30391, 31397, 35055, 12845,\n",
       "        42389, 46847,  9755, 47343,   461, 11471, 24316, 49433, 31397,\n",
       "         7666],\n",
       "       [    0,     0,     0,     0,     0,     0,     0,     0,     0,\n",
       "            0,     0,     0,     0,     0,     0,     0,     0,     0,\n",
       "            0,     0,     0,     0,     0,     0,     0,     0,     0,\n",
       "            0,     0,     0,     0,     0,     0,     0,     0,     0,\n",
       "            0,     0,     0,     0,     0,     0,     0,     0,     0,\n",
       "            0,     0,     0,     0,     0,     0,     0,     0,     0,\n",
       "            0,     0,     0,     0,     0,     0,     0,     0,     0,\n",
       "            0,     0,     0,     0,     0,     0,     0,     0,     0,\n",
       "            0, 30617,  1024, 19976,  8903, 23713, 36213, 32517, 29440,\n",
       "        29886,  4704, 18380, 41135,   661, 22322, 22141, 31036, 45349,\n",
       "        33158,  4704, 27739,  9755, 38477, 27454,  7632, 38336,  4704,\n",
       "        38174],\n",
       "       [    0,     0,     0,     0,     0,     0,     0,     0,     0,\n",
       "            0,     0,     0,     0,     0,     0,     0,     0, 31531,\n",
       "         1172,  5624, 47343,  3238, 40507, 51177, 39004,  2958, 56402,\n",
       "        33626, 47598, 31397,  8122, 54539, 48429, 52610, 39620, 32517,\n",
       "        15552, 44961, 40507, 25502, 39107, 23956, 55225, 28574,   795,\n",
       "        48771, 53142, 19190, 32517, 28263, 53953, 14647, 37646, 12719,\n",
       "         8972, 23956,  5658, 36801, 32425, 23523, 19190,  5490,  5452,\n",
       "        31397, 54527, 23956, 48392, 44961,   661, 52110, 51130, 50003,\n",
       "        42337,  4704, 39915, 44961, 24316, 31397, 32517, 32834, 31397,\n",
       "        17060, 16044, 19190, 54569, 15874,  4704, 44015, 23956, 20193,\n",
       "         4720, 24875, 18692, 47343, 35618, 14977, 19190,  5727,  4704,\n",
       "         2708],\n",
       "       [    0,     0,     0,     0,     0,     0,     0,     0,     0,\n",
       "            0,     0,     0,     0,     0,     0,     0,     0,     0,\n",
       "            0,     0,     0,     0,     0,     0,     0,     0,     0,\n",
       "            0,     0,     0,     0,     0,     0,     0,     0,     0,\n",
       "            0,     0,     0,     0,     0,     0,     0,     0,     0,\n",
       "            0,     0,     0,     0,     0,     0,     0,     0,     0,\n",
       "            0,     0,     0,     0,     0,     0,     0,     0,     0,\n",
       "            0,     0,     0,     0,     0,     0,     0,     0,     0,\n",
       "            0,     0,     0,     0,     0,     0,     0, 56531, 47488,\n",
       "        45593, 38336, 42400, 16886, 22996, 44131, 47343, 32517, 14958,\n",
       "        44961, 53476,  9551, 31397, 31996, 51942, 20885, 53121,  4278,\n",
       "        54010],\n",
       "       [    0,     0,     0,     0,     0,     0,     0,     0,     0,\n",
       "            0,     0,     0,     0,     0,     0,     0,     0,     0,\n",
       "            0,     0,     0,     0,     0,     0,     0,     0,     0,\n",
       "            0,     0,     0,     0,     0,     0,     0,     0,     0,\n",
       "            0,     0,     0,     0,     0,     0,     0,     0,     0,\n",
       "            0,     0,     0,     0,     0,     0,     0,     0,     0,\n",
       "            0,     0,     0,     0,     0,     0,     0,     0,     0,\n",
       "            0,     0,     0,     0,     0,     0,     0,     0,     0,\n",
       "            0,     0,     0,     0,     0,     0,     0,     0,     0,\n",
       "            0,     0,     0,     0,     0,     0,     0,     0,     0,\n",
       "            0,     0, 56531, 12623, 33422, 47343, 24659, 49759, 40507,\n",
       "        52308],\n",
       "       [    0,     0,     0,     0,     0,     0,     0,     0,     0,\n",
       "            0,     0,     0, 23956, 34148, 39107, 44999, 56198,  8903,\n",
       "        44428, 19190, 18819, 41943, 43994, 35618, 44115, 19190, 44991,\n",
       "        44961, 44953, 31397, 10806, 44961, 32517, 27699, 44961, 38069,\n",
       "        31397, 11849, 54527, 34458,  6600, 42400, 34561,  8903, 28425,\n",
       "        29293, 11920, 23956, 38358, 19190, 44999, 47248, 26459, 13694,\n",
       "         2063, 47248, 26853, 47387, 32517, 45415, 22153, 44961, 39107,\n",
       "        53391, 11757, 53100,    68,  2063, 45171, 47343, 32517, 25784,\n",
       "        16914,  4038, 23956, 20193, 39107, 44999, 56198,  8903, 49480,\n",
       "        20263, 33626, 30912, 24250, 19190, 32517, 51770, 32608, 47343,\n",
       "         7477, 31397, 23956, 22751,  4005, 39107, 44999, 23919, 40692,\n",
       "        49243],\n",
       "       [    0,     0,     0,     0,     0,     0,     0,     0,     0,\n",
       "            0,     0,     0,     0,     0,     0,     0,     0,     0,\n",
       "            0,     0,     0,     0,     0,     0,     0,     0,     0,\n",
       "            0,     0,     0,     0,     0,     0,     0,     0,     0,\n",
       "            0,     0,     0,     0,     0,     0,     0,     0,     0,\n",
       "            0,     0,     0,     0,     0,     0,     0,     0,     0,\n",
       "            0,     0,     0,     0,     0,     0,     0,     0,     0,\n",
       "            0,     0,     0,     0,     0,     0,     0,     0,     0,\n",
       "            0,     0,     0,     0,     0, 23956, 30287, 39107, 46534,\n",
       "        32517, 19193, 44961, 18198, 12417, 32517, 40169, 44961, 45728,\n",
       "        12417, 32517, 43856, 44961, 48641, 27013,  7327, 39882, 42337,\n",
       "        12232]])"
      ]
     },
     "execution_count": 19,
     "metadata": {},
     "output_type": "execute_result"
    }
   ],
   "source": [
    "features[:10,:100]"
   ]
  },
  {
   "cell_type": "code",
   "execution_count": 20,
   "metadata": {
    "collapsed": true
   },
   "outputs": [],
   "source": [
    "test_features = []\n",
    "\n",
    "for test_line in test_ints:\n",
    "    line_size = len(test_line)\n",
    "    if line_size < seq_len:\n",
    "        padded_line = [0] * seq_len\n",
    "        padded_line[seq_len-len(test_line):seq_len] = test_line\n",
    "    elif line_size > seq_len:\n",
    "        padded_line = test_line[:seq_len]\n",
    "        \n",
    "    test_features.append(padded_line)\n",
    "\n",
    "test_features = np.array(test_features)"
   ]
  },
  {
   "cell_type": "code",
   "execution_count": 21,
   "metadata": {},
   "outputs": [
    {
     "data": {
      "text/plain": [
       "(8392, 100)"
      ]
     },
     "execution_count": 21,
     "metadata": {},
     "output_type": "execute_result"
    }
   ],
   "source": [
    "test_features.shape"
   ]
  },
  {
   "cell_type": "code",
   "execution_count": 22,
   "metadata": {},
   "outputs": [
    {
     "data": {
      "text/plain": [
       "array([[    0,     0,     0,     0,     0,     0,     0,     0,     0,\n",
       "            0,     0,     0,     0,     0,     0,     0,     0,     0,\n",
       "            0,     0,     0,     0,     0,     0,     0,     0,     0,\n",
       "            0,     0,     0,     0,     0,     0,     0,     0,     0,\n",
       "            0,     0,     0,     0,     0,     0,     0,     0,     0,\n",
       "            0,     0,     0,     0,     0,     0,     0,     0,     0,\n",
       "            0,     0,     0,     0,     0,     0,     0,     0,     0,\n",
       "            0,     0,     0,     0,     0,     0,     0,     0,     0,\n",
       "            0,     0,     0,     0,     0,     0,     0,     0,     0,\n",
       "         3735,  9755, 23956, 49914, 17728, 24553, 12343,  2063, 30171,\n",
       "        46128, 31397,  8773, 40507, 34106, 47091, 23523, 51177, 19190,\n",
       "          791],\n",
       "       [    0,     0,     0,     0,     0,     0,     0,     0,     0,\n",
       "            0,     0,     0,     0,     0,     0,     0,     0,     0,\n",
       "            0,     0,     0,     0,     0,     0,     0,     0,     0,\n",
       "            0,     0,     0,     0,     0,     0,     0,     0,     0,\n",
       "            0,     0, 37181,   661, 42625,  8481, 24827, 23523, 56198,\n",
       "        18565,  5490, 19770,  2063,   661, 42237, 31397,  9755, 32517,\n",
       "         7177, 45396, 35750, 23956,  5658, 45944, 25989, 39107, 39751,\n",
       "        31397, 26779, 21454, 25378, 47343, 44100, 21514, 47343,   661,\n",
       "        28425, 20238,  4062, 29068, 20885,  8903,   661, 49407, 44961,\n",
       "         8158, 47343, 42389,  6587, 39107, 38739, 47054, 47343, 23739,\n",
       "        44961,   661,  9209, 29703, 49576, 32517, 24218, 44961,   661,\n",
       "         5834],\n",
       "       [    0,     0,     0,     0,     0,     0,     0,     0,     0,\n",
       "            0,     0,     0,     0,     0,     0,     0,     0,     0,\n",
       "            0,     0,     0,     0,     0,     0,     0,     0,     0,\n",
       "            0,     0,     0,     0,     0,     0,     0,     0,     0,\n",
       "            0,     0,     0,     0,     0,     0,     0,     0,     0,\n",
       "            0,     0,     0,     0,     0,     0,     0,     0,     0,\n",
       "            0,     0,     0,     0,     0,     0,     0,     0,     0,\n",
       "            0,     0,     0,     0,  6338, 54527, 18788, 53100, 19671,\n",
       "        41627, 32517,  1319, 35710, 18788, 40223, 10666, 50009, 14596,\n",
       "        38467, 47308, 25720, 45054, 37646, 32517, 45315, 43109, 31397,\n",
       "          661, 53909, 44961,  6296, 24128,  6883, 47343, 32517, 54984,\n",
       "        41466],\n",
       "       [    0,     0,     0,     0,     0,     0,     0,     0,     0,\n",
       "            0,     0,     0,     0,     0,     0,     0,     0,     0,\n",
       "            0,     0,     0,     0,     0,     0,     0,     0,     0,\n",
       "            0,     0,     0,     0,     0,     0,     0,     0,     0,\n",
       "            0,     0,     0,     0,     0,     0,     0,     0,     0,\n",
       "            0,     0,     0,     0,     0,     0,     0,     0,     0,\n",
       "            0,     0,     0,     0,     0, 24345, 23956, 20885,  7632,\n",
       "        47248, 23956, 19448, 20162, 30613, 43994, 40670, 45736,  5845,\n",
       "         4622, 37199, 44961, 40507,  7564, 56484, 31470, 41627, 32517,\n",
       "        11125, 17168, 44961, 32517, 21307, 19719, 47343, 32517, 47038,\n",
       "        50121, 46192, 44204, 23566, 32517, 20733, 44961, 32517, 25633,\n",
       "          740],\n",
       "       [    0,     0,     0,     0,     0,     0,     0,     0,     0,\n",
       "            0,     0,     0,     0,     0,     0,     0,     0,     0,\n",
       "            0,     0,     0,     0,     0,     0,     0,     0,     0,\n",
       "            0,     0,     0,     0,     0,     0,     0,     0,     0,\n",
       "            0,     0,     0,     0,     0,     0,     0,     0,     0,\n",
       "            0,     0,     0,     0,     0,     0,     0,     0,     0,\n",
       "            0,     0,     0,     0,     0,     0,     0,     0,     0,\n",
       "            0,     0,     0,     0,     0,     0,     0,     0,     0,\n",
       "            0,     0,     0,     0,     0,     0,     0,     0,     0,\n",
       "            0,     0,     0,     0,     0,     0,     0,     0, 23956,\n",
       "        16765,  8903,  5009, 19190, 20747, 49314,  4704,  8077, 22476,\n",
       "        32612],\n",
       "       [    0,     0,     0,     0,     0,     0,     0,     0,     0,\n",
       "            0,     0,     0,     0,     0,     0,     0,     0,     0,\n",
       "            0,     0,     0,     0,     0,     0,     0,     0,     0,\n",
       "            0,     0,     0,     0,     0,     0,     0,     0,     0,\n",
       "            0,     0,     0,     0,     0,     0,     0,     0,     0,\n",
       "            0,     0,     0,     0,     0,     0,     0,     0,     0,\n",
       "            0,     0,     0,     0,     0,     0,     0,     0,     0,\n",
       "            0,     0,     0,     0,     0,   846, 38804, 31397, 43031,\n",
       "         5365, 29703, 32821, 46192, 15534, 32517, 52669, 44359, 31397,\n",
       "        46192, 33334, 33422, 13407, 33158, 42389, 52338,  3838, 45944,\n",
       "        55121, 19190, 53566, 32517, 45415, 36039, 46192, 32927, 51190,\n",
       "         3413],\n",
       "       [    0,     0,     0,     0,     0,     0,     0,     0,     0,\n",
       "            0,     0,     0,     0,     0,     0,     0,     0,     0,\n",
       "            0,     0,     0,     0,     0,     0,     0,     0,     0,\n",
       "            0,     0,     0,     0,     0,     0,     0,     0,     0,\n",
       "            0,     0,     0,     0,     0,     0,     0,     0,     0,\n",
       "            0,     0,     0,     0,     0,     0,     0,     0,     0,\n",
       "            0,     0,     0,     0,     0,     0,     0,     0,     0,\n",
       "            0,     0,     0,     0,     0,     0,     0,     0,     0,\n",
       "            0,     0,     0,     0,     0,     0,     0,     0,     0,\n",
       "            0,     0,     0,     0,     0,     0, 53557, 46192, 13012,\n",
       "         8903, 50595, 13012,  8903, 38336, 42389, 26767, 18204, 51191,\n",
       "        36353],\n",
       "       [    0,     0,     0,     0,     0,     0,     0,     0,     0,\n",
       "            0,     0,     0,     0,     0,     0,     0,     0,     0,\n",
       "            0,     0,     0,     0,     0,     0,     0,     0,     0,\n",
       "            0,     0,     0,     0,     0,     0,     0,     0,     0,\n",
       "            0,     0,     0,     0,     0,     0,     0,     0,     0,\n",
       "            0,     0,     0,     0,     0,     0,     0,     0,     0,\n",
       "            0,     0,     0,     0,     0,     0,     0,     0,     0,\n",
       "            0,     0,     0,     0,     0,     0,     0, 23956, 56098,\n",
       "        42337, 17652, 34827, 23956, 39389,  8903, 35489, 42337, 54895,\n",
       "        23956, 34148, 23956, 19448,  5490, 30893, 15874, 25411, 41135,\n",
       "        39389,  8903, 41424, 32517, 29883, 45736, 39107, 23956, 38278,\n",
       "        22947],\n",
       "       [    0,     0,     0,     0,     0,     0,     0,     0,     0,\n",
       "            0,     0,     0,     0,     0,     0,     0,     0,     0,\n",
       "            0,     0,     0,     0,     0,     0,     0,     0,     0,\n",
       "            0,     0,     0,     0,     0,     0,     0,     0,     0,\n",
       "            0,     0,     0,     0,     0,     0,     0,     0,     0,\n",
       "            0,     0,     0,     0,     0,     0,     0,     0,     0,\n",
       "            0,     0,     0,     0,     0,     0,     0,     0,     0,\n",
       "            0,     0,     0,     0,     0,     0,     0,     0,     0,\n",
       "        44473, 32517, 10152,  2316, 44961, 32517, 54472,   661,  1388,\n",
       "        44961, 32517, 48257, 44088, 28425, 41186, 26807, 32517,  9004,\n",
       "        31397, 25061, 33233, 19190, 31856, 48909, 16428, 44961, 32517,\n",
       "         2213],\n",
       "       [    0,     0,     0,     0,     0,     0,     0,     0,     0,\n",
       "            0,     0,     0,     0,     0,     0,     0,     0,     0,\n",
       "            0,     0,     0,     0,     0,     0,     0,     0,     0,\n",
       "            0,     0,     0,     0,     0,     0,     0,     0,     0,\n",
       "            0,     0,     0,     0,     0,     0,     0,     0,     0,\n",
       "            0,     0,     0,     0,     0,     0,     0,     0,     0,\n",
       "            0,     0,     0,     0,     0,     0,     0,     0,     0,\n",
       "            0,     0,     0,     0,     0,     0,     0,     0,     0,\n",
       "            0,     0,     0,     0,     0,     0,     0,     0,     0,\n",
       "            0,     0,     0,     0,     0,     0,     0,     0,     0,\n",
       "            0,     0,   846,   655, 53074, 13012, 46195,   661, 41835,\n",
       "        29364]])"
      ]
     },
     "execution_count": 22,
     "metadata": {},
     "output_type": "execute_result"
    }
   ],
   "source": [
    "test_features[:10,:100]"
   ]
  },
  {
   "cell_type": "markdown",
   "metadata": {},
   "source": [
    "## Training, Validation, Test\n",
    "\n"
   ]
  },
  {
   "cell_type": "markdown",
   "metadata": {},
   "source": [
    "With our data in nice shape, we'll split it into training, validation, and test sets."
   ]
  },
  {
   "cell_type": "code",
   "execution_count": 23,
   "metadata": {},
   "outputs": [
    {
     "name": "stdout",
     "output_type": "stream",
     "text": [
      "\t\t\tFeature Shapes:\n",
      "Train set: \t\t(15663, 100) \n",
      "Validation set: \t(1958, 100) \n",
      "Test set: \t\t(1958, 100)\n"
     ]
    }
   ],
   "source": [
    "split_frac = 0.8\n",
    "\n",
    "split_index  = int(len(features)*split_frac)\n",
    "\n",
    "train_x, val_x = features[:split_index],features[split_index:]\n",
    "train_y, val_y = one_hot_labels[:split_index],one_hot_labels[split_index:]\n",
    "\n",
    "split_index = int(len(val_x)/2)\n",
    "\n",
    "val_x, test_x = val_x[:split_index],val_x[split_index:]\n",
    "val_y, test_y = val_y[:split_index],val_y[split_index:]\n",
    "\n",
    "print(\"\\t\\t\\tFeature Shapes:\")\n",
    "print(\"Train set: \\t\\t{}\".format(train_x.shape), \n",
    "      \"\\nValidation set: \\t{}\".format(val_x.shape),\n",
    "      \"\\nTest set: \\t\\t{}\".format(test_x.shape))\n"
   ]
  },
  {
   "cell_type": "markdown",
   "metadata": {},
   "source": [
    "## Build the graph\n",
    "\n",
    "Here, we'll build the graph. First up, defining the hyperparameters.\n",
    "\n",
    "* `lstm_size`: Number of units in the hidden layers in the LSTM cells. Usually larger is better performance wise. Common values are 128, 256, 512, etc.\n",
    "* `lstm_layers`: Number of LSTM layers in the network. I'd start with 1, then add more if I'm underfitting.\n",
    "* `batch_size`: The number of reviews to feed the network in one training pass. Typically this should be set as high as you can go without running out of memory.\n",
    "* `learning_rate`: Learning rate"
   ]
  },
  {
   "cell_type": "code",
   "execution_count": 24,
   "metadata": {
    "collapsed": true
   },
   "outputs": [],
   "source": [
    "lstm_size = 500\n",
    "lstm_layers = 1\n",
    "batch_size = 500\n",
    "learning_rate = 0.005\n",
    "dropout_prob = 0.25"
   ]
  },
  {
   "cell_type": "markdown",
   "metadata": {},
   "source": [
    "For the network itself, we'll be passing in our 100 element long review vectors. Each batch will be `batch_size` vectors. We'll also be using dropout on the LSTM layer, so we'll make a placeholder for the keep probability."
   ]
  },
  {
   "cell_type": "code",
   "execution_count": 25,
   "metadata": {
    "collapsed": true
   },
   "outputs": [],
   "source": [
    "n_words = len(vocab_to_int)\n",
    "\n",
    "# Create the graph object\n",
    "graph = tf.Graph()\n",
    "# Add nodes to the graph\n",
    "with graph.as_default():\n",
    "    inputs_ = tf.placeholder(tf.int32,shape=[batch_size,None],name=\"inputs\")\n",
    "    labels_ = tf.placeholder(tf.int32,shape=[batch_size,len(unique_labels)],name = \"labels\")\n",
    "    keep_prob = tf.placeholder(tf.float32,name =\"keep_prob\")\n",
    "    learning_rate_ = tf.placeholder(tf.float32,name = \"learning_rate\") "
   ]
  },
  {
   "cell_type": "markdown",
   "metadata": {},
   "source": [
    "### Embedding\n",
    "\n",
    "Now we'll add an embedding layer. We need to do this because there are many words in our vocabulary. It is massively inefficient to one-hot encode our classes here. Instead of one-hot encoding, we can have an embedding layer and use that layer as a lookup table. You could train an embedding layer using word2vec, then load it here. But, it's fine to just make a new layer and let the network learn the weights.\n",
    "\n",
    " Create the embedding lookup matrix as a `tf.Variable`. Use that embedding matrix to get the embedded vectors to pass to the LSTM cell with [`tf.nn.embedding_lookup`](https://www.tensorflow.org/api_docs/python/tf/nn/embedding_lookup). This function takes the embedding matrix and an input tensor, such as the review vectors. Then, it'll return another tensor with the embedded vectors. So, if the embedding layer has 200 units, the function will return a tensor with size [batch_size, 200].\n",
    "\n"
   ]
  },
  {
   "cell_type": "code",
   "execution_count": 26,
   "metadata": {
    "collapsed": true
   },
   "outputs": [],
   "source": [
    "# Size of the embedding vectors (number of units in the embedding layer)\n",
    "embed_size = 300 \n",
    "\n",
    "with graph.as_default():\n",
    "    embedding = tf.Variable(tf.random_uniform((n_words,embed_size),-0.5,0.5))\n",
    "    embed = tf.nn.embedding_lookup(embedding,inputs_)"
   ]
  },
  {
   "cell_type": "markdown",
   "metadata": {},
   "source": [
    "### LSTM cell\n",
    "\n",
    "<img src=\"assets/network_diagram.png\" width=400px>\n",
    "\n",
    "Next, we'll create our LSTM cells to use in the recurrent network ([TensorFlow documentation](https://www.tensorflow.org/api_docs/python/tf/contrib/rnn)). Here we are just defining what the cells look like. This isn't actually building the graph, just defining the type of cells we want in our graph.\n",
    "\n",
    "To create a basic LSTM cell for the graph, you'll want to use `tf.contrib.rnn.BasicLSTMCell`. Looking at the function documentation:\n",
    "\n",
    "```\n",
    "tf.contrib.rnn.BasicLSTMCell(num_units, forget_bias=1.0, input_size=None, state_is_tuple=True, activation=<function tanh at 0x109f1ef28>)\n",
    "```\n",
    "\n",
    "you can see it takes a parameter called `num_units`, the number of units in the cell, called `lstm_size` in this code. So then, you can write something like \n",
    "\n",
    "```\n",
    "lstm = tf.contrib.rnn.BasicLSTMCell(num_units)\n",
    "```\n",
    "\n",
    "to create an LSTM cell with `num_units`. Next, you can add dropout to the cell with `tf.contrib.rnn.DropoutWrapper`. This just wraps the cell in another cell, but with dropout added to the inputs and/or outputs. It's a really convenient way to make your network better with almost no effort! So you'd do something like\n",
    "\n",
    "```\n",
    "drop = tf.contrib.rnn.DropoutWrapper(cell, output_keep_prob=keep_prob)\n",
    "```\n",
    "\n",
    "Most of the time, your network will have better performance with more layers. That's sort of the magic of deep learning, adding more layers allows the network to learn really complex relationships. Again, there is a simple way to create multiple layers of LSTM cells with `tf.contrib.rnn.MultiRNNCell`:\n",
    "\n",
    "```\n",
    "cell = tf.contrib.rnn.MultiRNNCell([drop] * lstm_layers)\n",
    "```\n",
    "\n",
    "Here, `[drop] * lstm_layers` creates a list of cells (`drop`) that is `lstm_layers` long. The `MultiRNNCell` wrapper builds this into multiple layers of RNN cells, one for each cell in the list.\n",
    "\n",
    "So the final cell you're using in the network is actually multiple (or just one) LSTM cells with dropout. But it all works the same from an achitectural viewpoint, just a more complicated graph in the cell.\n",
    "\n",
    "> **Exercise:** Below, use `tf.contrib.rnn.BasicLSTMCell` to create an LSTM cell. Then, add drop out to it with `tf.contrib.rnn.DropoutWrapper`. Finally, create multiple LSTM layers with `tf.contrib.rnn.MultiRNNCell`.\n",
    "\n",
    "Here is [a tutorial on building RNNs](https://www.tensorflow.org/tutorials/recurrent) that will help you out.\n"
   ]
  },
  {
   "cell_type": "code",
   "execution_count": 27,
   "metadata": {
    "collapsed": true
   },
   "outputs": [],
   "source": [
    "with graph.as_default():\n",
    "    # Your basic LSTM cell\n",
    "    #lstm = tf.contrib.rnn.BasicLSTMCell(num_units=lstm_size)\n",
    "    \n",
    "    # Add dropout to the cell\n",
    "    #drop = tf.contrib.rnn.DropoutWrapper(lstm,output_keep_prob=keep_prob)\n",
    "    \n",
    "    # Stack up multiple LSTM layers, for deep learning\n",
    "    #cell = tf.contrib.rnn.MultiRNNCell([drop]*lstm_layers)\n",
    "    cell_list = [tf.contrib.rnn.DropoutWrapper(tf.contrib.rnn.BasicLSTMCell(num_units=lstm_size) ,output_keep_prob=keep_prob)  ]\n",
    "    cell = tf.contrib.rnn.MultiRNNCell(cell_list)\n",
    "    # Getting an initial state of all zeros\n",
    "    initial_state = cell.zero_state(batch_size, tf.float32)"
   ]
  },
  {
   "cell_type": "markdown",
   "metadata": {},
   "source": [
    "### RNN forward pass\n",
    "\n",
    "<img src=\"assets/network_diagram.png\" width=400px>\n",
    "\n",
    "Now we need to actually run the data through the RNN nodes. You can use [`tf.nn.dynamic_rnn`](https://www.tensorflow.org/api_docs/python/tf/nn/dynamic_rnn) to do this. You'd pass in the RNN cell you created (our multiple layered LSTM `cell` for instance), and the inputs to the network.\n",
    "\n",
    "```\n",
    "outputs, final_state = tf.nn.dynamic_rnn(cell, inputs, initial_state=initial_state)\n",
    "```\n",
    "\n",
    "Above I created an initial state, `initial_state`, to pass to the RNN. This is the cell state that is passed between the hidden layers in successive time steps. `tf.nn.dynamic_rnn` takes care of most of the work for us. We pass in our cell and the input to the cell, then it does the unrolling and everything else for us. It returns outputs for each time step and the final_state of the hidden layer.\n",
    "\n",
    "> **Exercise:** Use `tf.nn.dynamic_rnn` to add the forward pass through the RNN. Remember that we're actually passing in vectors from the embedding layer, `embed`.\n",
    "\n"
   ]
  },
  {
   "cell_type": "code",
   "execution_count": 28,
   "metadata": {
    "collapsed": true
   },
   "outputs": [],
   "source": [
    "with graph.as_default():\n",
    "    outputs, final_state = tf.nn.dynamic_rnn(cell,embed,initial_state=initial_state)"
   ]
  },
  {
   "cell_type": "markdown",
   "metadata": {},
   "source": [
    "### Output\n",
    "\n",
    "We only care about the final output, we'll be using that as our sentiment prediction. So we need to grab the last output with `outputs[:, -1]`, the calculate the cost from that and `labels_`."
   ]
  },
  {
   "cell_type": "code",
   "execution_count": 29,
   "metadata": {
    "collapsed": true
   },
   "outputs": [],
   "source": [
    "with graph.as_default():\n",
    "    fully_connected = tf.contrib.layers.fully_connected(outputs[:, -1], 10, activation_fn=tf.nn.relu)\n",
    "    fully_connected = tf.contrib.layers.fully_connected(fully_connected, 3, activation_fn=tf.nn.relu)\n",
    "    logits = tf.identity(fully_connected)\n",
    "    cost = tf.reduce_mean(tf.nn.softmax_cross_entropy_with_logits(logits = logits, labels=labels_))\n",
    "    \n",
    "    optimizer = tf.train.AdamOptimizer(learning_rate_).minimize(cost)"
   ]
  },
  {
   "cell_type": "markdown",
   "metadata": {},
   "source": [
    "### Validation accuracy\n",
    "\n",
    "Here we can add a few nodes to calculate the accuracy which we'll use in the validation pass."
   ]
  },
  {
   "cell_type": "code",
   "execution_count": 30,
   "metadata": {
    "collapsed": true
   },
   "outputs": [],
   "source": [
    "with graph.as_default():\n",
    "    predictions = tf.nn.softmax(logits)\n",
    "    predictions_hardmax = tf.argmax(predictions,1)\n",
    "#    correct_pred = tf.equal(tf.cast(tf.round(predictions), tf.int32), labels_)\n",
    "#    accuracy = tf.reduce_mean(tf.cast(correct_pred, tf.float32))"
   ]
  },
  {
   "cell_type": "markdown",
   "metadata": {},
   "source": [
    "### Batching\n",
    "\n",
    "This is a simple function for returning batches from our data. First it removes data such that we only have full batches. Then it iterates through the `x` and `y` arrays and returns slices out of those arrays with size `[batch_size]`."
   ]
  },
  {
   "cell_type": "code",
   "execution_count": 31,
   "metadata": {
    "collapsed": true
   },
   "outputs": [],
   "source": [
    "def get_batches(x, y, batch_size=100):\n",
    "    \n",
    "    n_batches = len(x)//batch_size\n",
    "    x, y = x[:n_batches*batch_size], y[:n_batches*batch_size]\n",
    "    for ii in range(0, len(x), batch_size):\n",
    "        yield x[ii:ii+batch_size], y[ii:ii+batch_size]"
   ]
  },
  {
   "cell_type": "markdown",
   "metadata": {},
   "source": [
    "## Training\n",
    "\n",
    "Below is the typical training code. If you want to do this yourself, feel free to delete all this code and implement it yourself. Before you run this, make sure the `checkpoints` directory exists."
   ]
  },
  {
   "cell_type": "code",
   "execution_count": 32,
   "metadata": {},
   "outputs": [],
   "source": [
    "def calc_classification_metrics(predictions,real_values):\n",
    "    accuracy =  sum(predictions == real_values)/predictions.shape[0] # metrics.accuracy_score(predictions,real_values)\n",
    "    error = 1 - accuracy\n",
    "    precision = 0# metrics.precision_score(predictions,real_values)\n",
    "    recall = 0#metrics.recall_score(predictions,real_values)\n",
    "    \n",
    "    return accuracy,error,precision,recall\n"
   ]
  },
  {
   "cell_type": "code",
   "execution_count": 33,
   "metadata": {},
   "outputs": [
    {
     "name": "stdout",
     "output_type": "stream",
     "text": [
      "Epoch: 1/5 Iteration: 5 Train loss: 1.108 Train accuracy: 0.468 Train error: 0.532 Cal cost: 1.112 Val acc: 0.369\n",
      "Epoch: 1/5 Iteration: 10 Train loss: 1.110 Train accuracy: 0.322 Train error: 0.678 Cal cost: 1.095 Val acc: 0.354\n",
      "Epoch: 1/5 Iteration: 15 Train loss: 1.094 Train accuracy: 0.362 Train error: 0.638 Cal cost: 1.068 Val acc: 0.403\n",
      "Epoch: 1/5 Iteration: 20 Train loss: 1.069 Train accuracy: 0.364 Train error: 0.636 Cal cost: 1.077 Val acc: 0.381\n",
      "Epoch: 1/5 Iteration: 25 Train loss: 1.069 Train accuracy: 0.434 Train error: 0.566 Cal cost: 1.057 Val acc: 0.425\n",
      "val cost 1.06275 0.425333333333\n",
      "Epoch: 1/5 Iteration: 30 Train loss: 1.057 Train accuracy: 0.464 Train error: 0.536 Cal cost: 1.054 Val acc: 0.436\n",
      "Epoch: 2/5 Iteration: 35 Train loss: 1.017 Train accuracy: 0.488 Train error: 0.512 Cal cost: 1.024 Val acc: 0.481\n",
      "Epoch: 2/5 Iteration: 40 Train loss: 0.998 Train accuracy: 0.512 Train error: 0.488 Cal cost: 0.997 Val acc: 0.503\n",
      "Epoch: 2/5 Iteration: 45 Train loss: 0.974 Train accuracy: 0.588 Train error: 0.412 Cal cost: 0.961 Val acc: 0.551\n",
      "Epoch: 2/5 Iteration: 50 Train loss: 0.897 Train accuracy: 0.592 Train error: 0.408 Cal cost: 0.945 Val acc: 0.555\n",
      "val cost 0.948346 0.555333333333\n",
      "Epoch: 2/5 Iteration: 55 Train loss: 0.866 Train accuracy: 0.620 Train error: 0.380 Cal cost: 0.886 Val acc: 0.612\n",
      "Epoch: 2/5 Iteration: 60 Train loss: 0.806 Train accuracy: 0.704 Train error: 0.296 Cal cost: 0.829 Val acc: 0.655\n",
      "Epoch: 3/5 Iteration: 65 Train loss: 0.632 Train accuracy: 0.820 Train error: 0.180 Cal cost: 0.838 Val acc: 0.657\n",
      "Epoch: 3/5 Iteration: 70 Train loss: 0.569 Train accuracy: 0.814 Train error: 0.186 Cal cost: 0.751 Val acc: 0.703\n",
      "Epoch: 3/5 Iteration: 75 Train loss: 0.605 Train accuracy: 0.780 Train error: 0.220 Cal cost: 0.758 Val acc: 0.707\n",
      "val cost 0.750865 0.706666666667\n",
      "Epoch: 3/5 Iteration: 80 Train loss: 0.524 Train accuracy: 0.834 Train error: 0.166 Cal cost: 0.685 Val acc: 0.725\n",
      "Epoch: 3/5 Iteration: 85 Train loss: 0.440 Train accuracy: 0.872 Train error: 0.128 Cal cost: 0.647 Val acc: 0.747\n",
      "Epoch: 3/5 Iteration: 90 Train loss: 0.332 Train accuracy: 0.902 Train error: 0.098 Cal cost: 0.655 Val acc: 0.754\n",
      "Epoch: 4/5 Iteration: 95 Train loss: 0.292 Train accuracy: 0.924 Train error: 0.076 Cal cost: 0.632 Val acc: 0.771\n",
      "Epoch: 4/5 Iteration: 100 Train loss: 0.288 Train accuracy: 0.894 Train error: 0.106 Cal cost: 0.718 Val acc: 0.718\n",
      "val cost 0.71023 0.718\n",
      "Epoch: 4/5 Iteration: 105 Train loss: 0.246 Train accuracy: 0.930 Train error: 0.070 Cal cost: 0.740 Val acc: 0.745\n",
      "Epoch: 4/5 Iteration: 110 Train loss: 0.219 Train accuracy: 0.930 Train error: 0.070 Cal cost: 0.659 Val acc: 0.767\n",
      "Epoch: 4/5 Iteration: 115 Train loss: 0.232 Train accuracy: 0.934 Train error: 0.066 Cal cost: 0.645 Val acc: 0.778\n",
      "Epoch: 4/5 Iteration: 120 Train loss: 0.179 Train accuracy: 0.950 Train error: 0.050 Cal cost: 0.636 Val acc: 0.778\n",
      "Epoch: 5/5 Iteration: 125 Train loss: 0.120 Train accuracy: 0.968 Train error: 0.032 Cal cost: 0.681 Val acc: 0.785\n",
      "val cost 0.718523 0.785333333333\n",
      "Epoch: 5/5 Iteration: 130 Train loss: 0.168 Train accuracy: 0.954 Train error: 0.046 Cal cost: 0.695 Val acc: 0.778\n",
      "Epoch: 5/5 Iteration: 135 Train loss: 0.107 Train accuracy: 0.968 Train error: 0.032 Cal cost: 0.674 Val acc: 0.772\n",
      "Epoch: 5/5 Iteration: 140 Train loss: 0.095 Train accuracy: 0.972 Train error: 0.028 Cal cost: 0.693 Val acc: 0.774\n",
      "Epoch: 5/5 Iteration: 145 Train loss: 0.155 Train accuracy: 0.962 Train error: 0.038 Cal cost: 0.723 Val acc: 0.783\n",
      "Epoch: 5/5 Iteration: 150 Train loss: 0.087 Train accuracy: 0.978 Train error: 0.022 Cal cost: 0.759 Val acc: 0.784\n",
      "val cost 0.772991 0.784\n",
      "Epoch: 5/5 Iteration: 155 Train loss: 0.107 Train accuracy: 0.976 Train error: 0.024 Cal cost: 0.700 Val acc: 0.773\n"
     ]
    }
   ],
   "source": [
    "epochs = 5\n",
    "\n",
    "with graph.as_default():\n",
    "    saver = tf.train.Saver()\n",
    "\n",
    "with tf.Session(graph=graph) as sess:\n",
    "    sess.run(tf.global_variables_initializer())\n",
    "    iteration = 1\n",
    "    for e in range(epochs):\n",
    "        state = sess.run(initial_state)\n",
    "        \n",
    "        for ii, (x, y) in enumerate(get_batches(train_x, train_y, batch_size), 1):\n",
    "            feed_dict = {inputs_: x,\n",
    "                    labels_: y,\n",
    "                    keep_prob: dropout_prob,\n",
    "                    initial_state: state,\n",
    "                        learning_rate_ : learning_rate}\n",
    "            loss, state, _ = sess.run([cost, final_state, optimizer], feed_dict=feed_dict)\n",
    "            \n",
    "            if iteration%5==0:\n",
    "                val_acc = []\n",
    "                val_costs = []\n",
    "                \n",
    "                train_prediction_hardmax = sess.run(predictions_hardmax,feed_dict=feed_dict)\n",
    "                train_real_hardmax = np.argmax(y,1)\n",
    "                train_accuracy,train_error,train_precision,train_recall  = calc_classification_metrics(train_prediction_hardmax,train_real_hardmax)\n",
    "                \n",
    "                val_state = sess.run(cell.zero_state(batch_size, tf.float32))\n",
    "                \n",
    "                for x, y in get_batches(val_x, val_y, batch_size):\n",
    "                    feed_dict = {inputs_: x,\n",
    "                            labels_: y,\n",
    "                            keep_prob: 1,\n",
    "                            initial_state: val_state,\n",
    "                        learning_rate_ : learning_rate}\n",
    "                    \n",
    "                    val_prediction = sess.run(predictions,feed_dict=feed_dict)\n",
    "                    val_cost = sess.run(cost,feed_dict=feed_dict)\n",
    "                    val_prediction_hardmax = sess.run(predictions_hardmax,feed_dict=feed_dict)\n",
    "                    val_real_hardmax = np.argmax(y,1)\n",
    "                    val_accuracy,val_error,val_precision,val_recall  = calc_classification_metrics(val_prediction_hardmax,val_real_hardmax)\n",
    "                    val_acc.append(val_accuracy)\n",
    "                    val_costs.append(val_cost)\n",
    "                \n",
    "                val_cost = np.mean(val_costs)  \n",
    "                val_acc  = np.mean(val_acc)\n",
    "                print(\"Epoch: {}/{}\".format(e+1, epochs),\n",
    "                      \"Iteration: {}\".format(iteration),\n",
    "                      \"Train loss: {:.3f}\".format(loss),\n",
    "                      \"Train accuracy: {:.3f}\".format(train_accuracy),\n",
    "                     \"Train error: {:.3f}\".format(train_error),\n",
    "                      \"Cal cost: {:.3f}\".format(val_cost),\n",
    "                      \"Val acc: {:.3f}\".format(val_acc)\n",
    "                     )\n",
    "\n",
    "                    \n",
    "            if iteration%25==0:\n",
    "                val_acc = []\n",
    "                val_costs = []\n",
    "                val_state = sess.run(cell.zero_state(batch_size, tf.float32))\n",
    "                for x, y in get_batches(val_x, val_y, batch_size):\n",
    "                    feed_dict = {inputs_: x,\n",
    "                            labels_: y,\n",
    "                            keep_prob: 1,\n",
    "                            initial_state: val_state,\n",
    "                        learning_rate_ : learning_rate}\n",
    "                    \n",
    "                    val_prediction = sess.run(predictions,feed_dict=feed_dict)\n",
    "                    val_cost = sess.run(cost,feed_dict=feed_dict)\n",
    "                    val_prediction_hardmax = sess.run(predictions_hardmax,feed_dict=feed_dict)\n",
    "                    val_real_hardmax = np.argmax(y,1)\n",
    "                    val_accuracy,val_error,val_precision,val_recall  = calc_classification_metrics(val_prediction_hardmax,val_real_hardmax)\n",
    "                    val_acc.append(val_accuracy)\n",
    "                    val_costs.append(val_cost)\n",
    "                    \n",
    "                print(\"val cost\",np.mean(val_cost) , np.mean(val_acc) )\n",
    "                    \n",
    "                    #batch_acc, val_state = sess.run([accuracy, final_state], feed_dict=feed)\n",
    "                    #val_acc.append(batch_acc)\n",
    "                #print(\"Val acc: {:.3f}\".format(np.mean(val_acc)))\n",
    "            iteration +=1\n",
    "            learning_rate = 0.99 * learning_rate\n",
    "    saver.save(sess, \"checkpoints/checkpoint.ckpt\")"
   ]
  },
  {
   "cell_type": "markdown",
   "metadata": {},
   "source": [
    "## Testing"
   ]
  },
  {
   "cell_type": "code",
   "execution_count": 34,
   "metadata": {},
   "outputs": [
    {
     "name": "stdout",
     "output_type": "stream",
     "text": [
      "INFO:tensorflow:Restoring parameters from checkpoints/checkpoint.ckpt\n",
      "(500, 100) (500, 3)\n",
      "test cost 0.722972 0.778\n",
      "(500, 100) (500, 3)\n",
      "test cost 0.679867 0.77\n",
      "(500, 100) (500, 3)\n",
      "test cost 0.586103 0.798\n"
     ]
    }
   ],
   "source": [
    "test_acc = []\n",
    "with tf.Session(graph=graph) as sess:\n",
    "    saver.restore(sess, tf.train.latest_checkpoint('checkpoints'))\n",
    "    test_state = sess.run(cell.zero_state(batch_size, tf.float32))\n",
    "    for ii, (x, y) in enumerate(get_batches(test_x, test_y, batch_size), 1):\n",
    "        print(x.shape,y.shape)\n",
    "        feed_dict = {inputs_: x,\n",
    "                labels_: y,\n",
    "                keep_prob: 1,\n",
    "                initial_state: test_state,\n",
    "                        learning_rate_ : learning_rate}\n",
    "        \n",
    "        test_prediction = sess.run(predictions,feed_dict=feed_dict)\n",
    "        test_cost = sess.run(cost,feed_dict=feed_dict)\n",
    "        test_prediction_hardmax = sess.run(predictions_hardmax,feed_dict=feed_dict)\n",
    "        test_real_hardmax = np.argmax(y,1)\n",
    "        test_accuracy,test_error,test_precision,test_recall  = calc_classification_metrics(test_prediction_hardmax,test_real_hardmax)\n",
    "        print(\"test cost\",test_cost , test_accuracy )\n",
    "        #batch_acc, test_state = sess.run([accuracy, final_state], feed_dict=feed)\n",
    "        #test_acc.append(batch_acc)\n",
    "        #print(x.shape,y.shape)\n",
    "    #print(\"Test accuracy: {:.3f}\".format(np.mean(test_acc)))"
   ]
  },
  {
   "cell_type": "markdown",
   "metadata": {},
   "source": [
    "## Generate submission file"
   ]
  },
  {
   "cell_type": "code",
   "execution_count": 35,
   "metadata": {},
   "outputs": [
    {
     "name": "stdout",
     "output_type": "stream",
     "text": [
      "INFO:tensorflow:Restoring parameters from checkpoints/checkpoint.ckpt\n",
      "finished batch 0\n",
      "finished batch 1\n",
      "finished batch 2\n",
      "finished batch 3\n",
      "finished batch 4\n",
      "finished batch 5\n",
      "finished batch 6\n",
      "finished batch 7\n",
      "finished batch 8\n",
      "finished batch 9\n",
      "finished batch 10\n",
      "finished batch 11\n",
      "finished batch 12\n",
      "finished batch 13\n",
      "finished batch 14\n",
      "finished batch 15\n",
      "Last minibatch 8000 , 8392\n",
      "finished batch 16\n"
     ]
    }
   ],
   "source": [
    "with tf.Session(graph=graph) as sess:\n",
    "    saver.restore(sess, tf.train.latest_checkpoint('checkpoints'))\n",
    "    test_state = sess.run(cell.zero_state(batch_size, tf.float32))\n",
    "    \n",
    "    full_batches =  int(test_features.shape[0]/batch_size)\n",
    "    submit_file = open(\"submission.csv\",\"w\")\n",
    "    csv_writer = csv.writer(submit_file,delimiter = \",\")\n",
    "    header = [\"id\",\"EAP\",\"HPL\",\"MWS\"]\n",
    "    csv_writer.writerow(header)\n",
    "    \n",
    "    # TODO: find a way to send 1 line at a time without having to take special care of last incomplete batch\n",
    "    for i in range(full_batches):\n",
    "        batch = test_features[ (i*batch_size):((i+1)*batch_size)]\n",
    "\n",
    "        feed_dict = {inputs_: batch,\n",
    "                keep_prob: 1,\n",
    "                initial_state: test_state,\n",
    "                        learning_rate_ : learning_rate}\n",
    "    \n",
    "        test_prediction = sess.run(predictions,feed_dict=feed_dict)\n",
    "        test_prediction_hardmax = np.argmax(test_prediction,1)\n",
    "    \n",
    "        for j,prediction in enumerate(test_prediction_hardmax):\n",
    "            EAP_prob = test_prediction[j,labels_to_int[\"EAP\"]]\n",
    "            HPL_prob = test_prediction[j,labels_to_int[\"HPL\"]]\n",
    "            MWS_prob = test_prediction[j,labels_to_int[\"MWS\"]]\n",
    "        \n",
    "            line = [test_ids[(i*batch_size + j)] , EAP_prob, HPL_prob, MWS_prob]\n",
    "            csv_writer.writerow(line)\n",
    "        \n",
    "        print(\"finished batch {}\".format(i))\n",
    "            #print(\"Finished writing {}\".format(i))\n",
    "            #print(test_ids[i] ,test[i][:50] , \" \", int_to_labels[test_prediction_hardmax] , EAP_prob, HPL_prob, MWS_prob)\n",
    "       \n",
    "    if test_features.shape[0]%batch_size != 0:\n",
    "        print(\"Last minibatch\" ,full_batches*batch_size,\",\", test_features.shape[0])\n",
    "        \n",
    "        i+=1\n",
    "        batch = np.zeros((batch_size,test_features.shape[1]))\n",
    "        batch[0:(test_features.shape[0]-full_batches*batch_size),:] = test_features[full_batches*batch_size:,:]\n",
    "        \n",
    "        feed_dict = {inputs_: batch,\n",
    "                keep_prob: 1,\n",
    "                initial_state: test_state,\n",
    "                        learning_rate_ : learning_rate}\n",
    "    \n",
    "        test_prediction = sess.run(predictions,feed_dict=feed_dict)\n",
    "        test_prediction_hardmax = np.argmax(test_prediction,1)\n",
    "\n",
    "        for j in range(test_features.shape[0]-full_batches*batch_size):\n",
    "            EAP_prob = test_prediction[j,labels_to_int[\"EAP\"]]\n",
    "            HPL_prob = test_prediction[j,labels_to_int[\"HPL\"]]\n",
    "            MWS_prob = test_prediction[j,labels_to_int[\"MWS\"]]\n",
    "        \n",
    "            line = [test_ids[(i*batch_size + j)] , EAP_prob, HPL_prob, MWS_prob]\n",
    "            csv_writer.writerow(line)\n",
    "        \n",
    "        print(\"finished batch {}\".format(i))\n",
    "\n",
    "    submit_file.close()"
   ]
  },
  {
   "cell_type": "code",
   "execution_count": null,
   "metadata": {
    "collapsed": true
   },
   "outputs": [],
   "source": []
  }
 ],
 "metadata": {
  "kernelspec": {
   "display_name": "Python 3",
   "language": "python",
   "name": "python3"
  },
  "language_info": {
   "codemirror_mode": {
    "name": "ipython",
    "version": 3
   },
   "file_extension": ".py",
   "mimetype": "text/x-python",
   "name": "python",
   "nbconvert_exporter": "python",
   "pygments_lexer": "ipython3",
   "version": "3.6.1"
  }
 },
 "nbformat": 4,
 "nbformat_minor": 2
}
