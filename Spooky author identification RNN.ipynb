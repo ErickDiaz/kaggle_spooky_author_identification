{
 "cells": [
  {
   "cell_type": "markdown",
   "metadata": {},
   "source": [
    "# Spooky author identification\n",
    "\n"
   ]
  },
  {
   "cell_type": "code",
   "execution_count": 1,
   "metadata": {
    "collapsed": true
   },
   "outputs": [],
   "source": [
    "import numpy as np\n",
    "import tensorflow as tf\n",
    "import csv\n",
    "from sklearn import preprocessing\n",
    "from string import punctuation\n",
    "from sklearn import metrics\n",
    "import matplotlib.pyplot as plt\n",
    "import random"
   ]
  },
  {
   "cell_type": "code",
   "execution_count": 2,
   "metadata": {
    "collapsed": true
   },
   "outputs": [],
   "source": [
    "reviews = []\n",
    "labels = []\n",
    "test = []\n",
    "test_ids = []\n",
    "with open('./text.csv', 'r',encoding=\"latin-1\") as f:\n",
    "    text_reader = csv.reader(f,delimiter=\",\")\n",
    "    next(text_reader)\n",
    "    for row in text_reader:\n",
    "        reviews.append(row[0])\n",
    "with open('./author.csv', 'r') as labels_csv:\n",
    "    author_reader = csv.reader(labels_csv,delimiter =\",\")\n",
    "    next(author_reader) #ignore header\n",
    "    for row in author_reader:\n",
    "        labels.append(row[0])\n",
    "with open(\"./test.csv\",'r') as test_csv:\n",
    "    text_reader = csv.reader(test_csv, delimiter= \",\")\n",
    "    next(text_reader) #ignore header\n",
    "    \n",
    "    for row in text_reader:\n",
    "        test_ids.append(row[0])\n",
    "        test.append(row[1])"
   ]
  },
  {
   "cell_type": "code",
   "execution_count": 3,
   "metadata": {},
   "outputs": [
    {
     "data": {
      "text/plain": [
       "19579"
      ]
     },
     "execution_count": 3,
     "metadata": {},
     "output_type": "execute_result"
    }
   ],
   "source": [
    "len(reviews)"
   ]
  },
  {
   "cell_type": "code",
   "execution_count": 4,
   "metadata": {},
   "outputs": [
    {
     "data": {
      "text/plain": [
       "8392"
      ]
     },
     "execution_count": 4,
     "metadata": {},
     "output_type": "execute_result"
    }
   ],
   "source": [
    "len(test)"
   ]
  },
  {
   "cell_type": "code",
   "execution_count": 5,
   "metadata": {},
   "outputs": [
    {
     "data": {
      "text/plain": [
       "['This process, however, afforded me no means of ascertaining the dimensions of my dungeon; as I might make its circuit, and return to the point whence I set out, without being aware of the fact; so perfectly uniform seemed the wall.',\n",
       " 'It never once occurred to me that the fumbling might be a mere mistake.',\n",
       " 'In his left hand was a gold snuff box, from which, as he capered down the hill, cutting all manner of fantastic steps, he took snuff incessantly with an air of the greatest possible self satisfaction.',\n",
       " 'How lovely is spring As we looked from Windsor Terrace on the sixteen fertile counties spread beneath, speckled by happy cottages and wealthier towns, all looked as in former years, heart cheering and fair.',\n",
       " 'Finding nothing else, not even gold, the Superintendent abandoned his attempts; but a perplexed look occasionally steals over his countenance as he sits thinking at his desk.',\n",
       " 'A youth passed in solitude, my best years spent under your gentle and feminine fosterage, has so refined the groundwork of my character that I cannot overcome an intense distaste to the usual brutality exercised on board ship: I have never believed it to be necessary, and when I heard of a mariner equally noted for his kindliness of heart and the respect and obedience paid to him by his crew, I felt myself peculiarly fortunate in being able to secure his services.',\n",
       " 'The astronomer, perhaps, at this point, took refuge in the suggestion of non luminosity; and here analogy was suddenly let fall.',\n",
       " 'The surcingle hung in ribands from my body.',\n",
       " \"I knew that you could not say to yourself 'stereotomy' without being brought to think of atomies, and thus of the theories of Epicurus; and since, when we discussed this subject not very long ago, I mentioned to you how singularly, yet with how little notice, the vague guesses of that noble Greek had met with confirmation in the late nebular cosmogony, I felt that you could not avoid casting your eyes upward to the great nebula in Orion, and I certainly expected that you would do so.\",\n",
       " 'I confess that neither the structure of languages, nor the code of governments, nor the politics of various states possessed attractions for me.',\n",
       " 'He shall find that I can feel my injuries; he shall learn to dread my revenge\" A few days after he arrived.',\n",
       " 'Here we barricaded ourselves, and, for the present were secure.',\n",
       " 'Herbert West needed fresh bodies because his life work was the reanimation of the dead.',\n",
       " 'The farm like grounds extended back very deeply up the hill, almost to Wheaton Street.',\n",
       " 'But a glance will show the fallacy of this idea.',\n",
       " 'He had escaped me, and I must commence a destructive and almost endless journey across the mountainous ices of the ocean, amidst cold that few of the inhabitants could long endure and which I, the native of a genial and sunny climate, could not hope to survive.',\n",
       " 'To these speeches they gave, of course, their own interpretation; fancying, no doubt, that at all events I should come into possession of vast quantities of ready money; and provided I paid them all I owed, and a trifle more, in consideration of their services, I dare say they cared very little what became of either my soul or my carcass.',\n",
       " 'Her native sprightliness needed no undue excitement, and her placid heart reposed contented on my love, the well being of her children, and the beauty of surrounding nature.',\n",
       " 'I even went so far as to speak of a slightly hectic cough with which, at one time, I had been troubled of a chronic rheumatism of a twinge of hereditary gout and, in conclusion, of the disagreeable and inconvenient, but hitherto carefully concealed, weakness of my eyes.',\n",
       " \"His facial aspect, too, was remarkable for its maturity; for though he shared his mother's and grandfather's chinlessness, his firm and precociously shaped nose united with the expression of his large, dark, almost Latin eyes to give him an air of quasi adulthood and well nigh preternatural intelligence.\"]"
      ]
     },
     "execution_count": 5,
     "metadata": {},
     "output_type": "execute_result"
    }
   ],
   "source": [
    "reviews[:20]"
   ]
  },
  {
   "cell_type": "code",
   "execution_count": 6,
   "metadata": {},
   "outputs": [
    {
     "data": {
      "text/plain": [
       "['EAP',\n",
       " 'HPL',\n",
       " 'EAP',\n",
       " 'MWS',\n",
       " 'HPL',\n",
       " 'MWS',\n",
       " 'EAP',\n",
       " 'EAP',\n",
       " 'EAP',\n",
       " 'MWS',\n",
       " 'MWS',\n",
       " 'EAP',\n",
       " 'HPL',\n",
       " 'HPL',\n",
       " 'EAP',\n",
       " 'MWS',\n",
       " 'EAP',\n",
       " 'MWS',\n",
       " 'EAP',\n",
       " 'HPL']"
      ]
     },
     "execution_count": 6,
     "metadata": {},
     "output_type": "execute_result"
    }
   ],
   "source": [
    "labels[:20]"
   ]
  },
  {
   "cell_type": "code",
   "execution_count": 7,
   "metadata": {},
   "outputs": [
    {
     "data": {
      "text/plain": [
       "['Still, as I urged our leaving Ireland with such inquietude and impatience, my father thought it best to yield.',\n",
       " 'If a fire wanted fanning, it could readily be fanned with a newspaper, and as the government grew weaker, I have no doubt that leather and iron acquired durability in proportion, for, in a very short time, there was not a pair of bellows in all Rotterdam that ever stood in need of a stitch or required the assistance of a hammer.',\n",
       " 'And when they had broken down the frail door they found only this: two cleanly picked human skeletons on the earthen floor, and a number of singular beetles crawling in the shadowy corners.',\n",
       " 'While I was thinking how I should possibly manage without them, one actually tumbled out of my head, and, rolling down the steep side of the steeple, lodged in the rain gutter which ran along the eaves of the main building.',\n",
       " 'I am not sure to what limit his knowledge may extend.',\n",
       " '\"The thick and peculiar mist, or smoke, which distinguishes the Indian Summer, and which now hung heavily over all objects, served, no doubt, to deepen the vague impressions which these objects created.',\n",
       " 'That which is not matter, is not at all unless qualities are things.',\n",
       " 'I sought for repose although I did not hope for forgetfulness; I knew I should be pursued by dreams, but did not dread the frightful one that I really had.',\n",
       " 'Upon the fourth day of the assassination, a party of the police came, very unexpectedly, into the house, and proceeded again to make rigorous investigation of the premises.',\n",
       " '\"The tone metaphysical is also a good one.',\n",
       " 'These, the offspring of a later period, stood erect and seemed ready to advance fearlessly into coming time; while those out worn stragglers, blasted and broke, clung to each other, their weak boughs sighing as the wind buffetted them a weather beaten crew.',\n",
       " 'What kept him from going with her and Brown Jenkin and the other to the throne of Chaos where the thin flutes pipe mindlessly was the fact that he had seen the name \"Azathoth\" in the Necronomicon, and knew it stood for a primal evil too horrible for description.',\n",
       " 'Persuading the widow that my connexion with her husband\\'s \"technical matters\" was sufficient to entitle me to his manuscript, I bore the document away and began to read it on the London boat.',\n",
       " 'When I arose trembling, I know not how much later, I staggered into the house and made shocking obeisances before the enshrined amulet of green jade.',\n",
       " 'And by the shores of the river Zaire there is neither quiet nor silence.',\n",
       " \"Idris heard of her mother's return with pleasure.\",\n",
       " 'I say this proudly, but with tears in my eyes for the firm proved themselves the basest of ingrates.',\n",
       " 'But let us glance at the treatise Ah \"Ability or inability to conceive,\" says Mr. Mill, very properly, \"is in no case to be received as a criterion of axiomatic truth.\"',\n",
       " '\"What a place is this that you inhabit, my son\" said he, looking mournfully at the barred windows and wretched appearance of the room.',\n",
       " 'At his nod I took one of the latter and seated myself upon an aged, discoloured gravestone close by the newly uncovered aperture.']"
      ]
     },
     "execution_count": 7,
     "metadata": {},
     "output_type": "execute_result"
    }
   ],
   "source": [
    "test[:20]"
   ]
  },
  {
   "cell_type": "markdown",
   "metadata": {},
   "source": [
    "## Data preprocessing\n",
    "\n",
    "The first step when building a neural network model is getting your data into the proper form to feed into the network. Since we're using embedding layers, we'll need to encode each word with an integer. We'll also want to clean it up a bit.\n",
    "\n",
    "You can see an example of the reviews data above. We'll want to get rid of those periods. Also, you might notice that the reviews are delimited with newlines `\\n`. To deal with those, I'm going to split the text into each review using `\\n` as the delimiter. Then I can combined all the reviews back together into one big string.\n",
    "\n",
    "First, let's remove all punctuation. Then get all the text without the newlines and split it into individual words."
   ]
  },
  {
   "cell_type": "code",
   "execution_count": 8,
   "metadata": {},
   "outputs": [],
   "source": [
    "from string import punctuation\n",
    "#all_text = ' '.join([c for c in reviews + test if c not in punctuation])\n",
    "all_text = ' '.join([c for c in reviews + test])\n",
    "\n",
    "words = all_text.split()"
   ]
  },
  {
   "cell_type": "code",
   "execution_count": 9,
   "metadata": {},
   "outputs": [
    {
     "data": {
      "text/plain": [
       "'This process, however, afforded me no means of ascertaining the dimensions of my dungeon; as I might make its circuit, and return to the point whence I set out, without being aware of the fact; so perfectly uniform seemed the wall. It never once occurred to me that the fumbling might be a mere mistake. I'"
      ]
     },
     "execution_count": 9,
     "metadata": {},
     "output_type": "execute_result"
    }
   ],
   "source": [
    "all_text[:305]"
   ]
  },
  {
   "cell_type": "code",
   "execution_count": 10,
   "metadata": {},
   "outputs": [
    {
     "data": {
      "text/plain": [
       "['This',\n",
       " 'process,',\n",
       " 'however,',\n",
       " 'afforded',\n",
       " 'me',\n",
       " 'no',\n",
       " 'means',\n",
       " 'of',\n",
       " 'ascertaining',\n",
       " 'the',\n",
       " 'dimensions',\n",
       " 'of',\n",
       " 'my',\n",
       " 'dungeon;',\n",
       " 'as',\n",
       " 'I',\n",
       " 'might',\n",
       " 'make',\n",
       " 'its',\n",
       " 'circuit,',\n",
       " 'and',\n",
       " 'return',\n",
       " 'to',\n",
       " 'the',\n",
       " 'point',\n",
       " 'whence',\n",
       " 'I',\n",
       " 'set',\n",
       " 'out,',\n",
       " 'without',\n",
       " 'being',\n",
       " 'aware',\n",
       " 'of',\n",
       " 'the',\n",
       " 'fact;',\n",
       " 'so',\n",
       " 'perfectly',\n",
       " 'uniform',\n",
       " 'seemed',\n",
       " 'the',\n",
       " 'wall.',\n",
       " 'It',\n",
       " 'never',\n",
       " 'once',\n",
       " 'occurred',\n",
       " 'to',\n",
       " 'me',\n",
       " 'that',\n",
       " 'the',\n",
       " 'fumbling',\n",
       " 'might',\n",
       " 'be',\n",
       " 'a',\n",
       " 'mere',\n",
       " 'mistake.',\n",
       " 'In',\n",
       " 'his',\n",
       " 'left',\n",
       " 'hand',\n",
       " 'was',\n",
       " 'a',\n",
       " 'gold',\n",
       " 'snuff',\n",
       " 'box,',\n",
       " 'from',\n",
       " 'which,',\n",
       " 'as',\n",
       " 'he',\n",
       " 'capered',\n",
       " 'down',\n",
       " 'the',\n",
       " 'hill,',\n",
       " 'cutting',\n",
       " 'all',\n",
       " 'manner',\n",
       " 'of',\n",
       " 'fantastic',\n",
       " 'steps,',\n",
       " 'he',\n",
       " 'took',\n",
       " 'snuff',\n",
       " 'incessantly',\n",
       " 'with',\n",
       " 'an',\n",
       " 'air',\n",
       " 'of',\n",
       " 'the',\n",
       " 'greatest',\n",
       " 'possible',\n",
       " 'self',\n",
       " 'satisfaction.',\n",
       " 'How',\n",
       " 'lovely',\n",
       " 'is',\n",
       " 'spring',\n",
       " 'As',\n",
       " 'we',\n",
       " 'looked',\n",
       " 'from',\n",
       " 'Windsor']"
      ]
     },
     "execution_count": 10,
     "metadata": {},
     "output_type": "execute_result"
    }
   ],
   "source": [
    "words[:100]"
   ]
  },
  {
   "cell_type": "markdown",
   "metadata": {},
   "source": [
    "### Encoding the words\n",
    "\n",
    "The embedding lookup requires that we pass in integers to our network. The easiest way to do this is to create dictionaries that map the words in the vocabulary to integers. Then we can convert each of our reviews into integers so they can be passed into the network.\n",
    "\n",
    "> **Exercise:** Now you're going to encode the words with integers. Build a dictionary that maps words to integers. Later we're going to pad our input vectors with zeros, so make sure the integers **start at 1, not 0**.\n",
    "> Also, convert the reviews to integers and store the reviews in a new list called `reviews_ints`. "
   ]
  },
  {
   "cell_type": "code",
   "execution_count": 11,
   "metadata": {},
   "outputs": [
    {
     "data": {
      "text/plain": [
       "'In his left hand was a gold snuff box, from which, as he capered down the hill, cutting all manner of fantastic steps, he took snuff incessantly with an air of the greatest possible self satisfaction.'"
      ]
     },
     "execution_count": 11,
     "metadata": {},
     "output_type": "execute_result"
    }
   ],
   "source": [
    "reviews[2]"
   ]
  },
  {
   "cell_type": "code",
   "execution_count": 12,
   "metadata": {
    "collapsed": true
   },
   "outputs": [],
   "source": [
    "# Create your dictionary that maps vocab words to integers here\n",
    "vocab_to_int = {word:index for index,word in enumerate(set(words),1)}\n",
    "vocab_to_int[\"<PAD>\"] = 0\n",
    "\n",
    "# Convert the reviews to integers, same shape as reviews list, but with integers\n",
    "reviews_ints = []\n",
    "for review in reviews:\n",
    "    reviews_ints.append([vocab_to_int[word] for word in review.split()])\n",
    "    \n",
    "test_ints = []\n",
    "for test_line in test:\n",
    "    test_ints.append([vocab_to_int[word] for word in test_line.split()])"
   ]
  },
  {
   "cell_type": "code",
   "execution_count": 13,
   "metadata": {},
   "outputs": [
    {
     "data": {
      "text/plain": [
       "[51997,\n",
       " 39822,\n",
       " 50249,\n",
       " 24521,\n",
       " 1301,\n",
       " 45957,\n",
       " 9922,\n",
       " 45788,\n",
       " 43149,\n",
       " 15238,\n",
       " 36843,\n",
       " 22382,\n",
       " 40775,\n",
       " 11445]"
      ]
     },
     "execution_count": 13,
     "metadata": {},
     "output_type": "execute_result"
    }
   ],
   "source": [
    "reviews_ints[1]"
   ]
  },
  {
   "cell_type": "code",
   "execution_count": 14,
   "metadata": {},
   "outputs": [
    {
     "data": {
      "text/plain": [
       "[10711,\n",
       " 22382,\n",
       " 37619,\n",
       " 10387,\n",
       " 43295,\n",
       " 49286,\n",
       " 32471,\n",
       " 32662,\n",
       " 36843,\n",
       " 31570,\n",
       " 6600,\n",
       " 22382,\n",
       " 50910,\n",
       " 8550,\n",
       " 16627,\n",
       " 45788,\n",
       " 5431,\n",
       " 47983,\n",
       " 56330,\n",
       " 27770,\n",
       " 33077,\n",
       " 44678,\n",
       " 12122,\n",
       " 9922,\n",
       " 20810,\n",
       " 8550,\n",
       " 8263,\n",
       " 10768,\n",
       " 48441,\n",
       " 48651,\n",
       " 2225,\n",
       " 20465,\n",
       " 48651,\n",
       " 22382,\n",
       " 18924,\n",
       " 21475,\n",
       " 25834,\n",
       " 37410,\n",
       " 15023,\n",
       " 2262,\n",
       " 22382,\n",
       " 33819,\n",
       " 2963,\n",
       " 9821,\n",
       " 48651,\n",
       " 26315,\n",
       " 44598,\n",
       " 9922,\n",
       " 4983,\n",
       " 30495,\n",
       " 48651,\n",
       " 45453,\n",
       " 2963,\n",
       " 22382,\n",
       " 13045,\n",
       " 12656,\n",
       " 10035,\n",
       " 45788,\n",
       " 54298,\n",
       " 2963,\n",
       " 22382,\n",
       " 35621]"
      ]
     },
     "execution_count": 14,
     "metadata": {},
     "output_type": "execute_result"
    }
   ],
   "source": [
    "test_ints[1]"
   ]
  },
  {
   "cell_type": "markdown",
   "metadata": {},
   "source": [
    "### Encoding the labels\n",
    "\n",
    "Our labels are \"positive\" or \"negative\". To use these labels in our network, we need to convert them to 0 and 1.\n",
    "\n",
    "> **Exercise:** Convert labels from `positive` and `negative` to 1 and 0, respectively."
   ]
  },
  {
   "cell_type": "code",
   "execution_count": 15,
   "metadata": {},
   "outputs": [
    {
     "name": "stdout",
     "output_type": "stream",
     "text": [
      "{'MWS': 0, 'HPL': 1, 'EAP': 2}\n",
      "{0: 'MWS', 1: 'HPL', 2: 'EAP'}\n",
      "[2, 1, 2, 0, 1, 0, 2, 2, 2, 0]\n"
     ]
    }
   ],
   "source": [
    "labels_to_int = {}\n",
    "int_to_labels = {}\n",
    "unique_labels = list(set(labels))\n",
    "for i,label in enumerate(unique_labels):\n",
    "    labels_to_int[label] = i\n",
    "    int_to_labels[i] = label\n",
    "    \n",
    "int_labels = []\n",
    "\n",
    "for label in labels:\n",
    "    int_labels.append(labels_to_int[label])\n",
    "    \n",
    "print(labels_to_int)\n",
    "print(int_to_labels)\n",
    "print(int_labels[:10])"
   ]
  },
  {
   "cell_type": "code",
   "execution_count": 16,
   "metadata": {},
   "outputs": [
    {
     "data": {
      "text/plain": [
       "array([[0, 0, 1],\n",
       "       [0, 1, 0],\n",
       "       [0, 0, 1],\n",
       "       ..., \n",
       "       [0, 0, 1],\n",
       "       [0, 0, 1],\n",
       "       [0, 1, 0]])"
      ]
     },
     "execution_count": 16,
     "metadata": {},
     "output_type": "execute_result"
    }
   ],
   "source": [
    "encoder = preprocessing.LabelBinarizer()\n",
    "encoder.fit(list(set(int_labels)))\n",
    "one_hot_labels = encoder.transform(int_labels)\n",
    "                                   \n",
    "one_hot_labels"
   ]
  },
  {
   "cell_type": "code",
   "execution_count": 17,
   "metadata": {},
   "outputs": [
    {
     "name": "stdout",
     "output_type": "stream",
     "text": [
      "Zero-length reviews: 0\n",
      "Maximum review length: 861\n",
      "Minimum length: 2\n",
      "Average length: 92.09655172413792\n"
     ]
    }
   ],
   "source": [
    "from collections import Counter\n",
    "review_lens = Counter([len(x) for x in reviews_ints])\n",
    "print(\"Zero-length reviews: {}\".format(review_lens[0]))\n",
    "print(\"Maximum review length: {}\".format(max(review_lens)))\n",
    "print(\"Minimum length: {}\".format(min(review_lens)))\n",
    "print(\"Average length: {}\".format(sum(review_lens)/len(review_lens)))"
   ]
  },
  {
   "cell_type": "code",
   "execution_count": 18,
   "metadata": {},
   "outputs": [
    {
     "data": {
      "image/png": "[encoded data removed]",
      "text/plain": [
       "<matplotlib.figure.Figure at 0x7fb9c98f8d68>"
      ]
     },
     "metadata": {},
     "output_type": "display_data"
    }
   ],
   "source": [
    "%matplotlib inline\n",
    "text_lens_list = list(review_lens)\n",
    "p,h,s = plt.hist(text_lens_list,bins = [0,50,100,150,200,250,300,350,400,450,500,550,600,650,700,750,800,850,900])"
   ]
  },
  {
   "cell_type": "code",
   "execution_count": 19,
   "metadata": {},
   "outputs": [
    {
     "name": "stdout",
     "output_type": "stream",
     "text": [
      "0.331034482759 % is between  0  and  50\n",
      "0.344827586207 % is between  50  and  100\n",
      "0.213793103448 % is between  100  and  150\n",
      "0.0620689655172 % is between  150  and  200\n",
      "0.0 % is between  200  and  250\n",
      "0.0137931034483 % is between  250  and  300\n",
      "0.00689655172414 % is between  300  and  350\n",
      "0.00689655172414 % is between  350  and  400\n",
      "0.00689655172414 % is between  400  and  450\n",
      "0.0 % is between  450  and  500\n",
      "0.0 % is between  500  and  550\n",
      "0.00689655172414 % is between  550  and  600\n",
      "0.0 % is between  600  and  650\n",
      "0.0 % is between  650  and  700\n",
      "0.0 % is between  700  and  750\n",
      "0.0 % is between  750  and  800\n",
      "0.0 % is between  800  and  850\n",
      "0.00689655172414 % is between  850  and  900\n"
     ]
    }
   ],
   "source": [
    "for  i in range(len(p)):\n",
    "    print(p[i]/len(text_lens_list)  ,\"% is between \",h[i],\" and \",h[i+1])"
   ]
  },
  {
   "cell_type": "markdown",
   "metadata": {},
   "source": [
    "aproximatly 67% of text lengths is between 0 and 100 , and 88% between 0 and 150, we can use 100 or 150 for seq lenght"
   ]
  },
  {
   "cell_type": "code",
   "execution_count": 20,
   "metadata": {},
   "outputs": [
    {
     "name": "stdout",
     "output_type": "stream",
     "text": [
      "Zero-length reviews: 0\n",
      "Maximum review length: 818\n",
      "Minimum length: 3\n",
      "Average length: 77.57377049180327\n"
     ]
    }
   ],
   "source": [
    "test_lens = Counter([len(x) for x in test_ints])\n",
    "print(\"Zero-length reviews: {}\".format(test_lens[0]))\n",
    "print(\"Maximum review length: {}\".format(max(test_lens)))\n",
    "print(\"Minimum length: {}\".format(min(test_lens)))\n",
    "print(\"Average length: {}\".format(sum(test_lens)/len(test_lens)))"
   ]
  },
  {
   "cell_type": "markdown",
   "metadata": {},
   "source": [
    "The maximum review length is way too many steps for our RNN. Let's truncate to 100 steps. For reviews shorter than 100, we'll pad with 0s. For reviews longer than 100, we can truncate them to the first 200 characters."
   ]
  },
  {
   "cell_type": "markdown",
   "metadata": {},
   "source": [
    "Now, create an array `features` that contains the data we'll pass to the network. The data should come from text ints, since we want to feed integers to the network. Each row should be 100 elements long. For lubes shorter than 200 words, left pad with 0s. \n"
   ]
  },
  {
   "cell_type": "code",
   "execution_count": 21,
   "metadata": {
    "collapsed": true
   },
   "outputs": [],
   "source": [
    "seq_len = 100\n",
    "features = []\n",
    "\n",
    "for review in reviews_ints:\n",
    "    review_size = len(review)\n",
    "    if review_size < seq_len:\n",
    "        padded_review = [0] * seq_len\n",
    "        padded_review[seq_len-len(review):seq_len] = review\n",
    "    elif review_size > seq_len:\n",
    "        padded_review = review[:seq_len]\n",
    "    \n",
    "    features.append(padded_review)\n",
    "features  = np.array(features)"
   ]
  },
  {
   "cell_type": "code",
   "execution_count": 22,
   "metadata": {},
   "outputs": [
    {
     "data": {
      "text/plain": [
       "array([[    0,     0,     0,     0,     0,     0,     0,     0,     0,\n",
       "            0,     0,     0,     0,     0,     0,     0,     0,     0,\n",
       "            0,     0,     0,     0,     0,     0,     0,     0,     0,\n",
       "            0,     0,     0,     0,     0,     0,     0,     0,     0,\n",
       "            0,     0,     0,     0,     0,     0,     0,     0,     0,\n",
       "            0,     0,     0,     0,     0,     0,     0,     0,     0,\n",
       "            0,     0,     0,     0,     0, 21425, 44311, 24495,  9596,\n",
       "        45957, 44678, 33107,  2963, 46800, 45788, 11175,  2963, 31620,\n",
       "          370, 16627, 27770, 15238, 13489, 42199,  2405,  8550, 43344,\n",
       "         1301, 45788, 29289, 20768, 27770,  8357, 52595, 30227, 20827,\n",
       "         6806,  2963, 45788, 40463, 54621,   743,  8709, 43957, 45788,\n",
       "        50330],\n",
       "       [    0,     0,     0,     0,     0,     0,     0,     0,     0,\n",
       "            0,     0,     0,     0,     0,     0,     0,     0,     0,\n",
       "            0,     0,     0,     0,     0,     0,     0,     0,     0,\n",
       "            0,     0,     0,     0,     0,     0,     0,     0,     0,\n",
       "            0,     0,     0,     0,     0,     0,     0,     0,     0,\n",
       "            0,     0,     0,     0,     0,     0,     0,     0,     0,\n",
       "            0,     0,     0,     0,     0,     0,     0,     0,     0,\n",
       "            0,     0,     0,     0,     0,     0,     0,     0,     0,\n",
       "            0,     0,     0,     0,     0,     0,     0,     0,     0,\n",
       "            0,     0,     0,     0,     0, 51997, 39822, 50249, 24521,\n",
       "         1301, 45957,  9922, 45788, 43149, 15238, 36843, 22382, 40775,\n",
       "        11445],\n",
       "       [    0,     0,     0,     0,     0,     0,     0,     0,     0,\n",
       "            0,     0,     0,     0,     0,     0,     0,     0,     0,\n",
       "            0,     0,     0,     0,     0,     0,     0,     0,     0,\n",
       "            0,     0,     0,     0,     0,     0,     0,     0,     0,\n",
       "            0,     0,     0,     0,     0,     0,     0,     0,     0,\n",
       "            0,     0,     0,     0,     0,     0,     0,     0,     0,\n",
       "            0,     0,     0,     0,     0,     0,     0,     0,     0,\n",
       "            0, 15486, 19354,  2544, 30131, 15023, 22382, 23009, 41302,\n",
       "        26018, 28107, 54489, 16627, 15301, 48345, 46850, 45788, 39546,\n",
       "        51212, 26315, 29852,  2963, 24649,  5914, 15301, 17878, 41302,\n",
       "          483,  6600,  7289, 25319,  2963, 45788,  5952, 24399,  3558,\n",
       "        38830],\n",
       "       [    0,     0,     0,     0,     0,     0,     0,     0,     0,\n",
       "            0,     0,     0,     0,     0,     0,     0,     0,     0,\n",
       "            0,     0,     0,     0,     0,     0,     0,     0,     0,\n",
       "            0,     0,     0,     0,     0,     0,     0,     0,     0,\n",
       "            0,     0,     0,     0,     0,     0,     0,     0,     0,\n",
       "            0,     0,     0,     0,     0,     0,     0,     0,     0,\n",
       "            0,     0,     0,     0,     0,     0,     0,     0,     0,\n",
       "            0,     0,     0, 21381,   520, 41602, 53437, 26825, 11577,\n",
       "        36964, 28107, 16251, 54168,  9437, 45788, 22602,  3298, 42983,\n",
       "        18452, 25737, 27483,  2354, 43737, 31602,  8550, 20095, 40903,\n",
       "        26315, 36964, 16627, 48651, 22749, 11546, 48713, 52922,  8550,\n",
       "          860],\n",
       "       [    0,     0,     0,     0,     0,     0,     0,     0,     0,\n",
       "            0,     0,     0,     0,     0,     0,     0,     0,     0,\n",
       "            0,     0,     0,     0,     0,     0,     0,     0,     0,\n",
       "            0,     0,     0,     0,     0,     0,     0,     0,     0,\n",
       "            0,     0,     0,     0,     0,     0,     0,     0,     0,\n",
       "            0,     0,     0,     0,     0,     0,     0,     0,     0,\n",
       "            0,     0,     0,     0,     0,     0,     0,     0,     0,\n",
       "            0,     0,     0,     0,     0,     0,     0,     0,     0,\n",
       "            0, 20696, 54071,  6614,  2262, 22227, 44759, 45788,  9209,\n",
       "        47185, 19354, 47515, 45817, 22382, 37803,  4638, 51751, 21533,\n",
       "        32010, 19354, 14152, 16627, 15301, 40898, 48901,  1997, 19354,\n",
       "        43940],\n",
       "       [    0,     0,     0,     0,     0,     0,     0,     0,     0,\n",
       "            0,     0,     0,     0,     0,     0,     0,     0,  3581,\n",
       "        40684, 43523, 48651, 22202, 31620, 16256, 48909, 22268, 35745,\n",
       "        16001,  6725,  8550, 12508, 32466, 16250, 54621, 28415, 45788,\n",
       "        37571,  2963, 31620, 41000,  9922, 27770, 42088, 53305,  7289,\n",
       "        16793, 35173,  1301, 45788, 15525, 48712, 56143,  9437, 53882,\n",
       "        54270, 27770, 33077, 39822, 20973, 49286,  1301, 36843, 52102,\n",
       "         8550, 14193, 27770, 47230,  2963, 22382, 27476, 52265,  2127,\n",
       "        16916, 19354, 19648,  2963, 48713,  8550, 45788, 50889,  8550,\n",
       "        28007, 50091,  1301, 36323,  2354, 19354, 55708, 27770,  1747,\n",
       "        23119,  3897, 27562, 48651, 20827, 50134,  1301, 45966, 19354,\n",
       "        53766],\n",
       "       [    0,     0,     0,     0,     0,     0,     0,     0,     0,\n",
       "            0,     0,     0,     0,     0,     0,     0,     0,     0,\n",
       "            0,     0,     0,     0,     0,     0,     0,     0,     0,\n",
       "            0,     0,     0,     0,     0,     0,     0,     0,     0,\n",
       "            0,     0,     0,     0,     0,     0,     0,     0,     0,\n",
       "            0,     0,     0,     0,     0,     0,     0,     0,     0,\n",
       "            0,     0,     0,     0,     0,     0,     0,     0,     0,\n",
       "            0,     0,     0,     0,     0,     0,     0,     0,     0,\n",
       "            0,     0,     0,     0,     0,     0,     0, 33766, 15266,\n",
       "        20264,  1997, 44677, 47088, 17878, 38902, 48651, 45788,  9587,\n",
       "         2963,  4640, 12947,  8550, 46838, 55891, 15023, 46431,  8218,\n",
       "        34244],\n",
       "       [    0,     0,     0,     0,     0,     0,     0,     0,     0,\n",
       "            0,     0,     0,     0,     0,     0,     0,     0,     0,\n",
       "            0,     0,     0,     0,     0,     0,     0,     0,     0,\n",
       "            0,     0,     0,     0,     0,     0,     0,     0,     0,\n",
       "            0,     0,     0,     0,     0,     0,     0,     0,     0,\n",
       "            0,     0,     0,     0,     0,     0,     0,     0,     0,\n",
       "            0,     0,     0,     0,     0,     0,     0,     0,     0,\n",
       "            0,     0,     0,     0,     0,     0,     0,     0,     0,\n",
       "            0,     0,     0,     0,     0,     0,     0,     0,     0,\n",
       "            0,     0,     0,     0,     0,     0,     0,     0,     0,\n",
       "            0,     0, 33766,  7856, 33524, 48651,  1262, 28107, 31620,\n",
       "        12751],\n",
       "       [    0,     0,     0,     0,     0,     0,     0,     0,     0,\n",
       "            0,     0,     0, 27770, 37032,  9922, 27974, 32471,  2262,\n",
       "        24250,  1301, 13658, 27280, 30227, 20827, 24474,  1301, 47242,\n",
       "         2963, 42974,  8550, 41593,  2963, 45788, 30019,  2963, 39147,\n",
       "         8550, 30218, 14193, 11577,  6630, 44677, 27435,  2262, 18924,\n",
       "        53771, 48282, 27770, 54120,  1301, 27974, 54897, 30885, 50296,\n",
       "         6600, 54897, 23474, 22655, 45788, 35046, 53061,  2963,  9922,\n",
       "        22410, 15882, 50899, 36361,  6600, 38234, 48651, 45788, 26847,\n",
       "        16670, 30249, 27770,  1747,  9922, 27974, 32471,  2262, 23297,\n",
       "        28864, 16001, 47734, 53144,  1301, 45788,  6979, 54904, 48651,\n",
       "        54192,  8550, 27770, 31659, 54240,  9922, 27974, 55777,  9449,\n",
       "         7594],\n",
       "       [    0,     0,     0,     0,     0,     0,     0,     0,     0,\n",
       "            0,     0,     0,     0,     0,     0,     0,     0,     0,\n",
       "            0,     0,     0,     0,     0,     0,     0,     0,     0,\n",
       "            0,     0,     0,     0,     0,     0,     0,     0,     0,\n",
       "            0,     0,     0,     0,     0,     0,     0,     0,     0,\n",
       "            0,     0,     0,     0,     0,     0,     0,     0,     0,\n",
       "            0,     0,     0,     0,     0,     0,     0,     0,     0,\n",
       "            0,     0,     0,     0,     0,     0,     0,     0,     0,\n",
       "            0,     0,     0,     0,     0, 27770, 25763,  9922,  7701,\n",
       "        45788, 51360,  2963, 45000, 51374, 45788, 19360,  2963,   410,\n",
       "        51374, 45788, 25141,  2963,  8694, 49761, 32592, 22971, 16916,\n",
       "         6014]])"
      ]
     },
     "execution_count": 22,
     "metadata": {},
     "output_type": "execute_result"
    }
   ],
   "source": [
    "features[:10,:100]"
   ]
  },
  {
   "cell_type": "code",
   "execution_count": 23,
   "metadata": {
    "collapsed": true
   },
   "outputs": [],
   "source": [
    "test_features = []\n",
    "\n",
    "for test_line in test_ints:\n",
    "    line_size = len(test_line)\n",
    "    if line_size < seq_len:\n",
    "        padded_line = [0] * seq_len\n",
    "        padded_line[seq_len-len(test_line):seq_len] = test_line\n",
    "    elif line_size > seq_len:\n",
    "        padded_line = test_line[:seq_len]\n",
    "        \n",
    "    test_features.append(padded_line)\n",
    "\n",
    "test_features = np.array(test_features)"
   ]
  },
  {
   "cell_type": "code",
   "execution_count": 24,
   "metadata": {},
   "outputs": [
    {
     "data": {
      "text/plain": [
       "(8392, 100)"
      ]
     },
     "execution_count": 24,
     "metadata": {},
     "output_type": "execute_result"
    }
   ],
   "source": [
    "test_features.shape"
   ]
  },
  {
   "cell_type": "code",
   "execution_count": 25,
   "metadata": {},
   "outputs": [
    {
     "data": {
      "text/plain": [
       "array([[    0,     0,     0,     0,     0,     0,     0,     0,     0,\n",
       "            0,     0,     0,     0,     0,     0,     0,     0,     0,\n",
       "            0,     0,     0,     0,     0,     0,     0,     0,     0,\n",
       "            0,     0,     0,     0,     0,     0,     0,     0,     0,\n",
       "            0,     0,     0,     0,     0,     0,     0,     0,     0,\n",
       "            0,     0,     0,     0,     0,     0,     0,     0,     0,\n",
       "            0,     0,     0,     0,     0,     0,     0,     0,     0,\n",
       "            0,     0,     0,     0,     0,     0,     0,     0,     0,\n",
       "            0,     0,     0,     0,     0,     0,     0,     0,     0,\n",
       "        30654, 16627, 27770, 46174, 34250, 17055, 15187,  6600, 40079,\n",
       "         7083,  8550, 28138, 31620, 28309, 43691, 49286, 16256,  1301,\n",
       "        15115],\n",
       "       [    0,     0,     0,     0,     0,     0,     0,     0,     0,\n",
       "            0,     0,     0,     0,     0,     0,     0,     0,     0,\n",
       "            0,     0,     0,     0,     0,     0,     0,     0,     0,\n",
       "            0,     0,     0,     0,     0,     0,     0,     0,     0,\n",
       "            0,     0, 10711, 22382, 37619, 10387, 43295, 49286, 32471,\n",
       "        32662, 36843, 31570,  6600, 22382, 50910,  8550, 16627, 45788,\n",
       "         5431, 47983, 56330, 27770, 33077, 44678, 12122,  9922, 20810,\n",
       "         8550,  8263, 10768, 48441, 48651,  2225, 20465, 48651, 22382,\n",
       "        18924, 21475, 25834, 37410, 15023,  2262, 22382, 33819,  2963,\n",
       "         9821, 48651, 26315, 44598,  9922,  4983, 30495, 48651, 45453,\n",
       "         2963, 22382, 13045, 12656, 10035, 45788, 54298,  2963, 22382,\n",
       "        35621],\n",
       "       [    0,     0,     0,     0,     0,     0,     0,     0,     0,\n",
       "            0,     0,     0,     0,     0,     0,     0,     0,     0,\n",
       "            0,     0,     0,     0,     0,     0,     0,     0,     0,\n",
       "            0,     0,     0,     0,     0,     0,     0,     0,     0,\n",
       "            0,     0,     0,     0,     0,     0,     0,     0,     0,\n",
       "            0,     0,     0,     0,     0,     0,     0,     0,     0,\n",
       "            0,     0,     0,     0,     0,     0,     0,     0,     0,\n",
       "            0,     0,     0,     0, 25130, 14193,  4437, 50899, 18856,\n",
       "        46850, 45788, 11677, 26846,  4437, 35846,  2776,  6225, 41574,\n",
       "        14655, 46160, 21527, 35610,  9437, 45788, 14411, 55797,  8550,\n",
       "        22382, 44235,  2963, 43676, 52175, 46723, 48651, 45788, 18620,\n",
       "        43801],\n",
       "       [    0,     0,     0,     0,     0,     0,     0,     0,     0,\n",
       "            0,     0,     0,     0,     0,     0,     0,     0,     0,\n",
       "            0,     0,     0,     0,     0,     0,     0,     0,     0,\n",
       "            0,     0,     0,     0,     0,     0,     0,     0,     0,\n",
       "            0,     0,     0,     0,     0,     0,     0,     0,     0,\n",
       "            0,     0,     0,     0,     0,     0,     0,     0,     0,\n",
       "            0,     0,     0,     0,     0, 13413, 27770, 15023, 48901,\n",
       "        54897, 27770,  5782, 47598, 24819, 30227, 30620, 18477, 16871,\n",
       "         4678, 33010,  2963, 31620, 43531, 38186,  2523, 46850, 45788,\n",
       "        52036, 31139,  2963, 45788, 27121, 23249, 48651, 45788, 13928,\n",
       "        16446, 49632,  1689, 11233, 45788, 23967,  2963, 45788, 23237,\n",
       "         2240],\n",
       "       [    0,     0,     0,     0,     0,     0,     0,     0,     0,\n",
       "            0,     0,     0,     0,     0,     0,     0,     0,     0,\n",
       "            0,     0,     0,     0,     0,     0,     0,     0,     0,\n",
       "            0,     0,     0,     0,     0,     0,     0,     0,     0,\n",
       "            0,     0,     0,     0,     0,     0,     0,     0,     0,\n",
       "            0,     0,     0,     0,     0,     0,     0,     0,     0,\n",
       "            0,     0,     0,     0,     0,     0,     0,     0,     0,\n",
       "            0,     0,     0,     0,     0,     0,     0,     0,     0,\n",
       "            0,     0,     0,     0,     0,     0,     0,     0,     0,\n",
       "            0,     0,     0,     0,     0,     0,     0,     0, 27770,\n",
       "        16547,  2262, 31998,  1301, 26657, 43223, 19354, 25464, 10401,\n",
       "        54707],\n",
       "       [    0,     0,     0,     0,     0,     0,     0,     0,     0,\n",
       "            0,     0,     0,     0,     0,     0,     0,     0,     0,\n",
       "            0,     0,     0,     0,     0,     0,     0,     0,     0,\n",
       "            0,     0,     0,     0,     0,     0,     0,     0,     0,\n",
       "            0,     0,     0,     0,     0,     0,     0,     0,     0,\n",
       "            0,     0,     0,     0,     0,     0,     0,     0,     0,\n",
       "            0,     0,     0,     0,     0,     0,     0,     0,     0,\n",
       "            0,     0,     0,     0,     0, 22158,  1510,  8550, 26390,\n",
       "        46394, 12656,   398, 49632, 36474, 45788,  6997, 28069,  8550,\n",
       "        49632,  9567, 33524,  5602, 32010, 26315, 36292, 32157, 44678,\n",
       "        38521,  1301, 38923, 45788, 35046, 16334, 49632, 40906, 53694,\n",
       "        26181],\n",
       "       [    0,     0,     0,     0,     0,     0,     0,     0,     0,\n",
       "            0,     0,     0,     0,     0,     0,     0,     0,     0,\n",
       "            0,     0,     0,     0,     0,     0,     0,     0,     0,\n",
       "            0,     0,     0,     0,     0,     0,     0,     0,     0,\n",
       "            0,     0,     0,     0,     0,     0,     0,     0,     0,\n",
       "            0,     0,     0,     0,     0,     0,     0,     0,     0,\n",
       "            0,     0,     0,     0,     0,     0,     0,     0,     0,\n",
       "            0,     0,     0,     0,     0,     0,     0,     0,     0,\n",
       "            0,     0,     0,     0,     0,     0,     0,     0,     0,\n",
       "            0,     0,     0,     0,     0,     0, 26187, 49632, 41602,\n",
       "         2262,  5047, 41602,  2262,  1997, 26315, 15718, 51952, 44654,\n",
       "        56407],\n",
       "       [    0,     0,     0,     0,     0,     0,     0,     0,     0,\n",
       "            0,     0,     0,     0,     0,     0,     0,     0,     0,\n",
       "            0,     0,     0,     0,     0,     0,     0,     0,     0,\n",
       "            0,     0,     0,     0,     0,     0,     0,     0,     0,\n",
       "            0,     0,     0,     0,     0,     0,     0,     0,     0,\n",
       "            0,     0,     0,     0,     0,     0,     0,     0,     0,\n",
       "            0,     0,     0,     0,     0,     0,     0,     0,     0,\n",
       "            0,     0,     0,     0,     0,     0,     0, 27770, 17299,\n",
       "        16916, 50528, 32211, 27770, 40955,  2262, 32903, 16916,  9890,\n",
       "        27770, 37032, 27770,  5782, 36843, 10244,  2354, 37208, 45817,\n",
       "        40955,  2262, 40401, 45788,   818, 18477,  9922, 27770, 31350,\n",
       "        27016],\n",
       "       [    0,     0,     0,     0,     0,     0,     0,     0,     0,\n",
       "            0,     0,     0,     0,     0,     0,     0,     0,     0,\n",
       "            0,     0,     0,     0,     0,     0,     0,     0,     0,\n",
       "            0,     0,     0,     0,     0,     0,     0,     0,     0,\n",
       "            0,     0,     0,     0,     0,     0,     0,     0,     0,\n",
       "            0,     0,     0,     0,     0,     0,     0,     0,     0,\n",
       "            0,     0,     0,     0,     0,     0,     0,     0,     0,\n",
       "            0,     0,     0,     0,     0,     0,     0,     0,     0,\n",
       "         5027, 45788, 47812, 24741,  2963, 45788, 47967, 22382, 30186,\n",
       "         2963, 45788,  4205, 47741, 18924, 32646,  5057, 45788,  3265,\n",
       "         8550, 39943, 31991,  1301, 13489, 41513, 35011,  2963, 45788,\n",
       "        41377],\n",
       "       [    0,     0,     0,     0,     0,     0,     0,     0,     0,\n",
       "            0,     0,     0,     0,     0,     0,     0,     0,     0,\n",
       "            0,     0,     0,     0,     0,     0,     0,     0,     0,\n",
       "            0,     0,     0,     0,     0,     0,     0,     0,     0,\n",
       "            0,     0,     0,     0,     0,     0,     0,     0,     0,\n",
       "            0,     0,     0,     0,     0,     0,     0,     0,     0,\n",
       "            0,     0,     0,     0,     0,     0,     0,     0,     0,\n",
       "            0,     0,     0,     0,     0,     0,     0,     0,     0,\n",
       "            0,     0,     0,     0,     0,     0,     0,     0,     0,\n",
       "            0,     0,     0,     0,     0,     0,     0,     0,     0,\n",
       "            0,     0, 22158,  9923, 17262, 41602, 28496, 22382, 37596,\n",
       "         5989]])"
      ]
     },
     "execution_count": 25,
     "metadata": {},
     "output_type": "execute_result"
    }
   ],
   "source": [
    "test_features[:10,:100]"
   ]
  },
  {
   "cell_type": "markdown",
   "metadata": {},
   "source": [
    "## Training, Validation, Test\n",
    "\n"
   ]
  },
  {
   "cell_type": "markdown",
   "metadata": {},
   "source": [
    "With our data in nice shape, we'll split it into training, validation, and test sets."
   ]
  },
  {
   "cell_type": "code",
   "execution_count": 26,
   "metadata": {},
   "outputs": [
    {
     "name": "stdout",
     "output_type": "stream",
     "text": [
      "\t\t\tFeature Shapes:\n",
      "Train set: \t\t(16642, 100) \n",
      "Validation set: \t(1468, 100) \n",
      "Test set: \t\t(1469, 100)\n"
     ]
    }
   ],
   "source": [
    "split_frac = 0.85\n",
    "\n",
    "split_index  = int(len(features)*split_frac)\n",
    "\n",
    "train_x, val_x = features[:split_index],features[split_index:]\n",
    "train_y, val_y = one_hot_labels[:split_index],one_hot_labels[split_index:]\n",
    "\n",
    "split_index = int(len(val_x)/2)\n",
    "\n",
    "val_x, test_x = val_x[:split_index],val_x[split_index:]\n",
    "val_y, test_y = val_y[:split_index],val_y[split_index:]\n",
    "\n",
    "print(\"\\t\\t\\tFeature Shapes:\")\n",
    "print(\"Train set: \\t\\t{}\".format(train_x.shape), \n",
    "      \"\\nValidation set: \\t{}\".format(val_x.shape),\n",
    "      \"\\nTest set: \\t\\t{}\".format(test_x.shape))\n"
   ]
  },
  {
   "cell_type": "markdown",
   "metadata": {},
   "source": [
    "## Build the graph\n",
    "\n",
    "Here, we'll build the graph. First up, defining the hyperparameters.\n",
    "\n",
    "* `lstm_size`: Number of units in the hidden layers in the LSTM cells. Usually larger is better performance wise. Common values are 128, 256, 512, etc.\n",
    "* `lstm_layers`: Number of LSTM layers in the network. I'd start with 1, then add more if I'm underfitting.\n",
    "* `batch_size`: The number of reviews to feed the network in one training pass. Typically this should be set as high as you can go without running out of memory.\n",
    "* `learning_rate`: Learning rate"
   ]
  },
  {
   "cell_type": "code",
   "execution_count": 27,
   "metadata": {
    "collapsed": true
   },
   "outputs": [],
   "source": [
    "lstm_size = 512\n",
    "fully_connected_size = 20\n",
    "lstm_layers = 1\n",
    "fully_connected_layers = 2\n",
    "batch_size = 512\n",
    "learning_rate = 0.005\n",
    "dropout_lstm = 0.5\n",
    "dropout_fully_connected = 1\n",
    "display_every_iterations = 20 "
   ]
  },
  {
   "cell_type": "code",
   "execution_count": 28,
   "metadata": {},
   "outputs": [
    {
     "data": {
      "text/plain": [
       "'lstm_layers=1&lstm_size=512&fully_connected_layers=2&fully_connected_size=20&batch_size=512&learning_rate=0.005&lstm_dropout=0.5&fully_connected_dropout=1'"
      ]
     },
     "execution_count": 28,
     "metadata": {},
     "output_type": "execute_result"
    }
   ],
   "source": [
    "def get_configuration_string(lstm_layers,lstm_size,fully_connected_layers,fully_connected_size,batch_size,learning_rate,lstm_dropout,fully_connected_dropout):\n",
    "    configuration_string = \"lstm_layers={}&lstm_size={}&fully_connected_layers={}&\\\n",
    "fully_connected_size={}&batch_size={}&learning_rate={}&lstm_dropout={}&fully_connected_dropout={}\" \\\n",
    "    .format(lstm_layers,lstm_size,fully_connected_layers,fully_connected_size,batch_size,learning_rate,lstm_dropout,fully_connected_dropout)\n",
    "    \n",
    "    return configuration_string\n",
    "    \n",
    "get_configuration_string(lstm_layers,lstm_size,fully_connected_layers,fully_connected_size,batch_size,learning_rate,dropout_lstm,dropout_fully_connected)"
   ]
  },
  {
   "cell_type": "markdown",
   "metadata": {},
   "source": [
    "For the network itself, we'll be passing in our 100 element long review vectors. Each batch will be `batch_size` vectors. We'll also be using dropout on the LSTM layer, so we'll make a placeholder for the keep probability."
   ]
  },
  {
   "cell_type": "code",
   "execution_count": 29,
   "metadata": {
    "collapsed": true
   },
   "outputs": [],
   "source": [
    "n_words = len(vocab_to_int)\n",
    "\n",
    "# Create the graph object\n",
    "graph = tf.Graph()\n",
    "# Add nodes to the graph\n",
    "with graph.as_default():\n",
    "    inputs_ = tf.placeholder(tf.int32,shape=[batch_size,None],name=\"inputs\")\n",
    "    labels_ = tf.placeholder(tf.int32,shape=[batch_size,len(unique_labels)],name = \"labels\")\n",
    "    keep_prob = tf.placeholder(tf.float32,name =\"keep_prob\")\n",
    "    fully_connected_keep_prob = tf.placeholder(tf.float32,name = \"fc_keep_prob\")\n",
    "    learning_rate_ = tf.placeholder(tf.float32,name = \"learning_rate\") "
   ]
  },
  {
   "cell_type": "markdown",
   "metadata": {},
   "source": [
    "### Embedding\n",
    "\n",
    "Now we'll add an embedding layer. We need to do this because there are many words in our vocabulary. It is massively inefficient to one-hot encode our classes here. Instead of one-hot encoding, we can have an embedding layer and use that layer as a lookup table. You could train an embedding layer using word2vec, then load it here. But, it's fine to just make a new layer and let the network learn the weights.\n",
    "\n",
    " Create the embedding lookup matrix as a `tf.Variable`. Use that embedding matrix to get the embedded vectors to pass to the LSTM cell with [`tf.nn.embedding_lookup`](https://www.tensorflow.org/api_docs/python/tf/nn/embedding_lookup). This function takes the embedding matrix and an input tensor, such as the review vectors. Then, it'll return another tensor with the embedded vectors. So, if the embedding layer has 200 units, the function will return a tensor with size [batch_size, 200].\n",
    "\n"
   ]
  },
  {
   "cell_type": "code",
   "execution_count": 30,
   "metadata": {
    "collapsed": true
   },
   "outputs": [],
   "source": [
    "# Size of the embedding vectors (number of units in the embedding layer)\n",
    "embed_size = 300 \n",
    "\n",
    "with graph.as_default():\n",
    "    embedding = tf.Variable(tf.random_uniform((n_words,embed_size),-0.5,0.5))\n",
    "    embed = tf.nn.embedding_lookup(embedding,inputs_)"
   ]
  },
  {
   "cell_type": "markdown",
   "metadata": {},
   "source": [
    "### LSTM cell\n",
    "\n",
    "<img src=\"assets/network_diagram.png\" width=400px>\n",
    "\n",
    "Next, we'll create our LSTM cells to use in the recurrent network ([TensorFlow documentation](https://www.tensorflow.org/api_docs/python/tf/contrib/rnn)). Here we are just defining what the cells look like. This isn't actually building the graph, just defining the type of cells we want in our graph.\n",
    "\n",
    "To create a basic LSTM cell for the graph, you'll want to use `tf.contrib.rnn.BasicLSTMCell`. Looking at the function documentation:\n",
    "\n",
    "```\n",
    "tf.contrib.rnn.BasicLSTMCell(num_units, forget_bias=1.0, input_size=None, state_is_tuple=True, activation=<function tanh at 0x109f1ef28>)\n",
    "```\n",
    "\n",
    "you can see it takes a parameter called `num_units`, the number of units in the cell, called `lstm_size` in this code. So then, you can write something like \n",
    "\n",
    "```\n",
    "lstm = tf.contrib.rnn.BasicLSTMCell(num_units)\n",
    "```\n",
    "\n",
    "to create an LSTM cell with `num_units`. Next, you can add dropout to the cell with `tf.contrib.rnn.DropoutWrapper`. This just wraps the cell in another cell, but with dropout added to the inputs and/or outputs. It's a really convenient way to make your network better with almost no effort! So you'd do something like\n",
    "\n",
    "```\n",
    "drop = tf.contrib.rnn.DropoutWrapper(cell, output_keep_prob=keep_prob)\n",
    "```\n",
    "\n",
    "Most of the time, your network will have better performance with more layers. That's sort of the magic of deep learning, adding more layers allows the network to learn really complex relationships. Again, there is a simple way to create multiple layers of LSTM cells with `tf.contrib.rnn.MultiRNNCell`:\n",
    "\n",
    "```\n",
    "cell = tf.contrib.rnn.MultiRNNCell([drop] * lstm_layers)\n",
    "```\n",
    "\n",
    "Here, `[drop] * lstm_layers` creates a list of cells (`drop`) that is `lstm_layers` long. The `MultiRNNCell` wrapper builds this into multiple layers of RNN cells, one for each cell in the list.\n",
    "\n",
    "So the final cell you're using in the network is actually multiple (or just one) LSTM cells with dropout. But it all works the same from an achitectural viewpoint, just a more complicated graph in the cell.\n",
    "\n",
    "> **Exercise:** Below, use `tf.contrib.rnn.BasicLSTMCell` to create an LSTM cell. Then, add drop out to it with `tf.contrib.rnn.DropoutWrapper`. Finally, create multiple LSTM layers with `tf.contrib.rnn.MultiRNNCell`.\n",
    "\n",
    "Here is [a tutorial on building RNNs](https://www.tensorflow.org/tutorials/recurrent) that will help you out.\n"
   ]
  },
  {
   "cell_type": "code",
   "execution_count": 31,
   "metadata": {
    "collapsed": true
   },
   "outputs": [],
   "source": [
    "with graph.as_default():\n",
    "    # Your basic LSTM cell\n",
    "    #lstm = tf.contrib.rnn.BasicLSTMCell(num_units=lstm_size)\n",
    "    \n",
    "    # Add dropout to the cell\n",
    "    #drop = tf.contrib.rnn.DropoutWrapper(lstm,output_keep_prob=keep_prob)\n",
    "    \n",
    "    # Stack up multiple LSTM layers, for deep learning\n",
    "    #cell = tf.contrib.rnn.MultiRNNCell([drop]*lstm_layers)\n",
    "    cell_list = [tf.contrib.rnn.DropoutWrapper(tf.contrib.rnn.BasicLSTMCell(num_units=lstm_size) ,output_keep_prob=keep_prob)  ]\n",
    "    cell = tf.contrib.rnn.MultiRNNCell(cell_list)\n",
    "    # Getting an initial state of all zeros\n",
    "    initial_state = cell.zero_state(batch_size, tf.float32)"
   ]
  },
  {
   "cell_type": "markdown",
   "metadata": {},
   "source": [
    "### RNN forward pass\n",
    "\n",
    "<img src=\"assets/network_diagram.png\" width=400px>\n",
    "\n",
    "Now we need to actually run the data through the RNN nodes. You can use [`tf.nn.dynamic_rnn`](https://www.tensorflow.org/api_docs/python/tf/nn/dynamic_rnn) to do this. You'd pass in the RNN cell you created (our multiple layered LSTM `cell` for instance), and the inputs to the network.\n",
    "\n",
    "```\n",
    "outputs, final_state = tf.nn.dynamic_rnn(cell, inputs, initial_state=initial_state)\n",
    "```\n",
    "\n",
    "Above I created an initial state, `initial_state`, to pass to the RNN. This is the cell state that is passed between the hidden layers in successive time steps. `tf.nn.dynamic_rnn` takes care of most of the work for us. We pass in our cell and the input to the cell, then it does the unrolling and everything else for us. It returns outputs for each time step and the final_state of the hidden layer.\n",
    "\n",
    "\n"
   ]
  },
  {
   "cell_type": "code",
   "execution_count": 32,
   "metadata": {
    "collapsed": true
   },
   "outputs": [],
   "source": [
    "with graph.as_default():\n",
    "    outputs, final_state = tf.nn.dynamic_rnn(cell,embed,initial_state=initial_state)"
   ]
  },
  {
   "cell_type": "markdown",
   "metadata": {},
   "source": [
    "### Output\n",
    "\n",
    "We only care about the final output, we'll be using that as our sentiment prediction. So we need to grab the last output with `outputs[:, -1]`, the calculate the cost from that and `labels_`."
   ]
  },
  {
   "cell_type": "code",
   "execution_count": 33,
   "metadata": {},
   "outputs": [],
   "source": [
    "with graph.as_default():\n",
    "    fully_connected = tf.contrib.layers.fully_connected(outputs[:, -1], fully_connected_size, activation_fn=tf.nn.relu)\n",
    "    fully_connected = tf.nn.dropout(fully_connected,fully_connected_keep_prob)\n",
    "    \n",
    "    \n",
    "    for layer in range(fully_connected_layers - 1):\n",
    "        fully_connected = tf.contrib.layers.fully_connected(fully_connected, fully_connected_size, activation_fn=tf.nn.relu)\n",
    "        fully_connected = tf.nn.dropout(fully_connected,fully_connected_keep_prob)\n",
    "        \n",
    "    fully_connected = tf.contrib.layers.fully_connected(fully_connected, 3, activation_fn=tf.nn.relu)\n",
    "    logits = tf.identity(fully_connected)\n",
    "    cost = tf.reduce_mean(tf.nn.softmax_cross_entropy_with_logits(logits = logits, labels=labels_))\n",
    "    \n",
    "    optimizer = tf.train.AdamOptimizer(learning_rate_).minimize(cost)"
   ]
  },
  {
   "cell_type": "markdown",
   "metadata": {},
   "source": [
    "### Validation accuracy\n",
    "\n",
    "Here we can add a few nodes to calculate the accuracy which we'll use in the validation pass."
   ]
  },
  {
   "cell_type": "code",
   "execution_count": 34,
   "metadata": {
    "collapsed": true
   },
   "outputs": [],
   "source": [
    "with graph.as_default():\n",
    "    predictions = tf.nn.softmax(logits)\n",
    "    predictions_hardmax = tf.argmax(predictions,1)\n",
    "#    correct_pred = tf.equal(tf.cast(tf.round(predictions), tf.int32), labels_)\n",
    "#    accuracy = tf.reduce_mean(tf.cast(correct_pred, tf.float32))"
   ]
  },
  {
   "cell_type": "markdown",
   "metadata": {},
   "source": [
    "### Batching\n",
    "\n",
    "This is a simple function for returning batches from our data. First it removes data such that we only have full batches. Then it iterates through the `x` and `y` arrays and returns slices out of those arrays with size `[batch_size]`."
   ]
  },
  {
   "cell_type": "code",
   "execution_count": 35,
   "metadata": {
    "collapsed": true
   },
   "outputs": [],
   "source": [
    "def get_batches(x, y, batch_size=100):\n",
    "    #shuffle batches at every ecoch    \n",
    "    n_batches = len(x)//batch_size\n",
    "    x, y = x[:n_batches*batch_size], y[:n_batches*batch_size]\n",
    "    for ii in range(0, len(x), batch_size):\n",
    "        yield x[ii:ii+batch_size], y[ii:ii+batch_size]"
   ]
  },
  {
   "cell_type": "markdown",
   "metadata": {},
   "source": [
    "## Training\n",
    "\n",
    "Before you run this, make sure the `checkpoints` directory exists."
   ]
  },
  {
   "cell_type": "code",
   "execution_count": 36,
   "metadata": {
    "collapsed": true
   },
   "outputs": [],
   "source": [
    "def calc_classification_metrics(predictions,real_values):\n",
    "    accuracy =  sum(predictions == real_values)/predictions.shape[0] # metrics.accuracy_score(predictions,real_values)\n",
    "    error = 1 - accuracy\n",
    "    precision = 0# metrics.precision_score(predictions,real_values)\n",
    "    recall = 0#metrics.recall_score(predictions,real_values)\n",
    "    \n",
    "    return accuracy,error,precision,recall\n"
   ]
  },
  {
   "cell_type": "code",
   "execution_count": 37,
   "metadata": {},
   "outputs": [],
   "source": [
    "def train(graph,saver,epochs,lstm_layers,lstm_size,fully_connected_layers,fully_connected_size,batch_size,learning_rate,lstm_dropout,fully_connected_dropout):\n",
    "    \n",
    "    log_file = open(\"log_book.csv\",\"a\")\n",
    "    csv_writer = csv.writer(log_file,delimiter = \",\")\n",
    "    \n",
    "    configuration_string = get_configuration_string(lstm_layers,lstm_size,fully_connected_layers,fully_connected_size,batch_size,learning_rate,lstm_dropout,fully_connected_dropout)\n",
    "    print(\"Starting training for: \",configuration_string)\n",
    "    \n",
    "    with tf.Session(graph=graph) as sess:\n",
    "        sess.run(tf.global_variables_initializer())\n",
    "        iteration = 1\n",
    "        for e in range(epochs):\n",
    "            state = sess.run(initial_state)\n",
    "        \n",
    "            \n",
    "            for ii, (x, y) in enumerate(get_batches(train_x, train_y, batch_size), 1):\n",
    "                feed_dict = {inputs_: x,\n",
    "                    labels_: y,\n",
    "                    keep_prob: lstm_dropout,\n",
    "                    fully_connected_keep_prob:fully_connected_dropout,\n",
    "                    initial_state: state,\n",
    "                        learning_rate_ : learning_rate}\n",
    "                loss, state, _ = sess.run([cost, final_state, optimizer], feed_dict=feed_dict)\n",
    "            \n",
    "                if iteration%display_every_iterations ==0:\n",
    "                    val_acc = []\n",
    "                    val_costs = []\n",
    "                \n",
    "                    train_prediction_hardmax = sess.run(predictions_hardmax,feed_dict=feed_dict)\n",
    "                    train_real_hardmax = np.argmax(y,1)\n",
    "                    train_accuracy,train_error,train_precision,train_recall  = calc_classification_metrics(train_prediction_hardmax,train_real_hardmax)\n",
    "                \n",
    "                    val_state = sess.run(cell.zero_state(batch_size, tf.float32))\n",
    "                \n",
    "                    for x, y in get_batches(val_x, val_y, batch_size):\n",
    "                        feed_dict = {inputs_: x,\n",
    "                            labels_: y,\n",
    "                            keep_prob: 1,\n",
    "                            fully_connected_keep_prob:1,\n",
    "                            initial_state: val_state,\n",
    "                            learning_rate_ : learning_rate}\n",
    "                    \n",
    "                        val_prediction = sess.run(predictions,feed_dict=feed_dict)\n",
    "                        val_cost = sess.run(cost,feed_dict=feed_dict)\n",
    "                        val_prediction_hardmax = sess.run(predictions_hardmax,feed_dict=feed_dict)\n",
    "                        val_real_hardmax = np.argmax(y,1)\n",
    "                        val_accuracy,val_error,val_precision,val_recall  = calc_classification_metrics(val_prediction_hardmax,val_real_hardmax)\n",
    "                        val_acc.append(val_accuracy)\n",
    "                        val_costs.append(val_cost)\n",
    "                \n",
    "                    val_cost = np.mean(val_costs)  \n",
    "                    val_acc  = np.mean(val_acc)\n",
    "                    print(\"Epoch: {}/{}\".format(e+1, epochs),\n",
    "                      \"Iteration: {}\".format(iteration),\n",
    "                      \"Train loss: {:.3f}\".format(loss),\n",
    "                      \"Train accuracy: {:.3f}\".format(train_accuracy),\n",
    "                     \"Train error: {:.3f}\".format(train_error),\n",
    "                      \"Val cost: {:.3f}\".format(val_cost),\n",
    "                      \"Val acc: {:.3f}\".format(val_acc)\n",
    "                     )\n",
    "                    \n",
    "                \n",
    "\n",
    "                    \n",
    "                iteration +=1\n",
    "            learning_rate = 0.90 * learning_rate\n",
    "        saver.save(sess, \"checkpoints/{}/checkpoint.ckpt\".format(configuration_string))\n",
    "        csv_writer.writerow([configuration_string,loss,train_accuracy,train_error,val_cost,val_acc,(1-val_acc)])\n",
    "        log_file.close()\n",
    "        print(\"Finished training for: \",configuration_string)"
   ]
  },
  {
   "cell_type": "code",
   "execution_count": 38,
   "metadata": {},
   "outputs": [
    {
     "name": "stdout",
     "output_type": "stream",
     "text": [
      "Starting training for:  lstm_layers=1&lstm_size=512&fully_connected_layers=2&fully_connected_size=20&batch_size=512&learning_rate=0.005&lstm_dropout=0.062192151950698604&fully_connected_dropout=0.2754708018572757\n",
      "Epoch: 1/10 Iteration: 20 Train loss: 1.116 Train accuracy: 0.314 Train error: 0.686 Val cost: 1.099 Val acc: 0.297\n",
      "Epoch: 2/10 Iteration: 40 Train loss: 1.106 Train accuracy: 0.324 Train error: 0.676 Val cost: 1.099 Val acc: 0.297\n",
      "Epoch: 2/10 Iteration: 60 Train loss: 1.099 Train accuracy: 0.326 Train error: 0.674 Val cost: 1.099 Val acc: 0.297\n",
      "Epoch: 3/10 Iteration: 80 Train loss: 1.097 Train accuracy: 0.301 Train error: 0.699 Val cost: 1.099 Val acc: 0.297\n",
      "Epoch: 4/10 Iteration: 100 Train loss: 1.100 Train accuracy: 0.289 Train error: 0.711 Val cost: 1.099 Val acc: 0.297\n",
      "Epoch: 4/10 Iteration: 120 Train loss: 1.092 Train accuracy: 0.318 Train error: 0.682 Val cost: 1.099 Val acc: 0.297\n",
      "Epoch: 5/10 Iteration: 140 Train loss: 1.103 Train accuracy: 0.281 Train error: 0.719 Val cost: 1.099 Val acc: 0.297\n",
      "Epoch: 5/10 Iteration: 160 Train loss: 1.096 Train accuracy: 0.322 Train error: 0.678 Val cost: 1.099 Val acc: 0.297\n",
      "Epoch: 6/10 Iteration: 180 Train loss: 1.100 Train accuracy: 0.332 Train error: 0.668 Val cost: 1.099 Val acc: 0.297\n",
      "Epoch: 7/10 Iteration: 200 Train loss: 1.097 Train accuracy: 0.322 Train error: 0.678 Val cost: 1.099 Val acc: 0.297\n",
      "Epoch: 7/10 Iteration: 220 Train loss: 1.096 Train accuracy: 0.309 Train error: 0.691 Val cost: 1.099 Val acc: 0.297\n",
      "Epoch: 8/10 Iteration: 240 Train loss: 1.098 Train accuracy: 0.330 Train error: 0.670 Val cost: 1.099 Val acc: 0.297\n",
      "Epoch: 9/10 Iteration: 260 Train loss: 1.088 Train accuracy: 0.418 Train error: 0.582 Val cost: 1.096 Val acc: 0.400\n",
      "Epoch: 9/10 Iteration: 280 Train loss: 1.090 Train accuracy: 0.387 Train error: 0.613 Val cost: 1.089 Val acc: 0.400\n",
      "Epoch: 10/10 Iteration: 300 Train loss: 1.086 Train accuracy: 0.408 Train error: 0.592 Val cost: 1.090 Val acc: 0.400\n",
      "Epoch: 10/10 Iteration: 320 Train loss: 1.091 Train accuracy: 0.369 Train error: 0.631 Val cost: 1.086 Val acc: 0.400\n",
      "Finished training for:  lstm_layers=1&lstm_size=512&fully_connected_layers=2&fully_connected_size=20&batch_size=512&learning_rate=0.005&lstm_dropout=0.062192151950698604&fully_connected_dropout=0.2754708018572757\n",
      "\n",
      "--------------------------------------------------------------------------------------------\n",
      "Starting training for:  lstm_layers=1&lstm_size=512&fully_connected_layers=2&fully_connected_size=20&batch_size=512&learning_rate=0.005&lstm_dropout=0.5022603682841027&fully_connected_dropout=0.9275749261518049\n",
      "Epoch: 1/10 Iteration: 20 Train loss: 1.064 Train accuracy: 0.477 Train error: 0.523 Val cost: 1.035 Val acc: 0.473\n",
      "Epoch: 2/10 Iteration: 40 Train loss: 0.845 Train accuracy: 0.578 Train error: 0.422 Val cost: 1.012 Val acc: 0.562\n",
      "Epoch: 2/10 Iteration: 60 Train loss: 0.747 Train accuracy: 0.693 Train error: 0.307 Val cost: 0.824 Val acc: 0.631\n",
      "Epoch: 3/10 Iteration: 80 Train loss: 0.456 Train accuracy: 0.867 Train error: 0.133 Val cost: 0.666 Val acc: 0.739\n",
      "Epoch: 4/10 Iteration: 100 Train loss: 0.222 Train accuracy: 0.947 Train error: 0.053 Val cost: 0.711 Val acc: 0.786\n",
      "Epoch: 4/10 Iteration: 120 Train loss: 0.195 Train accuracy: 0.949 Train error: 0.051 Val cost: 0.731 Val acc: 0.804\n",
      "Epoch: 5/10 Iteration: 140 Train loss: 0.097 Train accuracy: 0.975 Train error: 0.025 Val cost: 0.779 Val acc: 0.797\n",
      "Epoch: 5/10 Iteration: 160 Train loss: 0.058 Train accuracy: 0.984 Train error: 0.016 Val cost: 0.984 Val acc: 0.808\n",
      "Epoch: 6/10 Iteration: 180 Train loss: 0.035 Train accuracy: 0.992 Train error: 0.008 Val cost: 0.963 Val acc: 0.795\n",
      "Epoch: 7/10 Iteration: 200 Train loss: 0.024 Train accuracy: 0.992 Train error: 0.008 Val cost: 1.069 Val acc: 0.807\n",
      "Epoch: 7/10 Iteration: 220 Train loss: 0.017 Train accuracy: 0.994 Train error: 0.006 Val cost: 1.088 Val acc: 0.790\n",
      "Epoch: 8/10 Iteration: 240 Train loss: 0.006 Train accuracy: 0.998 Train error: 0.002 Val cost: 1.288 Val acc: 0.794\n",
      "Epoch: 9/10 Iteration: 260 Train loss: 0.014 Train accuracy: 0.996 Train error: 0.004 Val cost: 1.229 Val acc: 0.789\n",
      "Epoch: 9/10 Iteration: 280 Train loss: 0.021 Train accuracy: 0.994 Train error: 0.006 Val cost: 1.330 Val acc: 0.803\n",
      "Epoch: 10/10 Iteration: 300 Train loss: 0.005 Train accuracy: 0.998 Train error: 0.002 Val cost: 1.337 Val acc: 0.793\n",
      "Epoch: 10/10 Iteration: 320 Train loss: 0.001 Train accuracy: 1.000 Train error: 0.000 Val cost: 1.413 Val acc: 0.806\n",
      "Finished training for:  lstm_layers=1&lstm_size=512&fully_connected_layers=2&fully_connected_size=20&batch_size=512&learning_rate=0.005&lstm_dropout=0.5022603682841027&fully_connected_dropout=0.9275749261518049\n",
      "\n",
      "--------------------------------------------------------------------------------------------\n",
      "Starting training for:  lstm_layers=1&lstm_size=512&fully_connected_layers=2&fully_connected_size=20&batch_size=512&learning_rate=0.005&lstm_dropout=0.7623093938356604&fully_connected_dropout=0.24511198550118496\n",
      "Epoch: 1/10 Iteration: 20 Train loss: 1.097 Train accuracy: 0.363 Train error: 0.637 Val cost: 1.092 Val acc: 0.400\n",
      "Epoch: 2/10 Iteration: 40 Train loss: 1.098 Train accuracy: 0.377 Train error: 0.623 Val cost: 1.089 Val acc: 0.400\n",
      "Epoch: 2/10 Iteration: 60 Train loss: 1.089 Train accuracy: 0.398 Train error: 0.602 Val cost: 1.089 Val acc: 0.400\n",
      "Epoch: 3/10 Iteration: 80 Train loss: 1.088 Train accuracy: 0.404 Train error: 0.596 Val cost: 1.089 Val acc: 0.400\n",
      "Epoch: 4/10 Iteration: 100 Train loss: 1.080 Train accuracy: 0.436 Train error: 0.564 Val cost: 1.089 Val acc: 0.400\n",
      "Epoch: 4/10 Iteration: 120 Train loss: 1.089 Train accuracy: 0.402 Train error: 0.598 Val cost: 1.089 Val acc: 0.400\n",
      "Epoch: 5/10 Iteration: 140 Train loss: 1.084 Train accuracy: 0.418 Train error: 0.582 Val cost: 1.089 Val acc: 0.400\n",
      "Epoch: 5/10 Iteration: 160 Train loss: 1.097 Train accuracy: 0.375 Train error: 0.625 Val cost: 1.089 Val acc: 0.400\n",
      "Epoch: 6/10 Iteration: 180 Train loss: 1.100 Train accuracy: 0.363 Train error: 0.637 Val cost: 1.089 Val acc: 0.400\n",
      "Epoch: 7/10 Iteration: 200 Train loss: 1.096 Train accuracy: 0.377 Train error: 0.623 Val cost: 1.089 Val acc: 0.400\n",
      "Epoch: 7/10 Iteration: 220 Train loss: 1.089 Train accuracy: 0.398 Train error: 0.602 Val cost: 1.089 Val acc: 0.400\n",
      "Epoch: 8/10 Iteration: 240 Train loss: 1.087 Train accuracy: 0.404 Train error: 0.596 Val cost: 1.089 Val acc: 0.400\n",
      "Epoch: 9/10 Iteration: 260 Train loss: 1.079 Train accuracy: 0.436 Train error: 0.564 Val cost: 1.089 Val acc: 0.400\n",
      "Epoch: 9/10 Iteration: 280 Train loss: 1.088 Train accuracy: 0.402 Train error: 0.598 Val cost: 1.089 Val acc: 0.400\n",
      "Epoch: 10/10 Iteration: 300 Train loss: 1.083 Train accuracy: 0.418 Train error: 0.582 Val cost: 1.089 Val acc: 0.400\n",
      "Epoch: 10/10 Iteration: 320 Train loss: 1.096 Train accuracy: 0.375 Train error: 0.625 Val cost: 1.089 Val acc: 0.400\n",
      "Finished training for:  lstm_layers=1&lstm_size=512&fully_connected_layers=2&fully_connected_size=20&batch_size=512&learning_rate=0.005&lstm_dropout=0.7623093938356604&fully_connected_dropout=0.24511198550118496\n",
      "\n",
      "--------------------------------------------------------------------------------------------\n",
      "Starting training for:  lstm_layers=1&lstm_size=512&fully_connected_layers=2&fully_connected_size=20&batch_size=512&learning_rate=0.005&lstm_dropout=0.8553878126391515&fully_connected_dropout=0.25154992229921624\n",
      "Epoch: 1/10 Iteration: 20 Train loss: 1.099 Train accuracy: 0.326 Train error: 0.674 Val cost: 1.096 Val acc: 0.400\n",
      "Epoch: 2/10 Iteration: 40 Train loss: 1.093 Train accuracy: 0.377 Train error: 0.623 Val cost: 1.090 Val acc: 0.400\n",
      "Epoch: 2/10 Iteration: 60 Train loss: 1.092 Train accuracy: 0.398 Train error: 0.602 Val cost: 1.089 Val acc: 0.400\n",
      "Epoch: 3/10 Iteration: 80 Train loss: 1.088 Train accuracy: 0.404 Train error: 0.596 Val cost: 1.089 Val acc: 0.400\n",
      "Epoch: 4/10 Iteration: 100 Train loss: 1.079 Train accuracy: 0.436 Train error: 0.564 Val cost: 1.089 Val acc: 0.400\n",
      "Epoch: 4/10 Iteration: 120 Train loss: 1.088 Train accuracy: 0.402 Train error: 0.598 Val cost: 1.089 Val acc: 0.400\n"
     ]
    },
    {
     "ename": "KeyboardInterrupt",
     "evalue": "",
     "output_type": "error",
     "traceback": [
      "\u001b[0;31m---------------------------------------------------------------------------\u001b[0m",
      "\u001b[0;31mKeyboardInterrupt\u001b[0m                         Traceback (most recent call last)",
      "\u001b[0;32m<ipython-input-38-9fe59ccbf991>\u001b[0m in \u001b[0;36m<module>\u001b[0;34m()\u001b[0m\n\u001b[1;32m     14\u001b[0m     \u001b[0mfully_connected_dropout\u001b[0m \u001b[0;34m=\u001b[0m \u001b[0mrandom\u001b[0m\u001b[0;34m.\u001b[0m\u001b[0mrandom\u001b[0m\u001b[0;34m(\u001b[0m\u001b[0;34m)\u001b[0m\u001b[0;34m\u001b[0m\u001b[0m\n\u001b[1;32m     15\u001b[0m \u001b[0;34m\u001b[0m\u001b[0m\n\u001b[0;32m---> 16\u001b[0;31m     \u001b[0mtrain\u001b[0m\u001b[0;34m(\u001b[0m\u001b[0mgraph\u001b[0m\u001b[0;34m,\u001b[0m\u001b[0msaver\u001b[0m\u001b[0;34m,\u001b[0m\u001b[0;36m10\u001b[0m\u001b[0;34m,\u001b[0m\u001b[0mlstm_layers\u001b[0m\u001b[0;34m,\u001b[0m\u001b[0mlstm_size\u001b[0m\u001b[0;34m,\u001b[0m\u001b[0mfully_connected_layers\u001b[0m\u001b[0;34m,\u001b[0m\u001b[0mfully_connected_size\u001b[0m\u001b[0;34m,\u001b[0m\u001b[0mbatch_size\u001b[0m\u001b[0;34m,\u001b[0m\u001b[0mlearning_rate\u001b[0m\u001b[0;34m,\u001b[0m\u001b[0mlstm_dropout\u001b[0m\u001b[0;34m,\u001b[0m\u001b[0mfully_connected_dropout\u001b[0m\u001b[0;34m)\u001b[0m\u001b[0;34m\u001b[0m\u001b[0m\n\u001b[0m\u001b[1;32m     17\u001b[0m     \u001b[0mprint\u001b[0m\u001b[0;34m(\u001b[0m\u001b[0;34m\"\"\u001b[0m\u001b[0;34m)\u001b[0m\u001b[0;34m\u001b[0m\u001b[0m\n\u001b[1;32m     18\u001b[0m     \u001b[0mprint\u001b[0m\u001b[0;34m(\u001b[0m\u001b[0;34m\"--------------------------------------------------------------------------------------------\"\u001b[0m\u001b[0;34m)\u001b[0m\u001b[0;34m\u001b[0m\u001b[0m\n",
      "\u001b[0;32m<ipython-input-37-32fc9fd64cd7>\u001b[0m in \u001b[0;36mtrain\u001b[0;34m(graph, saver, epochs, lstm_layers, lstm_size, fully_connected_layers, fully_connected_size, batch_size, learning_rate, lstm_dropout, fully_connected_dropout)\u001b[0m\n\u001b[1;32m     21\u001b[0m                     \u001b[0minitial_state\u001b[0m\u001b[0;34m:\u001b[0m \u001b[0mstate\u001b[0m\u001b[0;34m,\u001b[0m\u001b[0;34m\u001b[0m\u001b[0m\n\u001b[1;32m     22\u001b[0m                         learning_rate_ : learning_rate}\n\u001b[0;32m---> 23\u001b[0;31m                 \u001b[0mloss\u001b[0m\u001b[0;34m,\u001b[0m \u001b[0mstate\u001b[0m\u001b[0;34m,\u001b[0m \u001b[0m_\u001b[0m \u001b[0;34m=\u001b[0m \u001b[0msess\u001b[0m\u001b[0;34m.\u001b[0m\u001b[0mrun\u001b[0m\u001b[0;34m(\u001b[0m\u001b[0;34m[\u001b[0m\u001b[0mcost\u001b[0m\u001b[0;34m,\u001b[0m \u001b[0mfinal_state\u001b[0m\u001b[0;34m,\u001b[0m \u001b[0moptimizer\u001b[0m\u001b[0;34m]\u001b[0m\u001b[0;34m,\u001b[0m \u001b[0mfeed_dict\u001b[0m\u001b[0;34m=\u001b[0m\u001b[0mfeed_dict\u001b[0m\u001b[0;34m)\u001b[0m\u001b[0;34m\u001b[0m\u001b[0m\n\u001b[0m\u001b[1;32m     24\u001b[0m \u001b[0;34m\u001b[0m\u001b[0m\n\u001b[1;32m     25\u001b[0m                 \u001b[0;32mif\u001b[0m \u001b[0miteration\u001b[0m\u001b[0;34m%\u001b[0m\u001b[0mdisplay_every_iterations\u001b[0m \u001b[0;34m==\u001b[0m\u001b[0;36m0\u001b[0m\u001b[0;34m:\u001b[0m\u001b[0;34m\u001b[0m\u001b[0m\n",
      "\u001b[0;32m~/anaconda2/envs/tf14_gpu_py3/lib/python3.6/site-packages/tensorflow/python/client/session.py\u001b[0m in \u001b[0;36mrun\u001b[0;34m(self, fetches, feed_dict, options, run_metadata)\u001b[0m\n\u001b[1;32m    887\u001b[0m     \u001b[0;32mtry\u001b[0m\u001b[0;34m:\u001b[0m\u001b[0;34m\u001b[0m\u001b[0m\n\u001b[1;32m    888\u001b[0m       result = self._run(None, fetches, feed_dict, options_ptr,\n\u001b[0;32m--> 889\u001b[0;31m                          run_metadata_ptr)\n\u001b[0m\u001b[1;32m    890\u001b[0m       \u001b[0;32mif\u001b[0m \u001b[0mrun_metadata\u001b[0m\u001b[0;34m:\u001b[0m\u001b[0;34m\u001b[0m\u001b[0m\n\u001b[1;32m    891\u001b[0m         \u001b[0mproto_data\u001b[0m \u001b[0;34m=\u001b[0m \u001b[0mtf_session\u001b[0m\u001b[0;34m.\u001b[0m\u001b[0mTF_GetBuffer\u001b[0m\u001b[0;34m(\u001b[0m\u001b[0mrun_metadata_ptr\u001b[0m\u001b[0;34m)\u001b[0m\u001b[0;34m\u001b[0m\u001b[0m\n",
      "\u001b[0;32m~/anaconda2/envs/tf14_gpu_py3/lib/python3.6/site-packages/tensorflow/python/client/session.py\u001b[0m in \u001b[0;36m_run\u001b[0;34m(self, handle, fetches, feed_dict, options, run_metadata)\u001b[0m\n\u001b[1;32m   1118\u001b[0m     \u001b[0;32mif\u001b[0m \u001b[0mfinal_fetches\u001b[0m \u001b[0;32mor\u001b[0m \u001b[0mfinal_targets\u001b[0m \u001b[0;32mor\u001b[0m \u001b[0;34m(\u001b[0m\u001b[0mhandle\u001b[0m \u001b[0;32mand\u001b[0m \u001b[0mfeed_dict_tensor\u001b[0m\u001b[0;34m)\u001b[0m\u001b[0;34m:\u001b[0m\u001b[0;34m\u001b[0m\u001b[0m\n\u001b[1;32m   1119\u001b[0m       results = self._do_run(handle, final_targets, final_fetches,\n\u001b[0;32m-> 1120\u001b[0;31m                              feed_dict_tensor, options, run_metadata)\n\u001b[0m\u001b[1;32m   1121\u001b[0m     \u001b[0;32melse\u001b[0m\u001b[0;34m:\u001b[0m\u001b[0;34m\u001b[0m\u001b[0m\n\u001b[1;32m   1122\u001b[0m       \u001b[0mresults\u001b[0m \u001b[0;34m=\u001b[0m \u001b[0;34m[\u001b[0m\u001b[0;34m]\u001b[0m\u001b[0;34m\u001b[0m\u001b[0m\n",
      "\u001b[0;32m~/anaconda2/envs/tf14_gpu_py3/lib/python3.6/site-packages/tensorflow/python/client/session.py\u001b[0m in \u001b[0;36m_do_run\u001b[0;34m(self, handle, target_list, fetch_list, feed_dict, options, run_metadata)\u001b[0m\n\u001b[1;32m   1315\u001b[0m     \u001b[0;32mif\u001b[0m \u001b[0mhandle\u001b[0m \u001b[0;32mis\u001b[0m \u001b[0;32mNone\u001b[0m\u001b[0;34m:\u001b[0m\u001b[0;34m\u001b[0m\u001b[0m\n\u001b[1;32m   1316\u001b[0m       return self._do_call(_run_fn, self._session, feeds, fetches, targets,\n\u001b[0;32m-> 1317\u001b[0;31m                            options, run_metadata)\n\u001b[0m\u001b[1;32m   1318\u001b[0m     \u001b[0;32melse\u001b[0m\u001b[0;34m:\u001b[0m\u001b[0;34m\u001b[0m\u001b[0m\n\u001b[1;32m   1319\u001b[0m       \u001b[0;32mreturn\u001b[0m \u001b[0mself\u001b[0m\u001b[0;34m.\u001b[0m\u001b[0m_do_call\u001b[0m\u001b[0;34m(\u001b[0m\u001b[0m_prun_fn\u001b[0m\u001b[0;34m,\u001b[0m \u001b[0mself\u001b[0m\u001b[0;34m.\u001b[0m\u001b[0m_session\u001b[0m\u001b[0;34m,\u001b[0m \u001b[0mhandle\u001b[0m\u001b[0;34m,\u001b[0m \u001b[0mfeeds\u001b[0m\u001b[0;34m,\u001b[0m \u001b[0mfetches\u001b[0m\u001b[0;34m)\u001b[0m\u001b[0;34m\u001b[0m\u001b[0m\n",
      "\u001b[0;32m~/anaconda2/envs/tf14_gpu_py3/lib/python3.6/site-packages/tensorflow/python/client/session.py\u001b[0m in \u001b[0;36m_do_call\u001b[0;34m(self, fn, *args)\u001b[0m\n\u001b[1;32m   1321\u001b[0m   \u001b[0;32mdef\u001b[0m \u001b[0m_do_call\u001b[0m\u001b[0;34m(\u001b[0m\u001b[0mself\u001b[0m\u001b[0;34m,\u001b[0m \u001b[0mfn\u001b[0m\u001b[0;34m,\u001b[0m \u001b[0;34m*\u001b[0m\u001b[0margs\u001b[0m\u001b[0;34m)\u001b[0m\u001b[0;34m:\u001b[0m\u001b[0;34m\u001b[0m\u001b[0m\n\u001b[1;32m   1322\u001b[0m     \u001b[0;32mtry\u001b[0m\u001b[0;34m:\u001b[0m\u001b[0;34m\u001b[0m\u001b[0m\n\u001b[0;32m-> 1323\u001b[0;31m       \u001b[0;32mreturn\u001b[0m \u001b[0mfn\u001b[0m\u001b[0;34m(\u001b[0m\u001b[0;34m*\u001b[0m\u001b[0margs\u001b[0m\u001b[0;34m)\u001b[0m\u001b[0;34m\u001b[0m\u001b[0m\n\u001b[0m\u001b[1;32m   1324\u001b[0m     \u001b[0;32mexcept\u001b[0m \u001b[0merrors\u001b[0m\u001b[0;34m.\u001b[0m\u001b[0mOpError\u001b[0m \u001b[0;32mas\u001b[0m \u001b[0me\u001b[0m\u001b[0;34m:\u001b[0m\u001b[0;34m\u001b[0m\u001b[0m\n\u001b[1;32m   1325\u001b[0m       \u001b[0mmessage\u001b[0m \u001b[0;34m=\u001b[0m \u001b[0mcompat\u001b[0m\u001b[0;34m.\u001b[0m\u001b[0mas_text\u001b[0m\u001b[0;34m(\u001b[0m\u001b[0me\u001b[0m\u001b[0;34m.\u001b[0m\u001b[0mmessage\u001b[0m\u001b[0;34m)\u001b[0m\u001b[0;34m\u001b[0m\u001b[0m\n",
      "\u001b[0;32m~/anaconda2/envs/tf14_gpu_py3/lib/python3.6/site-packages/tensorflow/python/client/session.py\u001b[0m in \u001b[0;36m_run_fn\u001b[0;34m(session, feed_dict, fetch_list, target_list, options, run_metadata)\u001b[0m\n\u001b[1;32m   1300\u001b[0m           return tf_session.TF_Run(session, options,\n\u001b[1;32m   1301\u001b[0m                                    \u001b[0mfeed_dict\u001b[0m\u001b[0;34m,\u001b[0m \u001b[0mfetch_list\u001b[0m\u001b[0;34m,\u001b[0m \u001b[0mtarget_list\u001b[0m\u001b[0;34m,\u001b[0m\u001b[0;34m\u001b[0m\u001b[0m\n\u001b[0;32m-> 1302\u001b[0;31m                                    status, run_metadata)\n\u001b[0m\u001b[1;32m   1303\u001b[0m \u001b[0;34m\u001b[0m\u001b[0m\n\u001b[1;32m   1304\u001b[0m     \u001b[0;32mdef\u001b[0m \u001b[0m_prun_fn\u001b[0m\u001b[0;34m(\u001b[0m\u001b[0msession\u001b[0m\u001b[0;34m,\u001b[0m \u001b[0mhandle\u001b[0m\u001b[0;34m,\u001b[0m \u001b[0mfeed_dict\u001b[0m\u001b[0;34m,\u001b[0m \u001b[0mfetch_list\u001b[0m\u001b[0;34m)\u001b[0m\u001b[0;34m:\u001b[0m\u001b[0;34m\u001b[0m\u001b[0m\n",
      "\u001b[0;31mKeyboardInterrupt\u001b[0m: "
     ]
    }
   ],
   "source": [
    "with graph.as_default():\n",
    "    saver = tf.train.Saver()\n",
    "\n",
    "    \n",
    "log_file = open(\"log_book.csv\",\"w\")\n",
    "csv_writer = csv.writer(log_file,delimiter = \",\")\n",
    "header = [\"config_string\",\"train_loss\",\"train_accuracy\",\"train_error\",\"validation_loss\",\"validation_accuracy\",\"validation_error\"]\n",
    "csv_writer.writerow(header)\n",
    "log_file.close()\n",
    "\n",
    "\n",
    "for i in range(30):\n",
    "    lstm_dropout = random.random()\n",
    "    fully_connected_dropout = random.random()\n",
    "    \n",
    "    train(graph,saver,10,lstm_layers,lstm_size,fully_connected_layers,fully_connected_size,batch_size,learning_rate,lstm_dropout,fully_connected_dropout)\n",
    "    print(\"\")\n",
    "    print(\"--------------------------------------------------------------------------------------------\")"
   ]
  },
  {
   "cell_type": "markdown",
   "metadata": {},
   "source": [
    "Original code for a single run:\n",
    "epochs = 20\n",
    "\n",
    "with graph.as_default():\n",
    "    saver = tf.train.Saver()\n",
    "\n",
    "with tf.Session(graph=graph) as sess:\n",
    "    sess.run(tf.global_variables_initializer())\n",
    "    iteration = 1\n",
    "    for e in range(epochs):\n",
    "        state = sess.run(initial_state)\n",
    "        \n",
    "        for ii, (x, y) in enumerate(get_batches(train_x, train_y, batch_size), 1):\n",
    "            feed_dict = {inputs_: x,\n",
    "                    labels_: y,\n",
    "                    keep_prob: dropout_prob,\n",
    "                    fully_connected_keep_prob:dropout_fully_connected,\n",
    "                    initial_state: state,\n",
    "                        learning_rate_ : learning_rate}\n",
    "            loss, state, _ = sess.run([cost, final_state, optimizer], feed_dict=feed_dict)\n",
    "            \n",
    "            if iteration%display_every_iterations ==0:\n",
    "                val_acc = []\n",
    "                val_costs = []\n",
    "                \n",
    "                train_prediction_hardmax = sess.run(predictions_hardmax,feed_dict=feed_dict)\n",
    "                train_real_hardmax = np.argmax(y,1)\n",
    "                train_accuracy,train_error,train_precision,train_recall  = calc_classification_metrics(train_prediction_hardmax,train_real_hardmax)\n",
    "                \n",
    "                val_state = sess.run(cell.zero_state(batch_size, tf.float32))\n",
    "                \n",
    "                for x, y in get_batches(val_x, val_y, batch_size):\n",
    "                    feed_dict = {inputs_: x,\n",
    "                            labels_: y,\n",
    "                            keep_prob: 1,\n",
    "                            fully_connected_keep_prob: 1,\n",
    "                            initial_state: val_state,\n",
    "                        learning_rate_ : learning_rate}\n",
    "                    \n",
    "                    val_prediction = sess.run(predictions,feed_dict=feed_dict)\n",
    "                    val_cost = sess.run(cost,feed_dict=feed_dict)\n",
    "                    val_prediction_hardmax = sess.run(predictions_hardmax,feed_dict=feed_dict)\n",
    "                    val_real_hardmax = np.argmax(y,1)\n",
    "                    val_accuracy,val_error,val_precision,val_recall  = calc_classification_metrics(val_prediction_hardmax,val_real_hardmax)\n",
    "                    val_acc.append(val_accuracy)\n",
    "                    val_costs.append(val_cost)\n",
    "                \n",
    "                val_cost = np.mean(val_costs)  \n",
    "                val_acc  = np.mean(val_acc)\n",
    "                print(\"Epoch: {}/{}\".format(e+1, epochs),\n",
    "                      \"Iteration: {}\".format(iteration),\n",
    "                      \"Train loss: {:.3f}\".format(loss),\n",
    "                      \"Train accuracy: {:.3f}\".format(train_accuracy),\n",
    "                     \"Train error: {:.3f}\".format(train_error),\n",
    "                      \"Val cost: {:.3f}\".format(val_cost),\n",
    "                      \"Val acc: {:.3f}\".format(val_acc)\n",
    "                     )\n",
    "\n",
    "                    \n",
    "            iteration +=1\n",
    "        learning_rate = 0.90 * learning_rate\n",
    "    saver.save(sess, \"checkpoints/checkpoint.ckpt\")"
   ]
  },
  {
   "cell_type": "markdown",
   "metadata": {},
   "source": [
    "## Testing"
   ]
  },
  {
   "cell_type": "code",
   "execution_count": null,
   "metadata": {},
   "outputs": [],
   "source": [
    "test_acc = []\n",
    "with tf.Session(graph=graph) as sess:\n",
    "    saver.restore(sess, tf.train.latest_checkpoint('checkpoints'))\n",
    "    test_state = sess.run(cell.zero_state(batch_size, tf.float32))\n",
    "    for ii, (x, y) in enumerate(get_batches(test_x, test_y, batch_size), 1):\n",
    "        print(x.shape,y.shape)\n",
    "        feed_dict = {inputs_: x,\n",
    "                labels_: y,\n",
    "                keep_prob: 1,\n",
    "                fully_connected_keep_prob:1\n",
    "                initial_state: test_state,\n",
    "                        learning_rate_ : learning_rate}\n",
    "        \n",
    "        test_prediction = sess.run(predictions,feed_dict=feed_dict)\n",
    "        test_cost = sess.run(cost,feed_dict=feed_dict)\n",
    "        test_prediction_hardmax = sess.run(predictions_hardmax,feed_dict=feed_dict)\n",
    "        test_real_hardmax = np.argmax(y,1)\n",
    "        test_accuracy,test_error,test_precision,test_recall  = calc_classification_metrics(test_prediction_hardmax,test_real_hardmax)\n",
    "        print(\"test cost\",test_cost , test_accuracy )\n",
    "        #batch_acc, test_state = sess.run([accuracy, final_state], feed_dict=feed)\n",
    "        #test_acc.append(batch_acc)\n",
    "        #print(x.shape,y.shape)\n",
    "    #print(\"Test accuracy: {:.3f}\".format(np.mean(test_acc)))"
   ]
  },
  {
   "cell_type": "markdown",
   "metadata": {},
   "source": [
    "## Generate submission file"
   ]
  },
  {
   "cell_type": "code",
   "execution_count": null,
   "metadata": {},
   "outputs": [],
   "source": [
    "with tf.Session(graph=graph) as sess:\n",
    "    saver.restore(sess, tf.train.latest_checkpoint('checkpoints'))\n",
    "    test_state = sess.run(cell.zero_state(batch_size, tf.float32))\n",
    "    \n",
    "    full_batches =  int(test_features.shape[0]/batch_size)\n",
    "    submit_file = open(\"submission.csv\",\"w\")\n",
    "    csv_writer = csv.writer(submit_file,delimiter = \",\")\n",
    "    header = [\"id\",\"EAP\",\"HPL\",\"MWS\"]\n",
    "    csv_writer.writerow(header)\n",
    "    \n",
    "    # TODO: find a way to send 1 line at a time without having to take special care of last incomplete batch\n",
    "    for i in range(full_batches):\n",
    "        batch = test_features[ (i*batch_size):((i+1)*batch_size)]\n",
    "\n",
    "        feed_dict = {inputs_: batch,\n",
    "                keep_prob: 1,\n",
    "                initial_state: test_state,\n",
    "                        learning_rate_ : learning_rate}\n",
    "    \n",
    "        test_prediction = sess.run(predictions,feed_dict=feed_dict)\n",
    "        test_prediction_hardmax = np.argmax(test_prediction,1)\n",
    "    \n",
    "        for j,prediction in enumerate(test_prediction_hardmax):\n",
    "            EAP_prob = test_prediction[j,labels_to_int[\"EAP\"]]\n",
    "            HPL_prob = test_prediction[j,labels_to_int[\"HPL\"]]\n",
    "            MWS_prob = test_prediction[j,labels_to_int[\"MWS\"]]\n",
    "        \n",
    "            line = [test_ids[(i*batch_size + j)] , EAP_prob, HPL_prob, MWS_prob]\n",
    "            csv_writer.writerow(line)\n",
    "        \n",
    "        print(\"finished batch {}\".format(i))\n",
    "            #print(\"Finished writing {}\".format(i))\n",
    "            #print(test_ids[i] ,test[i][:50] , \" \", int_to_labels[test_prediction_hardmax] , EAP_prob, HPL_prob, MWS_prob)\n",
    "       \n",
    "    if test_features.shape[0]%batch_size != 0:\n",
    "        print(\"Last minibatch\" ,full_batches*batch_size,\",\", test_features.shape[0])\n",
    "        \n",
    "        i+=1\n",
    "        batch = np.zeros((batch_size,test_features.shape[1]))\n",
    "        batch[0:(test_features.shape[0]-full_batches*batch_size),:] = test_features[full_batches*batch_size:,:]\n",
    "        \n",
    "        feed_dict = {inputs_: batch,\n",
    "                keep_prob: 1,\n",
    "                initial_state: test_state,\n",
    "                        learning_rate_ : learning_rate}\n",
    "    \n",
    "        test_prediction = sess.run(predictions,feed_dict=feed_dict)\n",
    "        test_prediction_hardmax = np.argmax(test_prediction,1)\n",
    "\n",
    "        for j in range(test_features.shape[0]-full_batches*batch_size):\n",
    "            EAP_prob = test_prediction[j,labels_to_int[\"EAP\"]]\n",
    "            HPL_prob = test_prediction[j,labels_to_int[\"HPL\"]]\n",
    "            MWS_prob = test_prediction[j,labels_to_int[\"MWS\"]]\n",
    "        \n",
    "            line = [test_ids[(i*batch_size + j)] , EAP_prob, HPL_prob, MWS_prob]\n",
    "            csv_writer.writerow(line)\n",
    "        \n",
    "        print(\"finished batch {}\".format(i))\n",
    "\n",
    "    submit_file.close()"
   ]
  },
  {
   "cell_type": "code",
   "execution_count": null,
   "metadata": {
    "collapsed": true
   },
   "outputs": [],
   "source": []
  },
  {
   "cell_type": "raw",
   "metadata": {},
   "source": []
  }
 ],
 "metadata": {
  "kernelspec": {
   "display_name": "Python 3",
   "language": "python",
   "name": "python3"
  },
  "language_info": {
   "codemirror_mode": {
    "name": "ipython",
    "version": 3
   },
   "file_extension": ".py",
   "mimetype": "text/x-python",
   "name": "python",
   "nbconvert_exporter": "python",
   "pygments_lexer": "ipython3",
   "version": "3.6.3"
  }
 },
 "nbformat": 4,
 "nbformat_minor": 2
}
