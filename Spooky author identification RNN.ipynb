{
 "cells": [
  {
   "cell_type": "markdown",
   "metadata": {},
   "source": [
    "# Spooky author identification\n",
    "\n"
   ]
  },
  {
   "cell_type": "code",
   "execution_count": 1,
   "metadata": {
    "collapsed": true
   },
   "outputs": [],
   "source": [
    "import numpy as np\n",
    "import tensorflow as tf\n",
    "import csv\n",
    "from sklearn import preprocessing\n",
    "from string import punctuation\n",
    "from sklearn import metrics"
   ]
  },
  {
   "cell_type": "code",
   "execution_count": 2,
   "metadata": {
    "collapsed": true
   },
   "outputs": [],
   "source": [
    "reviews = []\n",
    "labels = []\n",
    "test = []\n",
    "test_ids = []\n",
    "with open('./text.csv', 'r',encoding=\"latin-1\") as f:\n",
    "    text_reader = csv.reader(f,delimiter=\",\")\n",
    "    next(text_reader)\n",
    "    for row in text_reader:\n",
    "        reviews.append(row[0])\n",
    "with open('./author.csv', 'r') as labels_csv:\n",
    "    author_reader = csv.reader(labels_csv,delimiter =\",\")\n",
    "    next(author_reader) #ignore header\n",
    "    for row in author_reader:\n",
    "        labels.append(row[0])\n",
    "with open(\"./test.csv\",'r') as test_csv:\n",
    "    text_reader = csv.reader(test_csv, delimiter= \",\")\n",
    "    next(text_reader) #ignore header\n",
    "    \n",
    "    for row in text_reader:\n",
    "        test_ids.append(row[0])\n",
    "        test.append(row[1])"
   ]
  },
  {
   "cell_type": "code",
   "execution_count": 3,
   "metadata": {},
   "outputs": [
    {
     "data": {
      "text/plain": [
       "8392"
      ]
     },
     "execution_count": 3,
     "metadata": {},
     "output_type": "execute_result"
    }
   ],
   "source": [
    "len(test)"
   ]
  },
  {
   "cell_type": "code",
   "execution_count": 4,
   "metadata": {},
   "outputs": [
    {
     "data": {
      "text/plain": [
       "['This process, however, afforded me no means of ascertaining the dimensions of my dungeon; as I might make its circuit, and return to the point whence I set out, without being aware of the fact; so perfectly uniform seemed the wall.',\n",
       " 'It never once occurred to me that the fumbling might be a mere mistake.',\n",
       " 'In his left hand was a gold snuff box, from which, as he capered down the hill, cutting all manner of fantastic steps, he took snuff incessantly with an air of the greatest possible self satisfaction.',\n",
       " 'How lovely is spring As we looked from Windsor Terrace on the sixteen fertile counties spread beneath, speckled by happy cottages and wealthier towns, all looked as in former years, heart cheering and fair.',\n",
       " 'Finding nothing else, not even gold, the Superintendent abandoned his attempts; but a perplexed look occasionally steals over his countenance as he sits thinking at his desk.',\n",
       " 'A youth passed in solitude, my best years spent under your gentle and feminine fosterage, has so refined the groundwork of my character that I cannot overcome an intense distaste to the usual brutality exercised on board ship: I have never believed it to be necessary, and when I heard of a mariner equally noted for his kindliness of heart and the respect and obedience paid to him by his crew, I felt myself peculiarly fortunate in being able to secure his services.',\n",
       " 'The astronomer, perhaps, at this point, took refuge in the suggestion of non luminosity; and here analogy was suddenly let fall.',\n",
       " 'The surcingle hung in ribands from my body.',\n",
       " \"I knew that you could not say to yourself 'stereotomy' without being brought to think of atomies, and thus of the theories of Epicurus; and since, when we discussed this subject not very long ago, I mentioned to you how singularly, yet with how little notice, the vague guesses of that noble Greek had met with confirmation in the late nebular cosmogony, I felt that you could not avoid casting your eyes upward to the great nebula in Orion, and I certainly expected that you would do so.\",\n",
       " 'I confess that neither the structure of languages, nor the code of governments, nor the politics of various states possessed attractions for me.',\n",
       " 'He shall find that I can feel my injuries; he shall learn to dread my revenge\" A few days after he arrived.',\n",
       " 'Here we barricaded ourselves, and, for the present were secure.',\n",
       " 'Herbert West needed fresh bodies because his life work was the reanimation of the dead.',\n",
       " 'The farm like grounds extended back very deeply up the hill, almost to Wheaton Street.',\n",
       " 'But a glance will show the fallacy of this idea.',\n",
       " 'He had escaped me, and I must commence a destructive and almost endless journey across the mountainous ices of the ocean, amidst cold that few of the inhabitants could long endure and which I, the native of a genial and sunny climate, could not hope to survive.',\n",
       " 'To these speeches they gave, of course, their own interpretation; fancying, no doubt, that at all events I should come into possession of vast quantities of ready money; and provided I paid them all I owed, and a trifle more, in consideration of their services, I dare say they cared very little what became of either my soul or my carcass.',\n",
       " 'Her native sprightliness needed no undue excitement, and her placid heart reposed contented on my love, the well being of her children, and the beauty of surrounding nature.',\n",
       " 'I even went so far as to speak of a slightly hectic cough with which, at one time, I had been troubled of a chronic rheumatism of a twinge of hereditary gout and, in conclusion, of the disagreeable and inconvenient, but hitherto carefully concealed, weakness of my eyes.',\n",
       " \"His facial aspect, too, was remarkable for its maturity; for though he shared his mother's and grandfather's chinlessness, his firm and precociously shaped nose united with the expression of his large, dark, almost Latin eyes to give him an air of quasi adulthood and well nigh preternatural intelligence.\"]"
      ]
     },
     "execution_count": 4,
     "metadata": {},
     "output_type": "execute_result"
    }
   ],
   "source": [
    "reviews[:20]"
   ]
  },
  {
   "cell_type": "code",
   "execution_count": 5,
   "metadata": {},
   "outputs": [
    {
     "data": {
      "text/plain": [
       "['EAP',\n",
       " 'HPL',\n",
       " 'EAP',\n",
       " 'MWS',\n",
       " 'HPL',\n",
       " 'MWS',\n",
       " 'EAP',\n",
       " 'EAP',\n",
       " 'EAP',\n",
       " 'MWS',\n",
       " 'MWS',\n",
       " 'EAP',\n",
       " 'HPL',\n",
       " 'HPL',\n",
       " 'EAP',\n",
       " 'MWS',\n",
       " 'EAP',\n",
       " 'MWS',\n",
       " 'EAP',\n",
       " 'HPL']"
      ]
     },
     "execution_count": 5,
     "metadata": {},
     "output_type": "execute_result"
    }
   ],
   "source": [
    "labels[:20]"
   ]
  },
  {
   "cell_type": "code",
   "execution_count": 6,
   "metadata": {},
   "outputs": [
    {
     "data": {
      "text/plain": [
       "['Still, as I urged our leaving Ireland with such inquietude and impatience, my father thought it best to yield.',\n",
       " 'If a fire wanted fanning, it could readily be fanned with a newspaper, and as the government grew weaker, I have no doubt that leather and iron acquired durability in proportion, for, in a very short time, there was not a pair of bellows in all Rotterdam that ever stood in need of a stitch or required the assistance of a hammer.',\n",
       " 'And when they had broken down the frail door they found only this: two cleanly picked human skeletons on the earthen floor, and a number of singular beetles crawling in the shadowy corners.',\n",
       " 'While I was thinking how I should possibly manage without them, one actually tumbled out of my head, and, rolling down the steep side of the steeple, lodged in the rain gutter which ran along the eaves of the main building.',\n",
       " 'I am not sure to what limit his knowledge may extend.',\n",
       " '\"The thick and peculiar mist, or smoke, which distinguishes the Indian Summer, and which now hung heavily over all objects, served, no doubt, to deepen the vague impressions which these objects created.',\n",
       " 'That which is not matter, is not at all unless qualities are things.',\n",
       " 'I sought for repose although I did not hope for forgetfulness; I knew I should be pursued by dreams, but did not dread the frightful one that I really had.',\n",
       " 'Upon the fourth day of the assassination, a party of the police came, very unexpectedly, into the house, and proceeded again to make rigorous investigation of the premises.',\n",
       " '\"The tone metaphysical is also a good one.',\n",
       " 'These, the offspring of a later period, stood erect and seemed ready to advance fearlessly into coming time; while those out worn stragglers, blasted and broke, clung to each other, their weak boughs sighing as the wind buffetted them a weather beaten crew.',\n",
       " 'What kept him from going with her and Brown Jenkin and the other to the throne of Chaos where the thin flutes pipe mindlessly was the fact that he had seen the name \"Azathoth\" in the Necronomicon, and knew it stood for a primal evil too horrible for description.',\n",
       " 'Persuading the widow that my connexion with her husband\\'s \"technical matters\" was sufficient to entitle me to his manuscript, I bore the document away and began to read it on the London boat.',\n",
       " 'When I arose trembling, I know not how much later, I staggered into the house and made shocking obeisances before the enshrined amulet of green jade.',\n",
       " 'And by the shores of the river Zaire there is neither quiet nor silence.',\n",
       " \"Idris heard of her mother's return with pleasure.\",\n",
       " 'I say this proudly, but with tears in my eyes for the firm proved themselves the basest of ingrates.',\n",
       " 'But let us glance at the treatise Ah \"Ability or inability to conceive,\" says Mr. Mill, very properly, \"is in no case to be received as a criterion of axiomatic truth.\"',\n",
       " '\"What a place is this that you inhabit, my son\" said he, looking mournfully at the barred windows and wretched appearance of the room.',\n",
       " 'At his nod I took one of the latter and seated myself upon an aged, discoloured gravestone close by the newly uncovered aperture.']"
      ]
     },
     "execution_count": 6,
     "metadata": {},
     "output_type": "execute_result"
    }
   ],
   "source": [
    "test[:20]"
   ]
  },
  {
   "cell_type": "markdown",
   "metadata": {},
   "source": [
    "## Data preprocessing\n",
    "\n",
    "The first step when building a neural network model is getting your data into the proper form to feed into the network. Since we're using embedding layers, we'll need to encode each word with an integer. We'll also want to clean it up a bit.\n",
    "\n",
    "You can see an example of the reviews data above. We'll want to get rid of those periods. Also, you might notice that the reviews are delimited with newlines `\\n`. To deal with those, I'm going to split the text into each review using `\\n` as the delimiter. Then I can combined all the reviews back together into one big string.\n",
    "\n",
    "First, let's remove all punctuation. Then get all the text without the newlines and split it into individual words."
   ]
  },
  {
   "cell_type": "code",
   "execution_count": 7,
   "metadata": {
    "collapsed": true
   },
   "outputs": [],
   "source": [
    "from string import punctuation\n",
    "all_text = ' '.join([c for c in reviews + test if c not in punctuation])\n",
    "\n",
    "words = all_text.split()"
   ]
  },
  {
   "cell_type": "code",
   "execution_count": 8,
   "metadata": {},
   "outputs": [
    {
     "data": {
      "text/plain": [
       "'This process, however, afforded me no means of ascertaining the dimensions of my dungeon; as I might make its circuit, and return to the point whence I set out, without being aware of the fact; so perfectly uniform seemed the wall. It never once occurred to me that the fumbling might be a mere mistake. I'"
      ]
     },
     "execution_count": 8,
     "metadata": {},
     "output_type": "execute_result"
    }
   ],
   "source": [
    "all_text[:305]"
   ]
  },
  {
   "cell_type": "code",
   "execution_count": 9,
   "metadata": {},
   "outputs": [
    {
     "data": {
      "text/plain": [
       "['This',\n",
       " 'process,',\n",
       " 'however,',\n",
       " 'afforded',\n",
       " 'me',\n",
       " 'no',\n",
       " 'means',\n",
       " 'of',\n",
       " 'ascertaining',\n",
       " 'the',\n",
       " 'dimensions',\n",
       " 'of',\n",
       " 'my',\n",
       " 'dungeon;',\n",
       " 'as',\n",
       " 'I',\n",
       " 'might',\n",
       " 'make',\n",
       " 'its',\n",
       " 'circuit,',\n",
       " 'and',\n",
       " 'return',\n",
       " 'to',\n",
       " 'the',\n",
       " 'point',\n",
       " 'whence',\n",
       " 'I',\n",
       " 'set',\n",
       " 'out,',\n",
       " 'without',\n",
       " 'being',\n",
       " 'aware',\n",
       " 'of',\n",
       " 'the',\n",
       " 'fact;',\n",
       " 'so',\n",
       " 'perfectly',\n",
       " 'uniform',\n",
       " 'seemed',\n",
       " 'the',\n",
       " 'wall.',\n",
       " 'It',\n",
       " 'never',\n",
       " 'once',\n",
       " 'occurred',\n",
       " 'to',\n",
       " 'me',\n",
       " 'that',\n",
       " 'the',\n",
       " 'fumbling',\n",
       " 'might',\n",
       " 'be',\n",
       " 'a',\n",
       " 'mere',\n",
       " 'mistake.',\n",
       " 'In',\n",
       " 'his',\n",
       " 'left',\n",
       " 'hand',\n",
       " 'was',\n",
       " 'a',\n",
       " 'gold',\n",
       " 'snuff',\n",
       " 'box,',\n",
       " 'from',\n",
       " 'which,',\n",
       " 'as',\n",
       " 'he',\n",
       " 'capered',\n",
       " 'down',\n",
       " 'the',\n",
       " 'hill,',\n",
       " 'cutting',\n",
       " 'all',\n",
       " 'manner',\n",
       " 'of',\n",
       " 'fantastic',\n",
       " 'steps,',\n",
       " 'he',\n",
       " 'took',\n",
       " 'snuff',\n",
       " 'incessantly',\n",
       " 'with',\n",
       " 'an',\n",
       " 'air',\n",
       " 'of',\n",
       " 'the',\n",
       " 'greatest',\n",
       " 'possible',\n",
       " 'self',\n",
       " 'satisfaction.',\n",
       " 'How',\n",
       " 'lovely',\n",
       " 'is',\n",
       " 'spring',\n",
       " 'As',\n",
       " 'we',\n",
       " 'looked',\n",
       " 'from',\n",
       " 'Windsor']"
      ]
     },
     "execution_count": 9,
     "metadata": {},
     "output_type": "execute_result"
    }
   ],
   "source": [
    "words[:100]"
   ]
  },
  {
   "cell_type": "markdown",
   "metadata": {},
   "source": [
    "### Encoding the words\n",
    "\n",
    "The embedding lookup requires that we pass in integers to our network. The easiest way to do this is to create dictionaries that map the words in the vocabulary to integers. Then we can convert each of our reviews into integers so they can be passed into the network.\n",
    "\n",
    "> **Exercise:** Now you're going to encode the words with integers. Build a dictionary that maps words to integers. Later we're going to pad our input vectors with zeros, so make sure the integers **start at 1, not 0**.\n",
    "> Also, convert the reviews to integers and store the reviews in a new list called `reviews_ints`. "
   ]
  },
  {
   "cell_type": "code",
   "execution_count": 10,
   "metadata": {},
   "outputs": [
    {
     "data": {
      "text/plain": [
       "'In his left hand was a gold snuff box, from which, as he capered down the hill, cutting all manner of fantastic steps, he took snuff incessantly with an air of the greatest possible self satisfaction.'"
      ]
     },
     "execution_count": 10,
     "metadata": {},
     "output_type": "execute_result"
    }
   ],
   "source": [
    "reviews[2]"
   ]
  },
  {
   "cell_type": "code",
   "execution_count": 11,
   "metadata": {
    "collapsed": true
   },
   "outputs": [],
   "source": [
    "# Create your dictionary that maps vocab words to integers here\n",
    "vocab_to_int = {word:index for index,word in enumerate(set(words),1)}\n",
    "vocab_to_int[\"<PAD>\"] = 0\n",
    "\n",
    "# Convert the reviews to integers, same shape as reviews list, but with integers\n",
    "reviews_ints = []\n",
    "for review in reviews:\n",
    "    reviews_ints.append([vocab_to_int[word] for word in review.split()])\n",
    "    \n",
    "test_ints = []\n",
    "for test_line in test:\n",
    "    test_ints.append([vocab_to_int[word] for word in test_line.split()])"
   ]
  },
  {
   "cell_type": "code",
   "execution_count": 12,
   "metadata": {},
   "outputs": [
    {
     "data": {
      "text/plain": [
       "[20871,\n",
       " 42992,\n",
       " 43625,\n",
       " 1780,\n",
       " 53233,\n",
       " 50730,\n",
       " 52865,\n",
       " 4828,\n",
       " 50177,\n",
       " 52697,\n",
       " 8848,\n",
       " 27260,\n",
       " 23185,\n",
       " 30334]"
      ]
     },
     "execution_count": 12,
     "metadata": {},
     "output_type": "execute_result"
    }
   ],
   "source": [
    "reviews_ints[1]"
   ]
  },
  {
   "cell_type": "code",
   "execution_count": 13,
   "metadata": {},
   "outputs": [
    {
     "data": {
      "text/plain": [
       "[53592,\n",
       " 27260,\n",
       " 13807,\n",
       " 12253,\n",
       " 36069,\n",
       " 32612,\n",
       " 25902,\n",
       " 3002,\n",
       " 8848,\n",
       " 38820,\n",
       " 16373,\n",
       " 27260,\n",
       " 28285,\n",
       " 28984,\n",
       " 50613,\n",
       " 4828,\n",
       " 41382,\n",
       " 41459,\n",
       " 16603,\n",
       " 43507,\n",
       " 22162,\n",
       " 9016,\n",
       " 42945,\n",
       " 52865,\n",
       " 35855,\n",
       " 28984,\n",
       " 2871,\n",
       " 34936,\n",
       " 16895,\n",
       " 24528,\n",
       " 2781,\n",
       " 13526,\n",
       " 24528,\n",
       " 27260,\n",
       " 1215,\n",
       " 20506,\n",
       " 52429,\n",
       " 29768,\n",
       " 19639,\n",
       " 51768,\n",
       " 27260,\n",
       " 8185,\n",
       " 25493,\n",
       " 3480,\n",
       " 24528,\n",
       " 23517,\n",
       " 39618,\n",
       " 52865,\n",
       " 44774,\n",
       " 26024,\n",
       " 24528,\n",
       " 46740,\n",
       " 25493,\n",
       " 27260,\n",
       " 8987,\n",
       " 15450,\n",
       " 35884,\n",
       " 4828,\n",
       " 4453,\n",
       " 25493,\n",
       " 27260,\n",
       " 38210]"
      ]
     },
     "execution_count": 13,
     "metadata": {},
     "output_type": "execute_result"
    }
   ],
   "source": [
    "test_ints[1]"
   ]
  },
  {
   "cell_type": "markdown",
   "metadata": {},
   "source": [
    "### Encoding the labels\n",
    "\n",
    "Our labels are \"positive\" or \"negative\". To use these labels in our network, we need to convert them to 0 and 1.\n",
    "\n",
    "> **Exercise:** Convert labels from `positive` and `negative` to 1 and 0, respectively."
   ]
  },
  {
   "cell_type": "code",
   "execution_count": 14,
   "metadata": {},
   "outputs": [
    {
     "name": "stdout",
     "output_type": "stream",
     "text": [
      "{'EAP': 0, 'MWS': 1, 'HPL': 2}\n",
      "{0: 'EAP', 1: 'MWS', 2: 'HPL'}\n",
      "[0, 2, 0, 1, 2, 1, 0, 0, 0, 1]\n"
     ]
    }
   ],
   "source": [
    "labels_to_int = {}\n",
    "int_to_labels = {}\n",
    "unique_labels = list(set(labels))\n",
    "for i,label in enumerate(unique_labels):\n",
    "    labels_to_int[label] = i\n",
    "    int_to_labels[i] = label\n",
    "    \n",
    "int_labels = []\n",
    "\n",
    "for label in labels:\n",
    "    int_labels.append(labels_to_int[label])\n",
    "    \n",
    "print(labels_to_int)\n",
    "print(int_to_labels)\n",
    "print(int_labels[:10])"
   ]
  },
  {
   "cell_type": "code",
   "execution_count": 15,
   "metadata": {},
   "outputs": [
    {
     "data": {
      "text/plain": [
       "array([[1, 0, 0],\n",
       "       [0, 0, 1],\n",
       "       [1, 0, 0],\n",
       "       ..., \n",
       "       [1, 0, 0],\n",
       "       [1, 0, 0],\n",
       "       [0, 0, 1]])"
      ]
     },
     "execution_count": 15,
     "metadata": {},
     "output_type": "execute_result"
    }
   ],
   "source": [
    "encoder = preprocessing.LabelBinarizer()\n",
    "encoder.fit(list(set(int_labels)))\n",
    "one_hot_labels = encoder.transform(int_labels)\n",
    "                                   \n",
    "one_hot_labels"
   ]
  },
  {
   "cell_type": "code",
   "execution_count": 16,
   "metadata": {},
   "outputs": [
    {
     "name": "stdout",
     "output_type": "stream",
     "text": [
      "Zero-length reviews: 0\n",
      "Maximum review length: 861\n",
      "Minimum length: 2\n",
      "Average length: 92.09655172413792\n"
     ]
    }
   ],
   "source": [
    "from collections import Counter\n",
    "review_lens = Counter([len(x) for x in reviews_ints])\n",
    "print(\"Zero-length reviews: {}\".format(review_lens[0]))\n",
    "print(\"Maximum review length: {}\".format(max(review_lens)))\n",
    "print(\"Minimum length: {}\".format(min(review_lens)))\n",
    "print(\"Average length: {}\".format(sum(review_lens)/len(review_lens)))"
   ]
  },
  {
   "cell_type": "code",
   "execution_count": 17,
   "metadata": {},
   "outputs": [
    {
     "name": "stdout",
     "output_type": "stream",
     "text": [
      "Zero-length reviews: 0\n",
      "Maximum review length: 818\n",
      "Minimum length: 3\n",
      "Average length: 77.57377049180327\n"
     ]
    }
   ],
   "source": [
    "test_lens = Counter([len(x) for x in test_ints])\n",
    "print(\"Zero-length reviews: {}\".format(test_lens[0]))\n",
    "print(\"Maximum review length: {}\".format(max(test_lens)))\n",
    "print(\"Minimum length: {}\".format(min(test_lens)))\n",
    "print(\"Average length: {}\".format(sum(test_lens)/len(test_lens)))"
   ]
  },
  {
   "cell_type": "markdown",
   "metadata": {},
   "source": [
    "The maximum review length is way too many steps for our RNN. Let's truncate to 100 steps. For reviews shorter than 100, we'll pad with 0s. For reviews longer than 100, we can truncate them to the first 200 characters."
   ]
  },
  {
   "cell_type": "markdown",
   "metadata": {},
   "source": [
    "Now, create an array `features` that contains the data we'll pass to the network. The data should come from text ints, since we want to feed integers to the network. Each row should be 100 elements long. For lubes shorter than 200 words, left pad with 0s. \n"
   ]
  },
  {
   "cell_type": "code",
   "execution_count": 18,
   "metadata": {
    "collapsed": true
   },
   "outputs": [],
   "source": [
    "seq_len = 100\n",
    "features = []\n",
    "\n",
    "for review in reviews_ints:\n",
    "    review_size = len(review)\n",
    "    if review_size < seq_len:\n",
    "        padded_review = [0] * seq_len\n",
    "        padded_review[seq_len-len(review):seq_len] = review\n",
    "    elif review_size > seq_len:\n",
    "        padded_review = review[:seq_len]\n",
    "    \n",
    "    features.append(padded_review)\n",
    "features  = np.array(features)"
   ]
  },
  {
   "cell_type": "code",
   "execution_count": 19,
   "metadata": {},
   "outputs": [
    {
     "data": {
      "text/plain": [
       "array([[    0,     0,     0,     0,     0,     0,     0,     0,     0,\n",
       "            0,     0,     0,     0,     0,     0,     0,     0,     0,\n",
       "            0,     0,     0,     0,     0,     0,     0,     0,     0,\n",
       "            0,     0,     0,     0,     0,     0,     0,     0,     0,\n",
       "            0,     0,     0,     0,     0,     0,     0,     0,     0,\n",
       "            0,     0,     0,     0,     0,     0,     0,     0,     0,\n",
       "            0,     0,     0,     0,     0,  1487, 10902,  8948, 22402,\n",
       "        50730,  9016, 27895, 25493, 23117,  4828, 33744, 25493, 23095,\n",
       "        30762, 50613, 43507, 52697,    95, 55330, 18106, 28984,   441,\n",
       "        53233,  4828, 13614, 32802, 43507, 31614,  2071, 20015,  1177,\n",
       "        45961, 25493,  4828, 56170,  5888, 39400,  9014, 37023,  4828,\n",
       "         1825],\n",
       "       [    0,     0,     0,     0,     0,     0,     0,     0,     0,\n",
       "            0,     0,     0,     0,     0,     0,     0,     0,     0,\n",
       "            0,     0,     0,     0,     0,     0,     0,     0,     0,\n",
       "            0,     0,     0,     0,     0,     0,     0,     0,     0,\n",
       "            0,     0,     0,     0,     0,     0,     0,     0,     0,\n",
       "            0,     0,     0,     0,     0,     0,     0,     0,     0,\n",
       "            0,     0,     0,     0,     0,     0,     0,     0,     0,\n",
       "            0,     0,     0,     0,     0,     0,     0,     0,     0,\n",
       "            0,     0,     0,     0,     0,     0,     0,     0,     0,\n",
       "            0,     0,     0,     0,     0, 20871, 42992, 43625,  1780,\n",
       "        53233, 50730, 52865,  4828, 50177, 52697,  8848, 27260, 23185,\n",
       "        30334],\n",
       "       [    0,     0,     0,     0,     0,     0,     0,     0,     0,\n",
       "            0,     0,     0,     0,     0,     0,     0,     0,     0,\n",
       "            0,     0,     0,     0,     0,     0,     0,     0,     0,\n",
       "            0,     0,     0,     0,     0,     0,     0,     0,     0,\n",
       "            0,     0,     0,     0,     0,     0,     0,     0,     0,\n",
       "            0,     0,     0,     0,     0,     0,     0,     0,     0,\n",
       "            0,     0,     0,     0,     0,     0,     0,     0,     0,\n",
       "            0, 16916,  4081, 37676, 34147, 19639, 27260, 38720, 22082,\n",
       "        28013, 15611, 36977, 50613, 48946, 27169,  6383,  4828, 31042,\n",
       "        36707, 23517,  7876, 25493, 49685, 21360, 48946, 25985, 22082,\n",
       "        19464, 16373, 13224, 28170, 25493,  4828,  3419,  8347, 14419,\n",
       "        51241],\n",
       "       [    0,     0,     0,     0,     0,     0,     0,     0,     0,\n",
       "            0,     0,     0,     0,     0,     0,     0,     0,     0,\n",
       "            0,     0,     0,     0,     0,     0,     0,     0,     0,\n",
       "            0,     0,     0,     0,     0,     0,     0,     0,     0,\n",
       "            0,     0,     0,     0,     0,     0,     0,     0,     0,\n",
       "            0,     0,     0,     0,     0,     0,     0,     0,     0,\n",
       "            0,     0,     0,     0,     0,     0,     0,     0,     0,\n",
       "            0,     0,     0, 55205, 48274, 25304,  2128, 20572,   927,\n",
       "         5068, 15611, 52922, 27564, 27306,  4828,  5354, 36204, 38638,\n",
       "        33417, 38380, 37865, 24475,  2458, 44715, 28984, 31558,  8649,\n",
       "        23517,  5068, 50613, 24528, 20145, 32312, 42128, 41218, 28984,\n",
       "        50754],\n",
       "       [    0,     0,     0,     0,     0,     0,     0,     0,     0,\n",
       "            0,     0,     0,     0,     0,     0,     0,     0,     0,\n",
       "            0,     0,     0,     0,     0,     0,     0,     0,     0,\n",
       "            0,     0,     0,     0,     0,     0,     0,     0,     0,\n",
       "            0,     0,     0,     0,     0,     0,     0,     0,     0,\n",
       "            0,     0,     0,     0,     0,     0,     0,     0,     0,\n",
       "            0,     0,     0,     0,     0,     0,     0,     0,     0,\n",
       "            0,     0,     0,     0,     0,     0,     0,     0,     0,\n",
       "            0, 30290,  9248, 27228, 51768,  2025, 42649,  4828, 17421,\n",
       "        36119,  4081,  5986, 44622, 27260,   485, 26851, 55136, 44790,\n",
       "        50758,  4081, 56349, 50613, 48946, 25463, 11012, 39183,  4081,\n",
       "        30622],\n",
       "       [    0,     0,     0,     0,     0,     0,     0,     0,     0,\n",
       "            0,     0,     0,     0,     0,     0,     0,     0, 12234,\n",
       "        16750, 55636, 24528, 24628, 23095, 24732,  9714, 44161,  5834,\n",
       "         6654, 26406, 28984,  6707, 20835, 21039,  5888, 17302,  4828,\n",
       "        46329, 25493, 23095, 20958, 52865, 43507, 31076, 10273, 13224,\n",
       "        21220, 17344, 53233,  4828, 39517, 13117, 52160, 27306, 47015,\n",
       "         5625, 43507, 22162, 42992,  1866, 32612, 53233,  8848, 26234,\n",
       "        28984,  3059, 43507,   964, 25493, 27260,   397, 27208, 17706,\n",
       "        14410,  4081, 35707, 25493, 42128, 28984,  4828, 19406, 28984,\n",
       "        52993, 27450, 53233, 19090, 24475,  4081, 25449, 43507, 55984,\n",
       "        26791,  6125, 32961, 24528,  1177, 20759, 53233,  6544,  4081,\n",
       "         5565],\n",
       "       [    0,     0,     0,     0,     0,     0,     0,     0,     0,\n",
       "            0,     0,     0,     0,     0,     0,     0,     0,     0,\n",
       "            0,     0,     0,     0,     0,     0,     0,     0,     0,\n",
       "            0,     0,     0,     0,     0,     0,     0,     0,     0,\n",
       "            0,     0,     0,     0,     0,     0,     0,     0,     0,\n",
       "            0,     0,     0,     0,     0,     0,     0,     0,     0,\n",
       "            0,     0,     0,     0,     0,     0,     0,     0,     0,\n",
       "            0,     0,     0,     0,     0,     0,     0,     0,     0,\n",
       "            0,     0,     0,     0,     0,     0,     0, 26063, 49717,\n",
       "        54749, 39183, 34646, 14675, 25985, 34802, 24528,  4828, 15077,\n",
       "        25493, 34283, 49595, 28984, 39758, 35952, 19639,  6566,  1603,\n",
       "        46238],\n",
       "       [    0,     0,     0,     0,     0,     0,     0,     0,     0,\n",
       "            0,     0,     0,     0,     0,     0,     0,     0,     0,\n",
       "            0,     0,     0,     0,     0,     0,     0,     0,     0,\n",
       "            0,     0,     0,     0,     0,     0,     0,     0,     0,\n",
       "            0,     0,     0,     0,     0,     0,     0,     0,     0,\n",
       "            0,     0,     0,     0,     0,     0,     0,     0,     0,\n",
       "            0,     0,     0,     0,     0,     0,     0,     0,     0,\n",
       "            0,     0,     0,     0,     0,     0,     0,     0,     0,\n",
       "            0,     0,     0,     0,     0,     0,     0,     0,     0,\n",
       "            0,     0,     0,     0,     0,     0,     0,     0,     0,\n",
       "            0,     0, 26063, 36695, 41094, 24528, 17646, 15611, 23095,\n",
       "         8394],\n",
       "       [    0,     0,     0,     0,     0,     0,     0,     0,     0,\n",
       "            0,     0,     0, 43507, 36409, 52865, 51225, 25902, 51768,\n",
       "        27936, 53233, 40927,  9978, 20015,  1177,  9552, 53233, 31760,\n",
       "        25493, 12704, 28984, 48552, 25493,  4828,  7949, 25493, 23295,\n",
       "        28984, 29574,  3059,   927, 40556, 34646,  9668, 51768,  1215,\n",
       "         1108, 35336, 43507, 21175, 53233, 51225,  2983, 34435, 16238,\n",
       "        16373,  2983, 33134, 53851,  4828, 26623, 15467, 25493, 52865,\n",
       "         4970, 25206,  7002,  5375, 16373, 12236, 24528,  4828, 41113,\n",
       "        46659, 10600, 43507, 55984, 52865, 51225, 25902, 51768,   885,\n",
       "        25150,  6654, 16201, 35060, 53233,  4828, 43916,  6223, 24528,\n",
       "        30600, 28984, 43507, 52107, 52744, 52865, 51225, 36857, 16785,\n",
       "        40988],\n",
       "       [    0,     0,     0,     0,     0,     0,     0,     0,     0,\n",
       "            0,     0,     0,     0,     0,     0,     0,     0,     0,\n",
       "            0,     0,     0,     0,     0,     0,     0,     0,     0,\n",
       "            0,     0,     0,     0,     0,     0,     0,     0,     0,\n",
       "            0,     0,     0,     0,     0,     0,     0,     0,     0,\n",
       "            0,     0,     0,     0,     0,     0,     0,     0,     0,\n",
       "            0,     0,     0,     0,     0,     0,     0,     0,     0,\n",
       "            0,     0,     0,     0,     0,     0,     0,     0,     0,\n",
       "            0,     0,     0,     0,     0, 43507, 16613, 52865, 55036,\n",
       "         4828, 56054, 25493, 18220, 17999,  4828, 19752, 25493, 50231,\n",
       "        17999,  4828, 40662, 25493, 19545, 56294,  2994, 54137, 14410,\n",
       "         7144]])"
      ]
     },
     "execution_count": 19,
     "metadata": {},
     "output_type": "execute_result"
    }
   ],
   "source": [
    "features[:10,:100]"
   ]
  },
  {
   "cell_type": "code",
   "execution_count": 20,
   "metadata": {
    "collapsed": true
   },
   "outputs": [],
   "source": [
    "test_features = []\n",
    "\n",
    "for test_line in test_ints:\n",
    "    line_size = len(test_line)\n",
    "    if line_size < seq_len:\n",
    "        padded_line = [0] * seq_len\n",
    "        padded_line[seq_len-len(test_line):seq_len] = test_line\n",
    "    elif line_size > seq_len:\n",
    "        padded_line = test_line[:seq_len]\n",
    "        \n",
    "    test_features.append(padded_line)\n",
    "\n",
    "test_features = np.array(test_features)"
   ]
  },
  {
   "cell_type": "code",
   "execution_count": 21,
   "metadata": {},
   "outputs": [
    {
     "data": {
      "text/plain": [
       "(8392, 100)"
      ]
     },
     "execution_count": 21,
     "metadata": {},
     "output_type": "execute_result"
    }
   ],
   "source": [
    "test_features.shape"
   ]
  },
  {
   "cell_type": "code",
   "execution_count": 22,
   "metadata": {},
   "outputs": [
    {
     "data": {
      "text/plain": [
       "array([[    0,     0,     0,     0,     0,     0,     0,     0,     0,\n",
       "            0,     0,     0,     0,     0,     0,     0,     0,     0,\n",
       "            0,     0,     0,     0,     0,     0,     0,     0,     0,\n",
       "            0,     0,     0,     0,     0,     0,     0,     0,     0,\n",
       "            0,     0,     0,     0,     0,     0,     0,     0,     0,\n",
       "            0,     0,     0,     0,     0,     0,     0,     0,     0,\n",
       "            0,     0,     0,     0,     0,     0,     0,     0,     0,\n",
       "            0,     0,     0,     0,     0,     0,     0,     0,     0,\n",
       "            0,     0,     0,     0,     0,     0,     0,     0,     0,\n",
       "        39341, 50613, 43507, 38651, 31661, 45646, 26233, 16373, 44936,\n",
       "        39306, 28984, 13492, 23095, 49015, 47593, 32612, 24732, 53233,\n",
       "        11217],\n",
       "       [    0,     0,     0,     0,     0,     0,     0,     0,     0,\n",
       "            0,     0,     0,     0,     0,     0,     0,     0,     0,\n",
       "            0,     0,     0,     0,     0,     0,     0,     0,     0,\n",
       "            0,     0,     0,     0,     0,     0,     0,     0,     0,\n",
       "            0,     0, 53592, 27260, 13807, 12253, 36069, 32612, 25902,\n",
       "         3002,  8848, 38820, 16373, 27260, 28285, 28984, 50613,  4828,\n",
       "        41382, 41459, 16603, 43507, 22162,  9016, 42945, 52865, 35855,\n",
       "        28984,  2871, 34936, 16895, 24528,  2781, 13526, 24528, 27260,\n",
       "         1215, 20506, 52429, 29768, 19639, 51768, 27260,  8185, 25493,\n",
       "         3480, 24528, 23517, 39618, 52865, 44774, 26024, 24528, 46740,\n",
       "        25493, 27260,  8987, 15450, 35884,  4828,  4453, 25493, 27260,\n",
       "        38210],\n",
       "       [    0,     0,     0,     0,     0,     0,     0,     0,     0,\n",
       "            0,     0,     0,     0,     0,     0,     0,     0,     0,\n",
       "            0,     0,     0,     0,     0,     0,     0,     0,     0,\n",
       "            0,     0,     0,     0,     0,     0,     0,     0,     0,\n",
       "            0,     0,     0,     0,     0,     0,     0,     0,     0,\n",
       "            0,     0,     0,     0,     0,     0,     0,     0,     0,\n",
       "            0,     0,     0,     0,     0,     0,     0,     0,     0,\n",
       "            0,     0,     0,     0, 37369,  3059, 19762,  7002, 44537,\n",
       "         6383,  4828, 37313, 55787, 19762, 56639, 11547, 34706, 48321,\n",
       "        52997, 25333, 16909, 24200, 27306,  4828,   521, 13935, 28984,\n",
       "        27260, 24591, 25493, 32890, 42836, 12580, 24528,  4828, 37465,\n",
       "        56381],\n",
       "       [    0,     0,     0,     0,     0,     0,     0,     0,     0,\n",
       "            0,     0,     0,     0,     0,     0,     0,     0,     0,\n",
       "            0,     0,     0,     0,     0,     0,     0,     0,     0,\n",
       "            0,     0,     0,     0,     0,     0,     0,     0,     0,\n",
       "            0,     0,     0,     0,     0,     0,     0,     0,     0,\n",
       "            0,     0,     0,     0,     0,     0,     0,     0,     0,\n",
       "            0,     0,     0,     0,     0,  7257, 43507, 19639, 11012,\n",
       "         2983, 43507, 55406, 34845, 16451, 20015,  7079, 44140, 40461,\n",
       "         8433, 40665, 25493, 23095, 54637, 47581, 34237,  6383,  4828,\n",
       "         9015, 47879, 25493,  4828, 55780, 27000, 24528,  4828,  3312,\n",
       "        28994, 47520,  8094, 13302,  4828, 14750, 25493,  4828, 15223,\n",
       "        24162],\n",
       "       [    0,     0,     0,     0,     0,     0,     0,     0,     0,\n",
       "            0,     0,     0,     0,     0,     0,     0,     0,     0,\n",
       "            0,     0,     0,     0,     0,     0,     0,     0,     0,\n",
       "            0,     0,     0,     0,     0,     0,     0,     0,     0,\n",
       "            0,     0,     0,     0,     0,     0,     0,     0,     0,\n",
       "            0,     0,     0,     0,     0,     0,     0,     0,     0,\n",
       "            0,     0,     0,     0,     0,     0,     0,     0,     0,\n",
       "            0,     0,     0,     0,     0,     0,     0,     0,     0,\n",
       "            0,     0,     0,     0,     0,     0,     0,     0,     0,\n",
       "            0,     0,     0,     0,     0,     0,     0,     0, 43507,\n",
       "        25462, 51768, 13413, 53233, 14773, 12035,  4081, 41601, 54872,\n",
       "        10442],\n",
       "       [    0,     0,     0,     0,     0,     0,     0,     0,     0,\n",
       "            0,     0,     0,     0,     0,     0,     0,     0,     0,\n",
       "            0,     0,     0,     0,     0,     0,     0,     0,     0,\n",
       "            0,     0,     0,     0,     0,     0,     0,     0,     0,\n",
       "            0,     0,     0,     0,     0,     0,     0,     0,     0,\n",
       "            0,     0,     0,     0,     0,     0,     0,     0,     0,\n",
       "            0,     0,     0,     0,     0,     0,     0,     0,     0,\n",
       "            0,     0,     0,     0,     0, 39536, 44688, 28984,  8555,\n",
       "        24136, 15450, 17830, 47520, 41090,  4828, 12069, 39910, 28984,\n",
       "        47520, 42797, 41094, 54192, 50758, 23517, 11834, 39912,  9016,\n",
       "        26134, 53233, 29196,  4828, 26623, 45118, 47520, 56424,  6190,\n",
       "        23967],\n",
       "       [    0,     0,     0,     0,     0,     0,     0,     0,     0,\n",
       "            0,     0,     0,     0,     0,     0,     0,     0,     0,\n",
       "            0,     0,     0,     0,     0,     0,     0,     0,     0,\n",
       "            0,     0,     0,     0,     0,     0,     0,     0,     0,\n",
       "            0,     0,     0,     0,     0,     0,     0,     0,     0,\n",
       "            0,     0,     0,     0,     0,     0,     0,     0,     0,\n",
       "            0,     0,     0,     0,     0,     0,     0,     0,     0,\n",
       "            0,     0,     0,     0,     0,     0,     0,     0,     0,\n",
       "            0,     0,     0,     0,     0,     0,     0,     0,     0,\n",
       "            0,     0,     0,     0,     0,     0,   414, 47520, 25304,\n",
       "        51768, 11443, 25304, 51768, 39183, 23517, 56178, 37249, 33368,\n",
       "         9435],\n",
       "       [    0,     0,     0,     0,     0,     0,     0,     0,     0,\n",
       "            0,     0,     0,     0,     0,     0,     0,     0,     0,\n",
       "            0,     0,     0,     0,     0,     0,     0,     0,     0,\n",
       "            0,     0,     0,     0,     0,     0,     0,     0,     0,\n",
       "            0,     0,     0,     0,     0,     0,     0,     0,     0,\n",
       "            0,     0,     0,     0,     0,     0,     0,     0,     0,\n",
       "            0,     0,     0,     0,     0,     0,     0,     0,     0,\n",
       "            0,     0,     0,     0,     0,     0,     0, 43507, 31123,\n",
       "        14410, 44892, 35212, 43507, 35480, 51768, 50421, 14410, 21329,\n",
       "        43507, 36409, 43507, 55406,  8848, 13439, 24475,  1073, 44622,\n",
       "        35480, 51768, 46952,  4828, 12982, 44140, 52865, 43507,  7134,\n",
       "        14758],\n",
       "       [    0,     0,     0,     0,     0,     0,     0,     0,     0,\n",
       "            0,     0,     0,     0,     0,     0,     0,     0,     0,\n",
       "            0,     0,     0,     0,     0,     0,     0,     0,     0,\n",
       "            0,     0,     0,     0,     0,     0,     0,     0,     0,\n",
       "            0,     0,     0,     0,     0,     0,     0,     0,     0,\n",
       "            0,     0,     0,     0,     0,     0,     0,     0,     0,\n",
       "            0,     0,     0,     0,     0,     0,     0,     0,     0,\n",
       "            0,     0,     0,     0,     0,     0,     0,     0,     0,\n",
       "        22879,  4828, 53678, 28702, 25493,  4828, 15015, 27260, 36099,\n",
       "        25493,  4828, 49755,  1712,  1215, 35168, 33519,  4828, 55790,\n",
       "        28984, 32227, 15225, 53233,    95, 15943, 39647, 25493,  4828,\n",
       "         3396],\n",
       "       [    0,     0,     0,     0,     0,     0,     0,     0,     0,\n",
       "            0,     0,     0,     0,     0,     0,     0,     0,     0,\n",
       "            0,     0,     0,     0,     0,     0,     0,     0,     0,\n",
       "            0,     0,     0,     0,     0,     0,     0,     0,     0,\n",
       "            0,     0,     0,     0,     0,     0,     0,     0,     0,\n",
       "            0,     0,     0,     0,     0,     0,     0,     0,     0,\n",
       "            0,     0,     0,     0,     0,     0,     0,     0,     0,\n",
       "            0,     0,     0,     0,     0,     0,     0,     0,     0,\n",
       "            0,     0,     0,     0,     0,     0,     0,     0,     0,\n",
       "            0,     0,     0,     0,     0,     0,     0,     0,     0,\n",
       "            0,     0, 39536, 44100,  1482, 25304, 16889, 27260,  7196,\n",
       "        30317]])"
      ]
     },
     "execution_count": 22,
     "metadata": {},
     "output_type": "execute_result"
    }
   ],
   "source": [
    "test_features[:10,:100]"
   ]
  },
  {
   "cell_type": "markdown",
   "metadata": {},
   "source": [
    "## Training, Validation, Test\n",
    "\n"
   ]
  },
  {
   "cell_type": "markdown",
   "metadata": {},
   "source": [
    "With our data in nice shape, we'll split it into training, validation, and test sets."
   ]
  },
  {
   "cell_type": "code",
   "execution_count": 23,
   "metadata": {},
   "outputs": [
    {
     "name": "stdout",
     "output_type": "stream",
     "text": [
      "\t\t\tFeature Shapes:\n",
      "Train set: \t\t(15663, 100) \n",
      "Validation set: \t(1958, 100) \n",
      "Test set: \t\t(1958, 100)\n"
     ]
    }
   ],
   "source": [
    "split_frac = 0.8\n",
    "\n",
    "split_index  = int(len(features)*split_frac)\n",
    "\n",
    "train_x, val_x = features[:split_index],features[split_index:]\n",
    "train_y, val_y = one_hot_labels[:split_index],one_hot_labels[split_index:]\n",
    "\n",
    "split_index = int(len(val_x)/2)\n",
    "\n",
    "val_x, test_x = val_x[:split_index],val_x[split_index:]\n",
    "val_y, test_y = val_y[:split_index],val_y[split_index:]\n",
    "\n",
    "print(\"\\t\\t\\tFeature Shapes:\")\n",
    "print(\"Train set: \\t\\t{}\".format(train_x.shape), \n",
    "      \"\\nValidation set: \\t{}\".format(val_x.shape),\n",
    "      \"\\nTest set: \\t\\t{}\".format(test_x.shape))\n"
   ]
  },
  {
   "cell_type": "markdown",
   "metadata": {},
   "source": [
    "## Build the graph\n",
    "\n",
    "Here, we'll build the graph. First up, defining the hyperparameters.\n",
    "\n",
    "* `lstm_size`: Number of units in the hidden layers in the LSTM cells. Usually larger is better performance wise. Common values are 128, 256, 512, etc.\n",
    "* `lstm_layers`: Number of LSTM layers in the network. I'd start with 1, then add more if I'm underfitting.\n",
    "* `batch_size`: The number of reviews to feed the network in one training pass. Typically this should be set as high as you can go without running out of memory.\n",
    "* `learning_rate`: Learning rate"
   ]
  },
  {
   "cell_type": "code",
   "execution_count": 24,
   "metadata": {
    "collapsed": true
   },
   "outputs": [],
   "source": [
    "lstm_size = 500\n",
    "lstm_layers = 1\n",
    "batch_size = 500\n",
    "learning_rate = 0.005\n",
    "dropout_prob = 0.95"
   ]
  },
  {
   "cell_type": "markdown",
   "metadata": {},
   "source": [
    "For the network itself, we'll be passing in our 100 element long review vectors. Each batch will be `batch_size` vectors. We'll also be using dropout on the LSTM layer, so we'll make a placeholder for the keep probability."
   ]
  },
  {
   "cell_type": "code",
   "execution_count": 25,
   "metadata": {
    "collapsed": true
   },
   "outputs": [],
   "source": [
    "n_words = len(vocab_to_int)\n",
    "\n",
    "# Create the graph object\n",
    "graph = tf.Graph()\n",
    "# Add nodes to the graph\n",
    "with graph.as_default():\n",
    "    inputs_ = tf.placeholder(tf.int32,shape=[batch_size,None],name=\"inputs\")\n",
    "    labels_ = tf.placeholder(tf.int32,shape=[batch_size,len(unique_labels)],name = \"labels\")\n",
    "    keep_prob = tf.placeholder(tf.float32,name =\"keep_prob\")\n",
    "    learning_rate_ = tf.placeholder(tf.float32,name = \"learning_rate\") "
   ]
  },
  {
   "cell_type": "markdown",
   "metadata": {},
   "source": [
    "### Embedding\n",
    "\n",
    "Now we'll add an embedding layer. We need to do this because there are many words in our vocabulary. It is massively inefficient to one-hot encode our classes here. Instead of one-hot encoding, we can have an embedding layer and use that layer as a lookup table. You could train an embedding layer using word2vec, then load it here. But, it's fine to just make a new layer and let the network learn the weights.\n",
    "\n",
    " Create the embedding lookup matrix as a `tf.Variable`. Use that embedding matrix to get the embedded vectors to pass to the LSTM cell with [`tf.nn.embedding_lookup`](https://www.tensorflow.org/api_docs/python/tf/nn/embedding_lookup). This function takes the embedding matrix and an input tensor, such as the review vectors. Then, it'll return another tensor with the embedded vectors. So, if the embedding layer has 200 units, the function will return a tensor with size [batch_size, 200].\n",
    "\n"
   ]
  },
  {
   "cell_type": "code",
   "execution_count": 26,
   "metadata": {
    "collapsed": true
   },
   "outputs": [],
   "source": [
    "# Size of the embedding vectors (number of units in the embedding layer)\n",
    "embed_size = 300 \n",
    "\n",
    "with graph.as_default():\n",
    "    embedding = tf.Variable(tf.random_uniform((n_words,embed_size),-0.5,0.5))\n",
    "    embed = tf.nn.embedding_lookup(embedding,inputs_)"
   ]
  },
  {
   "cell_type": "markdown",
   "metadata": {},
   "source": [
    "### LSTM cell\n",
    "\n",
    "<img src=\"assets/network_diagram.png\" width=400px>\n",
    "\n",
    "Next, we'll create our LSTM cells to use in the recurrent network ([TensorFlow documentation](https://www.tensorflow.org/api_docs/python/tf/contrib/rnn)). Here we are just defining what the cells look like. This isn't actually building the graph, just defining the type of cells we want in our graph.\n",
    "\n",
    "To create a basic LSTM cell for the graph, you'll want to use `tf.contrib.rnn.BasicLSTMCell`. Looking at the function documentation:\n",
    "\n",
    "```\n",
    "tf.contrib.rnn.BasicLSTMCell(num_units, forget_bias=1.0, input_size=None, state_is_tuple=True, activation=<function tanh at 0x109f1ef28>)\n",
    "```\n",
    "\n",
    "you can see it takes a parameter called `num_units`, the number of units in the cell, called `lstm_size` in this code. So then, you can write something like \n",
    "\n",
    "```\n",
    "lstm = tf.contrib.rnn.BasicLSTMCell(num_units)\n",
    "```\n",
    "\n",
    "to create an LSTM cell with `num_units`. Next, you can add dropout to the cell with `tf.contrib.rnn.DropoutWrapper`. This just wraps the cell in another cell, but with dropout added to the inputs and/or outputs. It's a really convenient way to make your network better with almost no effort! So you'd do something like\n",
    "\n",
    "```\n",
    "drop = tf.contrib.rnn.DropoutWrapper(cell, output_keep_prob=keep_prob)\n",
    "```\n",
    "\n",
    "Most of the time, your network will have better performance with more layers. That's sort of the magic of deep learning, adding more layers allows the network to learn really complex relationships. Again, there is a simple way to create multiple layers of LSTM cells with `tf.contrib.rnn.MultiRNNCell`:\n",
    "\n",
    "```\n",
    "cell = tf.contrib.rnn.MultiRNNCell([drop] * lstm_layers)\n",
    "```\n",
    "\n",
    "Here, `[drop] * lstm_layers` creates a list of cells (`drop`) that is `lstm_layers` long. The `MultiRNNCell` wrapper builds this into multiple layers of RNN cells, one for each cell in the list.\n",
    "\n",
    "So the final cell you're using in the network is actually multiple (or just one) LSTM cells with dropout. But it all works the same from an achitectural viewpoint, just a more complicated graph in the cell.\n",
    "\n",
    "> **Exercise:** Below, use `tf.contrib.rnn.BasicLSTMCell` to create an LSTM cell. Then, add drop out to it with `tf.contrib.rnn.DropoutWrapper`. Finally, create multiple LSTM layers with `tf.contrib.rnn.MultiRNNCell`.\n",
    "\n",
    "Here is [a tutorial on building RNNs](https://www.tensorflow.org/tutorials/recurrent) that will help you out.\n"
   ]
  },
  {
   "cell_type": "code",
   "execution_count": 27,
   "metadata": {
    "collapsed": true
   },
   "outputs": [],
   "source": [
    "with graph.as_default():\n",
    "    # Your basic LSTM cell\n",
    "    #lstm = tf.contrib.rnn.BasicLSTMCell(num_units=lstm_size)\n",
    "    \n",
    "    # Add dropout to the cell\n",
    "    #drop = tf.contrib.rnn.DropoutWrapper(lstm,output_keep_prob=keep_prob)\n",
    "    \n",
    "    # Stack up multiple LSTM layers, for deep learning\n",
    "    #cell = tf.contrib.rnn.MultiRNNCell([drop]*lstm_layers)\n",
    "    cell_list = [tf.contrib.rnn.DropoutWrapper(tf.contrib.rnn.BasicLSTMCell(num_units=lstm_size) ,output_keep_prob=keep_prob)  ]\n",
    "    cell = tf.contrib.rnn.MultiRNNCell(cell_list)\n",
    "    # Getting an initial state of all zeros\n",
    "    initial_state = cell.zero_state(batch_size, tf.float32)"
   ]
  },
  {
   "cell_type": "markdown",
   "metadata": {},
   "source": [
    "### RNN forward pass\n",
    "\n",
    "<img src=\"assets/network_diagram.png\" width=400px>\n",
    "\n",
    "Now we need to actually run the data through the RNN nodes. You can use [`tf.nn.dynamic_rnn`](https://www.tensorflow.org/api_docs/python/tf/nn/dynamic_rnn) to do this. You'd pass in the RNN cell you created (our multiple layered LSTM `cell` for instance), and the inputs to the network.\n",
    "\n",
    "```\n",
    "outputs, final_state = tf.nn.dynamic_rnn(cell, inputs, initial_state=initial_state)\n",
    "```\n",
    "\n",
    "Above I created an initial state, `initial_state`, to pass to the RNN. This is the cell state that is passed between the hidden layers in successive time steps. `tf.nn.dynamic_rnn` takes care of most of the work for us. We pass in our cell and the input to the cell, then it does the unrolling and everything else for us. It returns outputs for each time step and the final_state of the hidden layer.\n",
    "\n",
    "> **Exercise:** Use `tf.nn.dynamic_rnn` to add the forward pass through the RNN. Remember that we're actually passing in vectors from the embedding layer, `embed`.\n",
    "\n"
   ]
  },
  {
   "cell_type": "code",
   "execution_count": 28,
   "metadata": {
    "collapsed": true
   },
   "outputs": [],
   "source": [
    "with graph.as_default():\n",
    "    outputs, final_state = tf.nn.dynamic_rnn(cell,embed,initial_state=initial_state)"
   ]
  },
  {
   "cell_type": "markdown",
   "metadata": {},
   "source": [
    "### Output\n",
    "\n",
    "We only care about the final output, we'll be using that as our sentiment prediction. So we need to grab the last output with `outputs[:, -1]`, the calculate the cost from that and `labels_`."
   ]
  },
  {
   "cell_type": "code",
   "execution_count": 29,
   "metadata": {
    "collapsed": true
   },
   "outputs": [],
   "source": [
    "with graph.as_default():\n",
    "    fully_connected = tf.contrib.layers.fully_connected(outputs[:, -1], 10, activation_fn=tf.nn.relu)\n",
    "    fully_connected = tf.contrib.layers.fully_connected(fully_connected, 3, activation_fn=tf.nn.relu)\n",
    "    logits = tf.identity(fully_connected)\n",
    "    cost = tf.reduce_mean(tf.nn.softmax_cross_entropy_with_logits(logits = logits, labels=labels_))\n",
    "    \n",
    "    optimizer = tf.train.AdamOptimizer(learning_rate_).minimize(cost)"
   ]
  },
  {
   "cell_type": "markdown",
   "metadata": {},
   "source": [
    "### Validation accuracy\n",
    "\n",
    "Here we can add a few nodes to calculate the accuracy which we'll use in the validation pass."
   ]
  },
  {
   "cell_type": "code",
   "execution_count": 30,
   "metadata": {
    "collapsed": true
   },
   "outputs": [],
   "source": [
    "with graph.as_default():\n",
    "    predictions = tf.nn.softmax(logits)\n",
    "    predictions_hardmax = tf.argmax(predictions,1)\n",
    "#    correct_pred = tf.equal(tf.cast(tf.round(predictions), tf.int32), labels_)\n",
    "#    accuracy = tf.reduce_mean(tf.cast(correct_pred, tf.float32))"
   ]
  },
  {
   "cell_type": "markdown",
   "metadata": {},
   "source": [
    "### Batching\n",
    "\n",
    "This is a simple function for returning batches from our data. First it removes data such that we only have full batches. Then it iterates through the `x` and `y` arrays and returns slices out of those arrays with size `[batch_size]`."
   ]
  },
  {
   "cell_type": "code",
   "execution_count": 31,
   "metadata": {
    "collapsed": true
   },
   "outputs": [],
   "source": [
    "def get_batches(x, y, batch_size=100):\n",
    "    \n",
    "    n_batches = len(x)//batch_size\n",
    "    x, y = x[:n_batches*batch_size], y[:n_batches*batch_size]\n",
    "    for ii in range(0, len(x), batch_size):\n",
    "        yield x[ii:ii+batch_size], y[ii:ii+batch_size]"
   ]
  },
  {
   "cell_type": "markdown",
   "metadata": {},
   "source": [
    "## Training\n",
    "\n",
    "Below is the typical training code. If you want to do this yourself, feel free to delete all this code and implement it yourself. Before you run this, make sure the `checkpoints` directory exists."
   ]
  },
  {
   "cell_type": "code",
   "execution_count": 32,
   "metadata": {},
   "outputs": [],
   "source": [
    "def calc_classification_metrics(predictions,real_values):\n",
    "    accuracy =  sum(predictions == real_values)/predictions.shape[0] # metrics.accuracy_score(predictions,real_values)\n",
    "    error = 1 - accuracy\n",
    "    precision = 0# metrics.precision_score(predictions,real_values)\n",
    "    recall = 0#metrics.recall_score(predictions,real_values)\n",
    "    \n",
    "    return accuracy,error,precision,recall\n"
   ]
  },
  {
   "cell_type": "code",
   "execution_count": 33,
   "metadata": {},
   "outputs": [
    {
     "name": "stdout",
     "output_type": "stream",
     "text": [
      "Epoch: 1/6 Iteration: 5 Train loss: 1.069 Train accuracy: 0.498 Train error: 0.502 Cal cost: 1.071 Val acc: 0.419\n",
      "Epoch: 1/6 Iteration: 10 Train loss: 1.072 Train accuracy: 0.472 Train error: 0.528 Cal cost: 1.042 Val acc: 0.464\n",
      "Epoch: 1/6 Iteration: 15 Train loss: 1.056 Train accuracy: 0.468 Train error: 0.532 Cal cost: 1.014 Val acc: 0.488\n",
      "Epoch: 1/6 Iteration: 20 Train loss: 1.014 Train accuracy: 0.538 Train error: 0.462 Cal cost: 0.995 Val acc: 0.513\n",
      "Epoch: 1/6 Iteration: 25 Train loss: 0.878 Train accuracy: 0.604 Train error: 0.396 Cal cost: 0.998 Val acc: 0.565\n",
      "val cost 1.01716 0.565333333333\n",
      "Epoch: 1/6 Iteration: 30 Train loss: 0.883 Train accuracy: 0.642 Train error: 0.358 Cal cost: 0.858 Val acc: 0.631\n",
      "Epoch: 2/6 Iteration: 35 Train loss: 0.738 Train accuracy: 0.724 Train error: 0.276 Cal cost: 0.807 Val acc: 0.655\n",
      "Epoch: 2/6 Iteration: 40 Train loss: 0.673 Train accuracy: 0.758 Train error: 0.242 Cal cost: 0.771 Val acc: 0.675\n",
      "Epoch: 2/6 Iteration: 45 Train loss: 0.528 Train accuracy: 0.842 Train error: 0.158 Cal cost: 0.714 Val acc: 0.704\n",
      "Epoch: 2/6 Iteration: 50 Train loss: 0.550 Train accuracy: 0.816 Train error: 0.184 Cal cost: 0.722 Val acc: 0.730\n",
      "val cost 0.736557 0.73\n",
      "Epoch: 2/6 Iteration: 55 Train loss: 0.577 Train accuracy: 0.804 Train error: 0.196 Cal cost: 0.646 Val acc: 0.739\n",
      "Epoch: 2/6 Iteration: 60 Train loss: 0.395 Train accuracy: 0.856 Train error: 0.144 Cal cost: 0.661 Val acc: 0.761\n",
      "Epoch: 3/6 Iteration: 65 Train loss: 0.352 Train accuracy: 0.902 Train error: 0.098 Cal cost: 0.614 Val acc: 0.762\n",
      "Epoch: 3/6 Iteration: 70 Train loss: 0.286 Train accuracy: 0.910 Train error: 0.090 Cal cost: 0.623 Val acc: 0.779\n",
      "Epoch: 3/6 Iteration: 75 Train loss: 0.277 Train accuracy: 0.918 Train error: 0.082 Cal cost: 0.626 Val acc: 0.763\n",
      "val cost 0.697607 0.762666666667\n",
      "Epoch: 3/6 Iteration: 80 Train loss: 0.191 Train accuracy: 0.940 Train error: 0.060 Cal cost: 0.650 Val acc: 0.769\n",
      "Epoch: 3/6 Iteration: 85 Train loss: 0.213 Train accuracy: 0.940 Train error: 0.060 Cal cost: 0.619 Val acc: 0.764\n",
      "Epoch: 3/6 Iteration: 90 Train loss: 0.182 Train accuracy: 0.954 Train error: 0.046 Cal cost: 0.667 Val acc: 0.774\n",
      "Epoch: 4/6 Iteration: 95 Train loss: 0.113 Train accuracy: 0.966 Train error: 0.034 Cal cost: 0.685 Val acc: 0.775\n",
      "Epoch: 4/6 Iteration: 100 Train loss: 0.125 Train accuracy: 0.972 Train error: 0.028 Cal cost: 0.658 Val acc: 0.762\n",
      "val cost 0.742384 0.762\n",
      "Epoch: 4/6 Iteration: 105 Train loss: 0.112 Train accuracy: 0.968 Train error: 0.032 Cal cost: 0.643 Val acc: 0.781\n",
      "Epoch: 4/6 Iteration: 110 Train loss: 0.113 Train accuracy: 0.978 Train error: 0.022 Cal cost: 0.669 Val acc: 0.795\n",
      "Epoch: 4/6 Iteration: 115 Train loss: 0.084 Train accuracy: 0.980 Train error: 0.020 Cal cost: 0.666 Val acc: 0.783\n",
      "Epoch: 4/6 Iteration: 120 Train loss: 0.051 Train accuracy: 0.994 Train error: 0.006 Cal cost: 0.707 Val acc: 0.777\n",
      "Epoch: 5/6 Iteration: 125 Train loss: 0.071 Train accuracy: 0.986 Train error: 0.014 Cal cost: 0.731 Val acc: 0.785\n",
      "val cost 0.769238 0.785333333333\n",
      "Epoch: 5/6 Iteration: 130 Train loss: 0.046 Train accuracy: 0.988 Train error: 0.012 Cal cost: 0.746 Val acc: 0.793\n",
      "Epoch: 5/6 Iteration: 135 Train loss: 0.054 Train accuracy: 0.984 Train error: 0.016 Cal cost: 0.796 Val acc: 0.783\n",
      "Epoch: 5/6 Iteration: 140 Train loss: 0.035 Train accuracy: 0.992 Train error: 0.008 Cal cost: 0.747 Val acc: 0.785\n",
      "Epoch: 5/6 Iteration: 145 Train loss: 0.058 Train accuracy: 0.982 Train error: 0.018 Cal cost: 0.724 Val acc: 0.791\n",
      "Epoch: 5/6 Iteration: 150 Train loss: 0.042 Train accuracy: 0.990 Train error: 0.010 Cal cost: 0.736 Val acc: 0.785\n",
      "val cost 0.8588 0.785333333333\n",
      "Epoch: 5/6 Iteration: 155 Train loss: 0.059 Train accuracy: 0.988 Train error: 0.012 Cal cost: 0.777 Val acc: 0.783\n",
      "Epoch: 6/6 Iteration: 160 Train loss: 0.008 Train accuracy: 1.000 Train error: 0.000 Cal cost: 0.768 Val acc: 0.797\n",
      "Epoch: 6/6 Iteration: 165 Train loss: 0.022 Train accuracy: 0.994 Train error: 0.006 Cal cost: 0.829 Val acc: 0.796\n",
      "Epoch: 6/6 Iteration: 170 Train loss: 0.019 Train accuracy: 0.998 Train error: 0.002 Cal cost: 0.917 Val acc: 0.793\n",
      "Epoch: 6/6 Iteration: 175 Train loss: 0.041 Train accuracy: 0.986 Train error: 0.014 Cal cost: 0.867 Val acc: 0.789\n",
      "val cost 1.02164 0.789333333333\n",
      "Epoch: 6/6 Iteration: 180 Train loss: 0.026 Train accuracy: 0.996 Train error: 0.004 Cal cost: 0.809 Val acc: 0.788\n",
      "Epoch: 6/6 Iteration: 185 Train loss: 0.014 Train accuracy: 0.998 Train error: 0.002 Cal cost: 0.794 Val acc: 0.779\n"
     ]
    }
   ],
   "source": [
    "epochs = 5\n",
    "\n",
    "with graph.as_default():\n",
    "    saver = tf.train.Saver()\n",
    "\n",
    "with tf.Session(graph=graph) as sess:\n",
    "    sess.run(tf.global_variables_initializer())\n",
    "    iteration = 1\n",
    "    for e in range(epochs):\n",
    "        state = sess.run(initial_state)\n",
    "        \n",
    "        for ii, (x, y) in enumerate(get_batches(train_x, train_y, batch_size), 1):\n",
    "            feed_dict = {inputs_: x,\n",
    "                    labels_: y,\n",
    "                    keep_prob: dropout_prob,\n",
    "                    initial_state: state,\n",
    "                        learning_rate_ : learning_rate}\n",
    "            loss, state, _ = sess.run([cost, final_state, optimizer], feed_dict=feed_dict)\n",
    "            \n",
    "            if iteration%5==0:\n",
    "                val_acc = []\n",
    "                val_costs = []\n",
    "                \n",
    "                train_prediction_hardmax = sess.run(predictions_hardmax,feed_dict=feed_dict)\n",
    "                train_real_hardmax = np.argmax(y,1)\n",
    "                train_accuracy,train_error,train_precision,train_recall  = calc_classification_metrics(train_prediction_hardmax,train_real_hardmax)\n",
    "                \n",
    "                val_state = sess.run(cell.zero_state(batch_size, tf.float32))\n",
    "                \n",
    "                for x, y in get_batches(val_x, val_y, batch_size):\n",
    "                    feed_dict = {inputs_: x,\n",
    "                            labels_: y,\n",
    "                            keep_prob: 1,\n",
    "                            initial_state: val_state,\n",
    "                        learning_rate_ : learning_rate}\n",
    "                    \n",
    "                    val_prediction = sess.run(predictions,feed_dict=feed_dict)\n",
    "                    val_cost = sess.run(cost,feed_dict=feed_dict)\n",
    "                    val_prediction_hardmax = sess.run(predictions_hardmax,feed_dict=feed_dict)\n",
    "                    val_real_hardmax = np.argmax(y,1)\n",
    "                    val_accuracy,val_error,val_precision,val_recall  = calc_classification_metrics(val_prediction_hardmax,val_real_hardmax)\n",
    "                    val_acc.append(val_accuracy)\n",
    "                    val_costs.append(val_cost)\n",
    "                \n",
    "                val_cost = np.mean(val_costs)  \n",
    "                val_acc  = np.mean(val_acc)\n",
    "                print(\"Epoch: {}/{}\".format(e+1, epochs),\n",
    "                      \"Iteration: {}\".format(iteration),\n",
    "                      \"Train loss: {:.3f}\".format(loss),\n",
    "                      \"Train accuracy: {:.3f}\".format(train_accuracy),\n",
    "                     \"Train error: {:.3f}\".format(train_error),\n",
    "                      \"Cal cost: {:.3f}\".format(val_cost),\n",
    "                      \"Val acc: {:.3f}\".format(val_acc)\n",
    "                     )\n",
    "\n",
    "                    \n",
    "            if iteration%25==0:\n",
    "                val_acc = []\n",
    "                val_costs = []\n",
    "                val_state = sess.run(cell.zero_state(batch_size, tf.float32))\n",
    "                for x, y in get_batches(val_x, val_y, batch_size):\n",
    "                    feed_dict = {inputs_: x,\n",
    "                            labels_: y,\n",
    "                            keep_prob: 1,\n",
    "                            initial_state: val_state,\n",
    "                        learning_rate_ : learning_rate}\n",
    "                    \n",
    "                    val_prediction = sess.run(predictions,feed_dict=feed_dict)\n",
    "                    val_cost = sess.run(cost,feed_dict=feed_dict)\n",
    "                    val_prediction_hardmax = sess.run(predictions_hardmax,feed_dict=feed_dict)\n",
    "                    val_real_hardmax = np.argmax(y,1)\n",
    "                    val_accuracy,val_error,val_precision,val_recall  = calc_classification_metrics(val_prediction_hardmax,val_real_hardmax)\n",
    "                    val_acc.append(val_accuracy)\n",
    "                    val_costs.append(val_cost)\n",
    "                    \n",
    "                print(\"val cost\",np.mean(val_cost) , np.mean(val_acc) )\n",
    "                    \n",
    "                    #batch_acc, val_state = sess.run([accuracy, final_state], feed_dict=feed)\n",
    "                    #val_acc.append(batch_acc)\n",
    "                #print(\"Val acc: {:.3f}\".format(np.mean(val_acc)))\n",
    "            iteration +=1\n",
    "            learning_rate = 0.99 * learning_rate\n",
    "    saver.save(sess, \"checkpoints/checkpoint.ckpt\")"
   ]
  },
  {
   "cell_type": "markdown",
   "metadata": {},
   "source": [
    "## Testing"
   ]
  },
  {
   "cell_type": "code",
   "execution_count": 34,
   "metadata": {},
   "outputs": [
    {
     "name": "stdout",
     "output_type": "stream",
     "text": [
      "INFO:tensorflow:Restoring parameters from checkpoints/checkpoint.ckpt\n",
      "(500, 100) (500, 3)\n",
      "test cost 0.839919 0.77\n",
      "(500, 100) (500, 3)\n",
      "test cost 0.827713 0.756\n",
      "(500, 100) (500, 3)\n",
      "test cost 0.771733 0.776\n"
     ]
    }
   ],
   "source": [
    "test_acc = []\n",
    "with tf.Session(graph=graph) as sess:\n",
    "    saver.restore(sess, tf.train.latest_checkpoint('checkpoints'))\n",
    "    test_state = sess.run(cell.zero_state(batch_size, tf.float32))\n",
    "    for ii, (x, y) in enumerate(get_batches(test_x, test_y, batch_size), 1):\n",
    "        print(x.shape,y.shape)\n",
    "        feed_dict = {inputs_: x,\n",
    "                labels_: y,\n",
    "                keep_prob: 1,\n",
    "                initial_state: test_state,\n",
    "                        learning_rate_ : learning_rate}\n",
    "        \n",
    "        test_prediction = sess.run(predictions,feed_dict=feed_dict)\n",
    "        test_cost = sess.run(cost,feed_dict=feed_dict)\n",
    "        test_prediction_hardmax = sess.run(predictions_hardmax,feed_dict=feed_dict)\n",
    "        test_real_hardmax = np.argmax(y,1)\n",
    "        test_accuracy,test_error,test_precision,test_recall  = calc_classification_metrics(test_prediction_hardmax,test_real_hardmax)\n",
    "        print(\"test cost\",test_cost , test_accuracy )\n",
    "        #batch_acc, test_state = sess.run([accuracy, final_state], feed_dict=feed)\n",
    "        #test_acc.append(batch_acc)\n",
    "        #print(x.shape,y.shape)\n",
    "    #print(\"Test accuracy: {:.3f}\".format(np.mean(test_acc)))"
   ]
  },
  {
   "cell_type": "markdown",
   "metadata": {},
   "source": [
    "## Generate submission file"
   ]
  },
  {
   "cell_type": "code",
   "execution_count": 35,
   "metadata": {},
   "outputs": [
    {
     "name": "stdout",
     "output_type": "stream",
     "text": [
      "INFO:tensorflow:Restoring parameters from checkpoints/checkpoint.ckpt\n",
      "finished batch 0\n",
      "finished batch 1\n",
      "finished batch 2\n",
      "finished batch 3\n",
      "finished batch 4\n",
      "finished batch 5\n",
      "finished batch 6\n",
      "finished batch 7\n",
      "finished batch 8\n",
      "finished batch 9\n",
      "finished batch 10\n",
      "finished batch 11\n",
      "finished batch 12\n",
      "finished batch 13\n",
      "finished batch 14\n",
      "finished batch 15\n",
      "Last minibatch 8000 , 8392\n",
      "finished batch 16\n"
     ]
    }
   ],
   "source": [
    "with tf.Session(graph=graph) as sess:\n",
    "    saver.restore(sess, tf.train.latest_checkpoint('checkpoints'))\n",
    "    test_state = sess.run(cell.zero_state(batch_size, tf.float32))\n",
    "    \n",
    "    full_batches =  int(test_features.shape[0]/batch_size)\n",
    "    submit_file = open(\"submission.csv\",\"w\")\n",
    "    csv_writer = csv.writer(submit_file,delimiter = \",\")\n",
    "    header = [\"id\",\"EAP\",\"HPL\",\"MWS\"]\n",
    "    csv_writer.writerow(header)\n",
    "    \n",
    "    # TODO: find a way to send 1 line at a time without having to take special care of last incomplete batch\n",
    "    for i in range(full_batches):\n",
    "        batch = test_features[ (i*batch_size):((i+1)*batch_size)]\n",
    "\n",
    "        feed_dict = {inputs_: batch,\n",
    "                keep_prob: 1,\n",
    "                initial_state: test_state,\n",
    "                        learning_rate_ : learning_rate}\n",
    "    \n",
    "        test_prediction = sess.run(predictions,feed_dict=feed_dict)\n",
    "        test_prediction_hardmax = np.argmax(test_prediction,1)\n",
    "    \n",
    "        for j,prediction in enumerate(test_prediction_hardmax):\n",
    "            EAP_prob = test_prediction[j,labels_to_int[\"EAP\"]]\n",
    "            HPL_prob = test_prediction[j,labels_to_int[\"HPL\"]]\n",
    "            MWS_prob = test_prediction[j,labels_to_int[\"MWS\"]]\n",
    "        \n",
    "            line = [test_ids[(i*batch_size + j)] , EAP_prob, HPL_prob, MWS_prob]\n",
    "            csv_writer.writerow(line)\n",
    "        \n",
    "        print(\"finished batch {}\".format(i))\n",
    "            #print(\"Finished writing {}\".format(i))\n",
    "            #print(test_ids[i] ,test[i][:50] , \" \", int_to_labels[test_prediction_hardmax] , EAP_prob, HPL_prob, MWS_prob)\n",
    "       \n",
    "    if test_features.shape[0]%batch_size != 0:\n",
    "        print(\"Last minibatch\" ,full_batches*batch_size,\",\", test_features.shape[0])\n",
    "        \n",
    "        i+=1\n",
    "        batch = np.zeros((batch_size,test_features.shape[1]))\n",
    "        batch[0:(test_features.shape[0]-full_batches*batch_size),:] = test_features[full_batches*batch_size:,:]\n",
    "        \n",
    "        feed_dict = {inputs_: batch,\n",
    "                keep_prob: 1,\n",
    "                initial_state: test_state,\n",
    "                        learning_rate_ : learning_rate}\n",
    "    \n",
    "        test_prediction = sess.run(predictions,feed_dict=feed_dict)\n",
    "        test_prediction_hardmax = np.argmax(test_prediction,1)\n",
    "\n",
    "        for j in range(test_features.shape[0]-full_batches*batch_size):\n",
    "            EAP_prob = test_prediction[j,labels_to_int[\"EAP\"]]\n",
    "            HPL_prob = test_prediction[j,labels_to_int[\"HPL\"]]\n",
    "            MWS_prob = test_prediction[j,labels_to_int[\"MWS\"]]\n",
    "        \n",
    "            line = [test_ids[(i*batch_size + j)] , EAP_prob, HPL_prob, MWS_prob]\n",
    "            csv_writer.writerow(line)\n",
    "        \n",
    "        print(\"finished batch {}\".format(i))\n",
    "\n",
    "    submit_file.close()"
   ]
  },
  {
   "cell_type": "code",
   "execution_count": null,
   "metadata": {
    "collapsed": true
   },
   "outputs": [],
   "source": []
  }
 ],
 "metadata": {
  "kernelspec": {
   "display_name": "Python 3",
   "language": "python",
   "name": "python3"
  },
  "language_info": {
   "codemirror_mode": {
    "name": "ipython",
    "version": 3
   },
   "file_extension": ".py",
   "mimetype": "text/x-python",
   "name": "python",
   "nbconvert_exporter": "python",
   "pygments_lexer": "ipython3",
   "version": "3.6.1"
  }
 },
 "nbformat": 4,
 "nbformat_minor": 2
}
