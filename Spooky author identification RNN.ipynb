{
 "cells": [
  {
   "cell_type": "markdown",
   "metadata": {},
   "source": [
    "# Spooky author identification\n",
    "\n"
   ]
  },
  {
   "cell_type": "code",
   "execution_count": 1,
   "metadata": {
    "collapsed": true
   },
   "outputs": [],
   "source": [
    "import numpy as np\n",
    "import tensorflow as tf\n",
    "import csv\n",
    "from sklearn import preprocessing\n",
    "from string import punctuation\n",
    "from sklearn import metrics"
   ]
  },
  {
   "cell_type": "code",
   "execution_count": 2,
   "metadata": {
    "collapsed": true
   },
   "outputs": [],
   "source": [
    "reviews = []\n",
    "labels = []\n",
    "test = []\n",
    "test_ids = []\n",
    "with open('./text.csv', 'r',encoding=\"latin-1\") as f:\n",
    "    text_reader = csv.reader(f,delimiter=\",\")\n",
    "    next(text_reader)\n",
    "    for row in text_reader:\n",
    "        reviews.append(row[0])\n",
    "with open('./author.csv', 'r') as labels_csv:\n",
    "    author_reader = csv.reader(labels_csv,delimiter =\",\")\n",
    "    next(author_reader) #ignore header\n",
    "    for row in author_reader:\n",
    "        labels.append(row[0])\n",
    "with open(\"./test.csv\",'r') as test_csv:\n",
    "    text_reader = csv.reader(test_csv, delimiter= \",\")\n",
    "    next(text_reader) #ignore header\n",
    "    \n",
    "    for row in text_reader:\n",
    "        test_ids.append(row[0])\n",
    "        test.append(row[1])"
   ]
  },
  {
   "cell_type": "code",
   "execution_count": 3,
   "metadata": {},
   "outputs": [
    {
     "data": {
      "text/plain": [
       "8392"
      ]
     },
     "execution_count": 3,
     "metadata": {},
     "output_type": "execute_result"
    }
   ],
   "source": [
    "len(test)"
   ]
  },
  {
   "cell_type": "code",
   "execution_count": 4,
   "metadata": {},
   "outputs": [
    {
     "data": {
      "text/plain": [
       "['This process, however, afforded me no means of ascertaining the dimensions of my dungeon; as I might make its circuit, and return to the point whence I set out, without being aware of the fact; so perfectly uniform seemed the wall.',\n",
       " 'It never once occurred to me that the fumbling might be a mere mistake.',\n",
       " 'In his left hand was a gold snuff box, from which, as he capered down the hill, cutting all manner of fantastic steps, he took snuff incessantly with an air of the greatest possible self satisfaction.',\n",
       " 'How lovely is spring As we looked from Windsor Terrace on the sixteen fertile counties spread beneath, speckled by happy cottages and wealthier towns, all looked as in former years, heart cheering and fair.',\n",
       " 'Finding nothing else, not even gold, the Superintendent abandoned his attempts; but a perplexed look occasionally steals over his countenance as he sits thinking at his desk.',\n",
       " 'A youth passed in solitude, my best years spent under your gentle and feminine fosterage, has so refined the groundwork of my character that I cannot overcome an intense distaste to the usual brutality exercised on board ship: I have never believed it to be necessary, and when I heard of a mariner equally noted for his kindliness of heart and the respect and obedience paid to him by his crew, I felt myself peculiarly fortunate in being able to secure his services.',\n",
       " 'The astronomer, perhaps, at this point, took refuge in the suggestion of non luminosity; and here analogy was suddenly let fall.',\n",
       " 'The surcingle hung in ribands from my body.',\n",
       " \"I knew that you could not say to yourself 'stereotomy' without being brought to think of atomies, and thus of the theories of Epicurus; and since, when we discussed this subject not very long ago, I mentioned to you how singularly, yet with how little notice, the vague guesses of that noble Greek had met with confirmation in the late nebular cosmogony, I felt that you could not avoid casting your eyes upward to the great nebula in Orion, and I certainly expected that you would do so.\",\n",
       " 'I confess that neither the structure of languages, nor the code of governments, nor the politics of various states possessed attractions for me.',\n",
       " 'He shall find that I can feel my injuries; he shall learn to dread my revenge\" A few days after he arrived.',\n",
       " 'Here we barricaded ourselves, and, for the present were secure.',\n",
       " 'Herbert West needed fresh bodies because his life work was the reanimation of the dead.',\n",
       " 'The farm like grounds extended back very deeply up the hill, almost to Wheaton Street.',\n",
       " 'But a glance will show the fallacy of this idea.',\n",
       " 'He had escaped me, and I must commence a destructive and almost endless journey across the mountainous ices of the ocean, amidst cold that few of the inhabitants could long endure and which I, the native of a genial and sunny climate, could not hope to survive.',\n",
       " 'To these speeches they gave, of course, their own interpretation; fancying, no doubt, that at all events I should come into possession of vast quantities of ready money; and provided I paid them all I owed, and a trifle more, in consideration of their services, I dare say they cared very little what became of either my soul or my carcass.',\n",
       " 'Her native sprightliness needed no undue excitement, and her placid heart reposed contented on my love, the well being of her children, and the beauty of surrounding nature.',\n",
       " 'I even went so far as to speak of a slightly hectic cough with which, at one time, I had been troubled of a chronic rheumatism of a twinge of hereditary gout and, in conclusion, of the disagreeable and inconvenient, but hitherto carefully concealed, weakness of my eyes.',\n",
       " \"His facial aspect, too, was remarkable for its maturity; for though he shared his mother's and grandfather's chinlessness, his firm and precociously shaped nose united with the expression of his large, dark, almost Latin eyes to give him an air of quasi adulthood and well nigh preternatural intelligence.\"]"
      ]
     },
     "execution_count": 4,
     "metadata": {},
     "output_type": "execute_result"
    }
   ],
   "source": [
    "reviews[:20]"
   ]
  },
  {
   "cell_type": "code",
   "execution_count": 5,
   "metadata": {},
   "outputs": [
    {
     "data": {
      "text/plain": [
       "['EAP',\n",
       " 'HPL',\n",
       " 'EAP',\n",
       " 'MWS',\n",
       " 'HPL',\n",
       " 'MWS',\n",
       " 'EAP',\n",
       " 'EAP',\n",
       " 'EAP',\n",
       " 'MWS',\n",
       " 'MWS',\n",
       " 'EAP',\n",
       " 'HPL',\n",
       " 'HPL',\n",
       " 'EAP',\n",
       " 'MWS',\n",
       " 'EAP',\n",
       " 'MWS',\n",
       " 'EAP',\n",
       " 'HPL']"
      ]
     },
     "execution_count": 5,
     "metadata": {},
     "output_type": "execute_result"
    }
   ],
   "source": [
    "labels[:20]"
   ]
  },
  {
   "cell_type": "code",
   "execution_count": 6,
   "metadata": {},
   "outputs": [
    {
     "data": {
      "text/plain": [
       "['Still, as I urged our leaving Ireland with such inquietude and impatience, my father thought it best to yield.',\n",
       " 'If a fire wanted fanning, it could readily be fanned with a newspaper, and as the government grew weaker, I have no doubt that leather and iron acquired durability in proportion, for, in a very short time, there was not a pair of bellows in all Rotterdam that ever stood in need of a stitch or required the assistance of a hammer.',\n",
       " 'And when they had broken down the frail door they found only this: two cleanly picked human skeletons on the earthen floor, and a number of singular beetles crawling in the shadowy corners.',\n",
       " 'While I was thinking how I should possibly manage without them, one actually tumbled out of my head, and, rolling down the steep side of the steeple, lodged in the rain gutter which ran along the eaves of the main building.',\n",
       " 'I am not sure to what limit his knowledge may extend.',\n",
       " '\"The thick and peculiar mist, or smoke, which distinguishes the Indian Summer, and which now hung heavily over all objects, served, no doubt, to deepen the vague impressions which these objects created.',\n",
       " 'That which is not matter, is not at all unless qualities are things.',\n",
       " 'I sought for repose although I did not hope for forgetfulness; I knew I should be pursued by dreams, but did not dread the frightful one that I really had.',\n",
       " 'Upon the fourth day of the assassination, a party of the police came, very unexpectedly, into the house, and proceeded again to make rigorous investigation of the premises.',\n",
       " '\"The tone metaphysical is also a good one.',\n",
       " 'These, the offspring of a later period, stood erect and seemed ready to advance fearlessly into coming time; while those out worn stragglers, blasted and broke, clung to each other, their weak boughs sighing as the wind buffetted them a weather beaten crew.',\n",
       " 'What kept him from going with her and Brown Jenkin and the other to the throne of Chaos where the thin flutes pipe mindlessly was the fact that he had seen the name \"Azathoth\" in the Necronomicon, and knew it stood for a primal evil too horrible for description.',\n",
       " 'Persuading the widow that my connexion with her husband\\'s \"technical matters\" was sufficient to entitle me to his manuscript, I bore the document away and began to read it on the London boat.',\n",
       " 'When I arose trembling, I know not how much later, I staggered into the house and made shocking obeisances before the enshrined amulet of green jade.',\n",
       " 'And by the shores of the river Zaire there is neither quiet nor silence.',\n",
       " \"Idris heard of her mother's return with pleasure.\",\n",
       " 'I say this proudly, but with tears in my eyes for the firm proved themselves the basest of ingrates.',\n",
       " 'But let us glance at the treatise Ah \"Ability or inability to conceive,\" says Mr. Mill, very properly, \"is in no case to be received as a criterion of axiomatic truth.\"',\n",
       " '\"What a place is this that you inhabit, my son\" said he, looking mournfully at the barred windows and wretched appearance of the room.',\n",
       " 'At his nod I took one of the latter and seated myself upon an aged, discoloured gravestone close by the newly uncovered aperture.']"
      ]
     },
     "execution_count": 6,
     "metadata": {},
     "output_type": "execute_result"
    }
   ],
   "source": [
    "test[:20]"
   ]
  },
  {
   "cell_type": "markdown",
   "metadata": {},
   "source": [
    "## Data preprocessing\n",
    "\n",
    "The first step when building a neural network model is getting your data into the proper form to feed into the network. Since we're using embedding layers, we'll need to encode each word with an integer. We'll also want to clean it up a bit.\n",
    "\n",
    "You can see an example of the reviews data above. We'll want to get rid of those periods. Also, you might notice that the reviews are delimited with newlines `\\n`. To deal with those, I'm going to split the text into each review using `\\n` as the delimiter. Then I can combined all the reviews back together into one big string.\n",
    "\n",
    "First, let's remove all punctuation. Then get all the text without the newlines and split it into individual words."
   ]
  },
  {
   "cell_type": "code",
   "execution_count": 7,
   "metadata": {
    "collapsed": true
   },
   "outputs": [],
   "source": [
    "from string import punctuation\n",
    "all_text = ' '.join([c for c in reviews + test if c not in punctuation])\n",
    "\n",
    "words = all_text.split()"
   ]
  },
  {
   "cell_type": "code",
   "execution_count": 8,
   "metadata": {},
   "outputs": [
    {
     "data": {
      "text/plain": [
       "'This process, however, afforded me no means of ascertaining the dimensions of my dungeon; as I might make its circuit, and return to the point whence I set out, without being aware of the fact; so perfectly uniform seemed the wall. It never once occurred to me that the fumbling might be a mere mistake. I'"
      ]
     },
     "execution_count": 8,
     "metadata": {},
     "output_type": "execute_result"
    }
   ],
   "source": [
    "all_text[:305]"
   ]
  },
  {
   "cell_type": "code",
   "execution_count": 9,
   "metadata": {},
   "outputs": [
    {
     "data": {
      "text/plain": [
       "['This',\n",
       " 'process,',\n",
       " 'however,',\n",
       " 'afforded',\n",
       " 'me',\n",
       " 'no',\n",
       " 'means',\n",
       " 'of',\n",
       " 'ascertaining',\n",
       " 'the',\n",
       " 'dimensions',\n",
       " 'of',\n",
       " 'my',\n",
       " 'dungeon;',\n",
       " 'as',\n",
       " 'I',\n",
       " 'might',\n",
       " 'make',\n",
       " 'its',\n",
       " 'circuit,',\n",
       " 'and',\n",
       " 'return',\n",
       " 'to',\n",
       " 'the',\n",
       " 'point',\n",
       " 'whence',\n",
       " 'I',\n",
       " 'set',\n",
       " 'out,',\n",
       " 'without',\n",
       " 'being',\n",
       " 'aware',\n",
       " 'of',\n",
       " 'the',\n",
       " 'fact;',\n",
       " 'so',\n",
       " 'perfectly',\n",
       " 'uniform',\n",
       " 'seemed',\n",
       " 'the',\n",
       " 'wall.',\n",
       " 'It',\n",
       " 'never',\n",
       " 'once',\n",
       " 'occurred',\n",
       " 'to',\n",
       " 'me',\n",
       " 'that',\n",
       " 'the',\n",
       " 'fumbling',\n",
       " 'might',\n",
       " 'be',\n",
       " 'a',\n",
       " 'mere',\n",
       " 'mistake.',\n",
       " 'In',\n",
       " 'his',\n",
       " 'left',\n",
       " 'hand',\n",
       " 'was',\n",
       " 'a',\n",
       " 'gold',\n",
       " 'snuff',\n",
       " 'box,',\n",
       " 'from',\n",
       " 'which,',\n",
       " 'as',\n",
       " 'he',\n",
       " 'capered',\n",
       " 'down',\n",
       " 'the',\n",
       " 'hill,',\n",
       " 'cutting',\n",
       " 'all',\n",
       " 'manner',\n",
       " 'of',\n",
       " 'fantastic',\n",
       " 'steps,',\n",
       " 'he',\n",
       " 'took',\n",
       " 'snuff',\n",
       " 'incessantly',\n",
       " 'with',\n",
       " 'an',\n",
       " 'air',\n",
       " 'of',\n",
       " 'the',\n",
       " 'greatest',\n",
       " 'possible',\n",
       " 'self',\n",
       " 'satisfaction.',\n",
       " 'How',\n",
       " 'lovely',\n",
       " 'is',\n",
       " 'spring',\n",
       " 'As',\n",
       " 'we',\n",
       " 'looked',\n",
       " 'from',\n",
       " 'Windsor']"
      ]
     },
     "execution_count": 9,
     "metadata": {},
     "output_type": "execute_result"
    }
   ],
   "source": [
    "words[:100]"
   ]
  },
  {
   "cell_type": "markdown",
   "metadata": {},
   "source": [
    "### Encoding the words\n",
    "\n",
    "The embedding lookup requires that we pass in integers to our network. The easiest way to do this is to create dictionaries that map the words in the vocabulary to integers. Then we can convert each of our reviews into integers so they can be passed into the network.\n",
    "\n",
    "> **Exercise:** Now you're going to encode the words with integers. Build a dictionary that maps words to integers. Later we're going to pad our input vectors with zeros, so make sure the integers **start at 1, not 0**.\n",
    "> Also, convert the reviews to integers and store the reviews in a new list called `reviews_ints`. "
   ]
  },
  {
   "cell_type": "code",
   "execution_count": 10,
   "metadata": {},
   "outputs": [
    {
     "data": {
      "text/plain": [
       "'In his left hand was a gold snuff box, from which, as he capered down the hill, cutting all manner of fantastic steps, he took snuff incessantly with an air of the greatest possible self satisfaction.'"
      ]
     },
     "execution_count": 10,
     "metadata": {},
     "output_type": "execute_result"
    }
   ],
   "source": [
    "reviews[2]"
   ]
  },
  {
   "cell_type": "code",
   "execution_count": 11,
   "metadata": {
    "collapsed": true
   },
   "outputs": [],
   "source": [
    "# Create your dictionary that maps vocab words to integers here\n",
    "vocab_to_int = {word:index for index,word in enumerate(set(words),1)}\n",
    "vocab_to_int[\"<PAD>\"] = 0\n",
    "\n",
    "# Convert the reviews to integers, same shape as reviews list, but with integers\n",
    "reviews_ints = []\n",
    "for review in reviews:\n",
    "    reviews_ints.append([vocab_to_int[word] for word in review.split()])\n",
    "    \n",
    "test_ints = []\n",
    "for test_line in test:\n",
    "    test_ints.append([vocab_to_int[word] for word in test_line.split()])"
   ]
  },
  {
   "cell_type": "code",
   "execution_count": 12,
   "metadata": {},
   "outputs": [
    {
     "data": {
      "text/plain": [
       "[43184,\n",
       " 55654,\n",
       " 44581,\n",
       " 39244,\n",
       " 20036,\n",
       " 48569,\n",
       " 39891,\n",
       " 21418,\n",
       " 36667,\n",
       " 50059,\n",
       " 24724,\n",
       " 51414,\n",
       " 53554,\n",
       " 43038]"
      ]
     },
     "execution_count": 12,
     "metadata": {},
     "output_type": "execute_result"
    }
   ],
   "source": [
    "reviews_ints[1]"
   ]
  },
  {
   "cell_type": "code",
   "execution_count": 13,
   "metadata": {},
   "outputs": [
    {
     "data": {
      "text/plain": [
       "[432,\n",
       " 51414,\n",
       " 4737,\n",
       " 34016,\n",
       " 33222,\n",
       " 13720,\n",
       " 54484,\n",
       " 17220,\n",
       " 24724,\n",
       " 37097,\n",
       " 15555,\n",
       " 51414,\n",
       " 36853,\n",
       " 49754,\n",
       " 3857,\n",
       " 21418,\n",
       " 8156,\n",
       " 52224,\n",
       " 56498,\n",
       " 44871,\n",
       " 15139,\n",
       " 36682,\n",
       " 54490,\n",
       " 39891,\n",
       " 37192,\n",
       " 49754,\n",
       " 51202,\n",
       " 41929,\n",
       " 22458,\n",
       " 42702,\n",
       " 7060,\n",
       " 54447,\n",
       " 42702,\n",
       " 51414,\n",
       " 35742,\n",
       " 24334,\n",
       " 48642,\n",
       " 41955,\n",
       " 43493,\n",
       " 12243,\n",
       " 51414,\n",
       " 45876,\n",
       " 28457,\n",
       " 19748,\n",
       " 42702,\n",
       " 5507,\n",
       " 49741,\n",
       " 39891,\n",
       " 35547,\n",
       " 55956,\n",
       " 42702,\n",
       " 15787,\n",
       " 28457,\n",
       " 51414,\n",
       " 54065,\n",
       " 9245,\n",
       " 10982,\n",
       " 21418,\n",
       " 27925,\n",
       " 28457,\n",
       " 51414,\n",
       " 3018]"
      ]
     },
     "execution_count": 13,
     "metadata": {},
     "output_type": "execute_result"
    }
   ],
   "source": [
    "test_ints[1]"
   ]
  },
  {
   "cell_type": "markdown",
   "metadata": {},
   "source": [
    "### Encoding the labels\n",
    "\n",
    "Our labels are \"positive\" or \"negative\". To use these labels in our network, we need to convert them to 0 and 1.\n",
    "\n",
    "> **Exercise:** Convert labels from `positive` and `negative` to 1 and 0, respectively."
   ]
  },
  {
   "cell_type": "code",
   "execution_count": 14,
   "metadata": {},
   "outputs": [
    {
     "name": "stdout",
     "output_type": "stream",
     "text": [
      "{'EAP': 0, 'MWS': 1, 'HPL': 2}\n",
      "{0: 'EAP', 1: 'MWS', 2: 'HPL'}\n",
      "[0, 2, 0, 1, 2, 1, 0, 0, 0, 1]\n"
     ]
    }
   ],
   "source": [
    "labels_to_int = {}\n",
    "int_to_labels = {}\n",
    "unique_labels = list(set(labels))\n",
    "for i,label in enumerate(unique_labels):\n",
    "    labels_to_int[label] = i\n",
    "    int_to_labels[i] = label\n",
    "    \n",
    "int_labels = []\n",
    "\n",
    "for label in labels:\n",
    "    int_labels.append(labels_to_int[label])\n",
    "    \n",
    "print(labels_to_int)\n",
    "print(int_to_labels)\n",
    "print(int_labels[:10])"
   ]
  },
  {
   "cell_type": "code",
   "execution_count": 15,
   "metadata": {},
   "outputs": [
    {
     "data": {
      "text/plain": [
       "array([[1, 0, 0],\n",
       "       [0, 0, 1],\n",
       "       [1, 0, 0],\n",
       "       ..., \n",
       "       [1, 0, 0],\n",
       "       [1, 0, 0],\n",
       "       [0, 0, 1]])"
      ]
     },
     "execution_count": 15,
     "metadata": {},
     "output_type": "execute_result"
    }
   ],
   "source": [
    "encoder = preprocessing.LabelBinarizer()\n",
    "encoder.fit(list(set(int_labels)))\n",
    "one_hot_labels = encoder.transform(int_labels)\n",
    "                                   \n",
    "one_hot_labels"
   ]
  },
  {
   "cell_type": "code",
   "execution_count": 16,
   "metadata": {},
   "outputs": [
    {
     "name": "stdout",
     "output_type": "stream",
     "text": [
      "Zero-length reviews: 0\n",
      "Maximum review length: 861\n",
      "Minimum length: 2\n",
      "Average length: 92.09655172413792\n"
     ]
    }
   ],
   "source": [
    "from collections import Counter\n",
    "review_lens = Counter([len(x) for x in reviews_ints])\n",
    "print(\"Zero-length reviews: {}\".format(review_lens[0]))\n",
    "print(\"Maximum review length: {}\".format(max(review_lens)))\n",
    "print(\"Minimum length: {}\".format(min(review_lens)))\n",
    "print(\"Average length: {}\".format(sum(review_lens)/len(review_lens)))"
   ]
  },
  {
   "cell_type": "code",
   "execution_count": 17,
   "metadata": {},
   "outputs": [
    {
     "name": "stdout",
     "output_type": "stream",
     "text": [
      "Zero-length reviews: 0\n",
      "Maximum review length: 818\n",
      "Minimum length: 3\n",
      "Average length: 77.57377049180327\n"
     ]
    }
   ],
   "source": [
    "test_lens = Counter([len(x) for x in test_ints])\n",
    "print(\"Zero-length reviews: {}\".format(test_lens[0]))\n",
    "print(\"Maximum review length: {}\".format(max(test_lens)))\n",
    "print(\"Minimum length: {}\".format(min(test_lens)))\n",
    "print(\"Average length: {}\".format(sum(test_lens)/len(test_lens)))"
   ]
  },
  {
   "cell_type": "markdown",
   "metadata": {},
   "source": [
    "The maximum review length is way too many steps for our RNN. Let's truncate to 100 steps. For reviews shorter than 100, we'll pad with 0s. For reviews longer than 100, we can truncate them to the first 200 characters."
   ]
  },
  {
   "cell_type": "markdown",
   "metadata": {},
   "source": [
    "Now, create an array `features` that contains the data we'll pass to the network. The data should come from text ints, since we want to feed integers to the network. Each row should be 100 elements long. For lubes shorter than 200 words, left pad with 0s. \n"
   ]
  },
  {
   "cell_type": "code",
   "execution_count": 18,
   "metadata": {
    "collapsed": true
   },
   "outputs": [],
   "source": [
    "seq_len = 100\n",
    "features = []\n",
    "\n",
    "for review in reviews_ints:\n",
    "    review_size = len(review)\n",
    "    if review_size < seq_len:\n",
    "        padded_review = [0] * seq_len\n",
    "        padded_review[seq_len-len(review):seq_len] = review\n",
    "    elif review_size > seq_len:\n",
    "        padded_review = review[:seq_len]\n",
    "    \n",
    "    features.append(padded_review)\n",
    "features  = np.array(features)"
   ]
  },
  {
   "cell_type": "code",
   "execution_count": 19,
   "metadata": {},
   "outputs": [
    {
     "data": {
      "text/plain": [
       "array([[    0,     0,     0,     0,     0,     0,     0,     0,     0,\n",
       "            0,     0,     0,     0,     0,     0,     0,     0,     0,\n",
       "            0,     0,     0,     0,     0,     0,     0,     0,     0,\n",
       "            0,     0,     0,     0,     0,     0,     0,     0,     0,\n",
       "            0,     0,     0,     0,     0,     0,     0,     0,     0,\n",
       "            0,     0,     0,     0,     0,     0,     0,     0,     0,\n",
       "            0,     0,     0,     0,     0, 44114, 30284, 16074, 22511,\n",
       "        48569, 36682,  4265, 28457, 16893, 21418, 52446, 28457, 41188,\n",
       "        45458,  3857, 44871, 50059, 16826, 53031, 13964, 49754, 40949,\n",
       "        20036, 21418, 46978, 23495, 44871, 38743, 40497, 33664, 29803,\n",
       "        44757, 28457, 21418, 50618,  8536, 23626, 36405, 46054, 21418,\n",
       "        47398],\n",
       "       [    0,     0,     0,     0,     0,     0,     0,     0,     0,\n",
       "            0,     0,     0,     0,     0,     0,     0,     0,     0,\n",
       "            0,     0,     0,     0,     0,     0,     0,     0,     0,\n",
       "            0,     0,     0,     0,     0,     0,     0,     0,     0,\n",
       "            0,     0,     0,     0,     0,     0,     0,     0,     0,\n",
       "            0,     0,     0,     0,     0,     0,     0,     0,     0,\n",
       "            0,     0,     0,     0,     0,     0,     0,     0,     0,\n",
       "            0,     0,     0,     0,     0,     0,     0,     0,     0,\n",
       "            0,     0,     0,     0,     0,     0,     0,     0,     0,\n",
       "            0,     0,     0,     0,     0, 43184, 55654, 44581, 39244,\n",
       "        20036, 48569, 39891, 21418, 36667, 50059, 24724, 51414, 53554,\n",
       "        43038],\n",
       "       [    0,     0,     0,     0,     0,     0,     0,     0,     0,\n",
       "            0,     0,     0,     0,     0,     0,     0,     0,     0,\n",
       "            0,     0,     0,     0,     0,     0,     0,     0,     0,\n",
       "            0,     0,     0,     0,     0,     0,     0,     0,     0,\n",
       "            0,     0,     0,     0,     0,     0,     0,     0,     0,\n",
       "            0,     0,     0,     0,     0,     0,     0,     0,     0,\n",
       "            0,     0,     0,     0,     0,     0,     0,     0,     0,\n",
       "            0, 17113,  5534,  3111, 50095, 43493, 51414, 52306, 23140,\n",
       "        47568, 38370, 46396,  3857, 32870, 48009, 34905, 21418,  7758,\n",
       "        25001,  5507, 29194, 28457, 30395, 33261, 32870, 27608, 23140,\n",
       "        33836, 15555, 30698, 43626, 28457, 21418, 47432, 16298, 55562,\n",
       "        45002],\n",
       "       [    0,     0,     0,     0,     0,     0,     0,     0,     0,\n",
       "            0,     0,     0,     0,     0,     0,     0,     0,     0,\n",
       "            0,     0,     0,     0,     0,     0,     0,     0,     0,\n",
       "            0,     0,     0,     0,     0,     0,     0,     0,     0,\n",
       "            0,     0,     0,     0,     0,     0,     0,     0,     0,\n",
       "            0,     0,     0,     0,     0,     0,     0,     0,     0,\n",
       "            0,     0,     0,     0,     0,     0,     0,     0,     0,\n",
       "            0,     0,     0,  6397, 43351, 33551,  6506,  7280,  9390,\n",
       "        42707, 38370, 43404, 28061, 56376, 21418, 45762, 23549, 16856,\n",
       "        31490, 18373, 20119, 36321,   112, 39084, 49754, 45343, 24900,\n",
       "         5507, 42707,  3857, 42702, 10916, 51030, 46936, 26879, 49754,\n",
       "         7671],\n",
       "       [    0,     0,     0,     0,     0,     0,     0,     0,     0,\n",
       "            0,     0,     0,     0,     0,     0,     0,     0,     0,\n",
       "            0,     0,     0,     0,     0,     0,     0,     0,     0,\n",
       "            0,     0,     0,     0,     0,     0,     0,     0,     0,\n",
       "            0,     0,     0,     0,     0,     0,     0,     0,     0,\n",
       "            0,     0,     0,     0,     0,     0,     0,     0,     0,\n",
       "            0,     0,     0,     0,     0,     0,     0,     0,     0,\n",
       "            0,     0,     0,     0,     0,     0,     0,     0,     0,\n",
       "            0, 32461, 56224, 43896, 12243, 10832, 16389, 21418,  1835,\n",
       "        10946,  5534, 19067, 27828, 51414,  1814, 52617, 53538, 42469,\n",
       "        11814,  5534, 42108,  3857, 32870, 11282, 42586, 19333,  5534,\n",
       "        31513],\n",
       "       [    0,     0,     0,     0,     0,     0,     0,     0,     0,\n",
       "            0,     0,     0,     0,     0,     0,     0,     0, 45789,\n",
       "        17910, 44598, 42702, 37269, 41188, 29204, 42147, 32776,   833,\n",
       "        37313, 33113, 49754, 21896, 32427, 10695,  8536, 37079, 21418,\n",
       "         9696, 28457, 41188, 19307, 39891, 44871, 16604, 22195, 30698,\n",
       "        25761,  8165, 20036, 21418,   352, 49869, 47217, 56376, 56541,\n",
       "        23259, 44871, 15139, 55654,  4377, 13720, 20036, 24724, 19198,\n",
       "        49754, 54582, 44871,  4619, 28457, 51414, 52115, 24274, 38977,\n",
       "         6917,  5534,  9711, 28457, 46936, 49754, 21418, 22365, 49754,\n",
       "        15216,  2456, 20036, 30607, 36321,  5534, 26682, 44871, 34732,\n",
       "         6378, 12284, 53054, 42702, 29803, 12543, 20036, 34104,  5534,\n",
       "         9371],\n",
       "       [    0,     0,     0,     0,     0,     0,     0,     0,     0,\n",
       "            0,     0,     0,     0,     0,     0,     0,     0,     0,\n",
       "            0,     0,     0,     0,     0,     0,     0,     0,     0,\n",
       "            0,     0,     0,     0,     0,     0,     0,     0,     0,\n",
       "            0,     0,     0,     0,     0,     0,     0,     0,     0,\n",
       "            0,     0,     0,     0,     0,     0,     0,     0,     0,\n",
       "            0,     0,     0,     0,     0,     0,     0,     0,     0,\n",
       "            0,     0,     0,     0,     0,     0,     0,     0,     0,\n",
       "            0,     0,     0,     0,     0,     0,     0, 26409, 39056,\n",
       "        37464, 19333, 20989, 38054, 27608, 22094, 42702, 21418, 17958,\n",
       "        28457, 39810, 36073, 49754, 55335, 30193, 43493, 53119, 10360,\n",
       "        48854],\n",
       "       [    0,     0,     0,     0,     0,     0,     0,     0,     0,\n",
       "            0,     0,     0,     0,     0,     0,     0,     0,     0,\n",
       "            0,     0,     0,     0,     0,     0,     0,     0,     0,\n",
       "            0,     0,     0,     0,     0,     0,     0,     0,     0,\n",
       "            0,     0,     0,     0,     0,     0,     0,     0,     0,\n",
       "            0,     0,     0,     0,     0,     0,     0,     0,     0,\n",
       "            0,     0,     0,     0,     0,     0,     0,     0,     0,\n",
       "            0,     0,     0,     0,     0,     0,     0,     0,     0,\n",
       "            0,     0,     0,     0,     0,     0,     0,     0,     0,\n",
       "            0,     0,     0,     0,     0,     0,     0,     0,     0,\n",
       "            0,     0, 26409, 14077, 38955, 42702, 31914, 38370, 41188,\n",
       "        40652],\n",
       "       [    0,     0,     0,     0,     0,     0,     0,     0,     0,\n",
       "            0,     0,     0, 44871, 16475, 39891, 53598, 54484, 12243,\n",
       "        37889, 20036, 46729,  2513, 33664, 29803,   831, 20036, 33704,\n",
       "        28457, 28379, 49754, 34306, 28457, 21418, 53671, 28457, 16247,\n",
       "        49754, 16864, 54582,  9390,  2211, 20989, 52585, 12243, 35742,\n",
       "        16104, 49005, 44871,  8471, 20036, 53598, 24550, 52462, 52721,\n",
       "        15555, 24550,  8182, 27954, 21418, 33718, 34927, 28457, 39891,\n",
       "        16745, 16114,  4918, 55050, 15555, 23057, 42702, 21418, 36660,\n",
       "        15455, 27080, 44871, 34732, 39891, 53598, 54484, 12243,  2320,\n",
       "         2135, 37313, 46769, 27858, 20036, 21418,  5568,  7331, 42702,\n",
       "        43714, 49754, 44871, 34059,  6800, 39891, 53598, 40575, 50666,\n",
       "        51216],\n",
       "       [    0,     0,     0,     0,     0,     0,     0,     0,     0,\n",
       "            0,     0,     0,     0,     0,     0,     0,     0,     0,\n",
       "            0,     0,     0,     0,     0,     0,     0,     0,     0,\n",
       "            0,     0,     0,     0,     0,     0,     0,     0,     0,\n",
       "            0,     0,     0,     0,     0,     0,     0,     0,     0,\n",
       "            0,     0,     0,     0,     0,     0,     0,     0,     0,\n",
       "            0,     0,     0,     0,     0,     0,     0,     0,     0,\n",
       "            0,     0,     0,     0,     0,     0,     0,     0,     0,\n",
       "            0,     0,     0,     0,     0, 44871, 46698, 39891, 18325,\n",
       "        21418, 16045, 28457,  9636, 52467, 21418, 20394, 28457, 35797,\n",
       "        52467, 21418, 12352, 28457, 32134, 30516, 10764, 53904,  6917,\n",
       "        16184]])"
      ]
     },
     "execution_count": 19,
     "metadata": {},
     "output_type": "execute_result"
    }
   ],
   "source": [
    "features[:10,:100]"
   ]
  },
  {
   "cell_type": "code",
   "execution_count": 20,
   "metadata": {
    "collapsed": true
   },
   "outputs": [],
   "source": [
    "test_features = []\n",
    "\n",
    "for test_line in test_ints:\n",
    "    line_size = len(test_line)\n",
    "    if line_size < seq_len:\n",
    "        padded_line = [0] * seq_len\n",
    "        padded_line[seq_len-len(test_line):seq_len] = test_line\n",
    "    elif line_size > seq_len:\n",
    "        padded_line = test_line[:seq_len]\n",
    "        \n",
    "    test_features.append(padded_line)\n",
    "\n",
    "test_features = np.array(test_features)"
   ]
  },
  {
   "cell_type": "code",
   "execution_count": 21,
   "metadata": {},
   "outputs": [
    {
     "data": {
      "text/plain": [
       "(8392, 100)"
      ]
     },
     "execution_count": 21,
     "metadata": {},
     "output_type": "execute_result"
    }
   ],
   "source": [
    "test_features.shape"
   ]
  },
  {
   "cell_type": "code",
   "execution_count": 22,
   "metadata": {},
   "outputs": [
    {
     "data": {
      "text/plain": [
       "array([[    0,     0,     0,     0,     0,     0,     0,     0,     0,\n",
       "            0,     0,     0,     0,     0,     0,     0,     0,     0,\n",
       "            0,     0,     0,     0,     0,     0,     0,     0,     0,\n",
       "            0,     0,     0,     0,     0,     0,     0,     0,     0,\n",
       "            0,     0,     0,     0,     0,     0,     0,     0,     0,\n",
       "            0,     0,     0,     0,     0,     0,     0,     0,     0,\n",
       "            0,     0,     0,     0,     0,     0,     0,     0,     0,\n",
       "            0,     0,     0,     0,     0,     0,     0,     0,     0,\n",
       "            0,     0,     0,     0,     0,     0,     0,     0,     0,\n",
       "        37318,  3857, 44871,  7514, 40468,  1630, 53343, 15555, 53397,\n",
       "        29870, 49754, 39014, 41188,  2587, 31323, 13720, 29204, 20036,\n",
       "         8262],\n",
       "       [    0,     0,     0,     0,     0,     0,     0,     0,     0,\n",
       "            0,     0,     0,     0,     0,     0,     0,     0,     0,\n",
       "            0,     0,     0,     0,     0,     0,     0,     0,     0,\n",
       "            0,     0,     0,     0,     0,     0,     0,     0,     0,\n",
       "            0,     0,   432, 51414,  4737, 34016, 33222, 13720, 54484,\n",
       "        17220, 24724, 37097, 15555, 51414, 36853, 49754,  3857, 21418,\n",
       "         8156, 52224, 56498, 44871, 15139, 36682, 54490, 39891, 37192,\n",
       "        49754, 51202, 41929, 22458, 42702,  7060, 54447, 42702, 51414,\n",
       "        35742, 24334, 48642, 41955, 43493, 12243, 51414, 45876, 28457,\n",
       "        19748, 42702,  5507, 49741, 39891, 35547, 55956, 42702, 15787,\n",
       "        28457, 51414, 54065,  9245, 10982, 21418, 27925, 28457, 51414,\n",
       "         3018],\n",
       "       [    0,     0,     0,     0,     0,     0,     0,     0,     0,\n",
       "            0,     0,     0,     0,     0,     0,     0,     0,     0,\n",
       "            0,     0,     0,     0,     0,     0,     0,     0,     0,\n",
       "            0,     0,     0,     0,     0,     0,     0,     0,     0,\n",
       "            0,     0,     0,     0,     0,     0,     0,     0,     0,\n",
       "            0,     0,     0,     0,     0,     0,     0,     0,     0,\n",
       "            0,     0,     0,     0,     0,     0,     0,     0,     0,\n",
       "            0,     0,     0,     0,  6885, 54582, 33744,  4918, 19474,\n",
       "        34905, 21418, 47142, 19883, 33744, 50946, 15828, 16098, 51878,\n",
       "        50373, 10330, 15791,  6214, 56376, 21418, 51431, 40913, 49754,\n",
       "        51414, 38423, 28457, 39983, 21506, 10951, 42702, 21418,  1719,\n",
       "        24867],\n",
       "       [    0,     0,     0,     0,     0,     0,     0,     0,     0,\n",
       "            0,     0,     0,     0,     0,     0,     0,     0,     0,\n",
       "            0,     0,     0,     0,     0,     0,     0,     0,     0,\n",
       "            0,     0,     0,     0,     0,     0,     0,     0,     0,\n",
       "            0,     0,     0,     0,     0,     0,     0,     0,     0,\n",
       "            0,     0,     0,     0,     0,     0,     0,     0,     0,\n",
       "            0,     0,     0,     0,     0, 13414, 44871, 43493, 42586,\n",
       "        24550, 44871,  2162, 21103, 44447, 33664, 39282, 43387, 36468,\n",
       "        10513,  6786, 28457, 41188,  4917, 45379, 19508, 34905, 21418,\n",
       "        26891,  3241, 28457, 21418, 25392, 45752, 42702, 21418, 50630,\n",
       "        46398, 29333, 40684, 18983, 21418, 31717, 28457, 21418, 20663,\n",
       "         4710],\n",
       "       [    0,     0,     0,     0,     0,     0,     0,     0,     0,\n",
       "            0,     0,     0,     0,     0,     0,     0,     0,     0,\n",
       "            0,     0,     0,     0,     0,     0,     0,     0,     0,\n",
       "            0,     0,     0,     0,     0,     0,     0,     0,     0,\n",
       "            0,     0,     0,     0,     0,     0,     0,     0,     0,\n",
       "            0,     0,     0,     0,     0,     0,     0,     0,     0,\n",
       "            0,     0,     0,     0,     0,     0,     0,     0,     0,\n",
       "            0,     0,     0,     0,     0,     0,     0,     0,     0,\n",
       "            0,     0,     0,     0,     0,     0,     0,     0,     0,\n",
       "            0,     0,     0,     0,     0,     0,     0,     0, 44871,\n",
       "         4906, 12243, 53903, 20036, 15181,  2284,  5534,   218,  7509,\n",
       "        52303],\n",
       "       [    0,     0,     0,     0,     0,     0,     0,     0,     0,\n",
       "            0,     0,     0,     0,     0,     0,     0,     0,     0,\n",
       "            0,     0,     0,     0,     0,     0,     0,     0,     0,\n",
       "            0,     0,     0,     0,     0,     0,     0,     0,     0,\n",
       "            0,     0,     0,     0,     0,     0,     0,     0,     0,\n",
       "            0,     0,     0,     0,     0,     0,     0,     0,     0,\n",
       "            0,     0,     0,     0,     0,     0,     0,     0,     0,\n",
       "            0,     0,     0,     0,     0, 33249, 13999, 49754, 29694,\n",
       "        48814,  9245, 14305, 29333, 12488, 21418, 21617, 25115, 49754,\n",
       "        29333, 54070, 38955, 44663, 11814,  5507, 15076, 43803, 36682,\n",
       "        48899, 20036, 25473, 21418, 33718, 19394, 29333, 28223, 11054,\n",
       "         8547],\n",
       "       [    0,     0,     0,     0,     0,     0,     0,     0,     0,\n",
       "            0,     0,     0,     0,     0,     0,     0,     0,     0,\n",
       "            0,     0,     0,     0,     0,     0,     0,     0,     0,\n",
       "            0,     0,     0,     0,     0,     0,     0,     0,     0,\n",
       "            0,     0,     0,     0,     0,     0,     0,     0,     0,\n",
       "            0,     0,     0,     0,     0,     0,     0,     0,     0,\n",
       "            0,     0,     0,     0,     0,     0,     0,     0,     0,\n",
       "            0,     0,     0,     0,     0,     0,     0,     0,     0,\n",
       "            0,     0,     0,     0,     0,     0,     0,     0,     0,\n",
       "            0,     0,     0,     0,     0,     0,   389, 29333, 33551,\n",
       "        12243,  9763, 33551, 12243, 19333,  5507, 27063,  7537, 11981,\n",
       "        18912],\n",
       "       [    0,     0,     0,     0,     0,     0,     0,     0,     0,\n",
       "            0,     0,     0,     0,     0,     0,     0,     0,     0,\n",
       "            0,     0,     0,     0,     0,     0,     0,     0,     0,\n",
       "            0,     0,     0,     0,     0,     0,     0,     0,     0,\n",
       "            0,     0,     0,     0,     0,     0,     0,     0,     0,\n",
       "            0,     0,     0,     0,     0,     0,     0,     0,     0,\n",
       "            0,     0,     0,     0,     0,     0,     0,     0,     0,\n",
       "            0,     0,     0,     0,     0,     0,     0, 44871,  5442,\n",
       "         6917, 14836, 49799, 44871,  7016, 12243, 13995,  6917, 41154,\n",
       "        44871, 16475, 44871,  2162, 24724, 37557, 36321, 47982, 27828,\n",
       "         7016, 12243, 49364, 21418, 55835, 43387, 39891, 44871, 31998,\n",
       "        50378],\n",
       "       [    0,     0,     0,     0,     0,     0,     0,     0,     0,\n",
       "            0,     0,     0,     0,     0,     0,     0,     0,     0,\n",
       "            0,     0,     0,     0,     0,     0,     0,     0,     0,\n",
       "            0,     0,     0,     0,     0,     0,     0,     0,     0,\n",
       "            0,     0,     0,     0,     0,     0,     0,     0,     0,\n",
       "            0,     0,     0,     0,     0,     0,     0,     0,     0,\n",
       "            0,     0,     0,     0,     0,     0,     0,     0,     0,\n",
       "            0,     0,     0,     0,     0,     0,     0,     0,     0,\n",
       "        31883, 21418, 39895,  8891, 28457, 21418, 23754, 51414, 48247,\n",
       "        28457, 21418, 23006, 49998, 35742, 41264, 50509, 21418, 54711,\n",
       "        49754, 41579, 18641, 20036, 16826, 19412, 29874, 28457, 21418,\n",
       "        52455],\n",
       "       [    0,     0,     0,     0,     0,     0,     0,     0,     0,\n",
       "            0,     0,     0,     0,     0,     0,     0,     0,     0,\n",
       "            0,     0,     0,     0,     0,     0,     0,     0,     0,\n",
       "            0,     0,     0,     0,     0,     0,     0,     0,     0,\n",
       "            0,     0,     0,     0,     0,     0,     0,     0,     0,\n",
       "            0,     0,     0,     0,     0,     0,     0,     0,     0,\n",
       "            0,     0,     0,     0,     0,     0,     0,     0,     0,\n",
       "            0,     0,     0,     0,     0,     0,     0,     0,     0,\n",
       "            0,     0,     0,     0,     0,     0,     0,     0,     0,\n",
       "            0,     0,     0,     0,     0,     0,     0,     0,     0,\n",
       "            0,     0, 33249, 12612, 37296, 33551, 56190, 51414, 28215,\n",
       "        23628]])"
      ]
     },
     "execution_count": 22,
     "metadata": {},
     "output_type": "execute_result"
    }
   ],
   "source": [
    "test_features[:10,:100]"
   ]
  },
  {
   "cell_type": "markdown",
   "metadata": {},
   "source": [
    "## Training, Validation, Test\n",
    "\n"
   ]
  },
  {
   "cell_type": "markdown",
   "metadata": {},
   "source": [
    "With our data in nice shape, we'll split it into training, validation, and test sets."
   ]
  },
  {
   "cell_type": "code",
   "execution_count": 23,
   "metadata": {},
   "outputs": [
    {
     "name": "stdout",
     "output_type": "stream",
     "text": [
      "\t\t\tFeature Shapes:\n",
      "Train set: \t\t(16642, 100) \n",
      "Validation set: \t(1468, 100) \n",
      "Test set: \t\t(1469, 100)\n"
     ]
    }
   ],
   "source": [
    "split_frac = 0.85\n",
    "\n",
    "split_index  = int(len(features)*split_frac)\n",
    "\n",
    "train_x, val_x = features[:split_index],features[split_index:]\n",
    "train_y, val_y = one_hot_labels[:split_index],one_hot_labels[split_index:]\n",
    "\n",
    "split_index = int(len(val_x)/2)\n",
    "\n",
    "val_x, test_x = val_x[:split_index],val_x[split_index:]\n",
    "val_y, test_y = val_y[:split_index],val_y[split_index:]\n",
    "\n",
    "print(\"\\t\\t\\tFeature Shapes:\")\n",
    "print(\"Train set: \\t\\t{}\".format(train_x.shape), \n",
    "      \"\\nValidation set: \\t{}\".format(val_x.shape),\n",
    "      \"\\nTest set: \\t\\t{}\".format(test_x.shape))\n"
   ]
  },
  {
   "cell_type": "markdown",
   "metadata": {},
   "source": [
    "## Build the graph\n",
    "\n",
    "Here, we'll build the graph. First up, defining the hyperparameters.\n",
    "\n",
    "* `lstm_size`: Number of units in the hidden layers in the LSTM cells. Usually larger is better performance wise. Common values are 128, 256, 512, etc.\n",
    "* `lstm_layers`: Number of LSTM layers in the network. I'd start with 1, then add more if I'm underfitting.\n",
    "* `batch_size`: The number of reviews to feed the network in one training pass. Typically this should be set as high as you can go without running out of memory.\n",
    "* `learning_rate`: Learning rate"
   ]
  },
  {
   "cell_type": "code",
   "execution_count": 24,
   "metadata": {
    "collapsed": true
   },
   "outputs": [],
   "source": [
    "lstm_size = 256\n",
    "lstm_layers = 1\n",
    "batch_size = 500\n",
    "learning_rate = 0.005\n",
    "dropout_prob = 0.25"
   ]
  },
  {
   "cell_type": "markdown",
   "metadata": {},
   "source": [
    "For the network itself, we'll be passing in our 100 element long review vectors. Each batch will be `batch_size` vectors. We'll also be using dropout on the LSTM layer, so we'll make a placeholder for the keep probability."
   ]
  },
  {
   "cell_type": "code",
   "execution_count": 25,
   "metadata": {
    "collapsed": true
   },
   "outputs": [],
   "source": [
    "n_words = len(vocab_to_int)\n",
    "\n",
    "# Create the graph object\n",
    "graph = tf.Graph()\n",
    "# Add nodes to the graph\n",
    "with graph.as_default():\n",
    "    inputs_ = tf.placeholder(tf.int32,shape=[batch_size,None],name=\"inputs\")\n",
    "    labels_ = tf.placeholder(tf.int32,shape=[batch_size,len(unique_labels)],name = \"labels\")\n",
    "    keep_prob = tf.placeholder(tf.float32,name =\"keep_prob\")\n",
    "    learning_rate_ = tf.placeholder(tf.float32,name = \"learning_rate\") "
   ]
  },
  {
   "cell_type": "markdown",
   "metadata": {},
   "source": [
    "### Embedding\n",
    "\n",
    "Now we'll add an embedding layer. We need to do this because there are many words in our vocabulary. It is massively inefficient to one-hot encode our classes here. Instead of one-hot encoding, we can have an embedding layer and use that layer as a lookup table. You could train an embedding layer using word2vec, then load it here. But, it's fine to just make a new layer and let the network learn the weights.\n",
    "\n",
    " Create the embedding lookup matrix as a `tf.Variable`. Use that embedding matrix to get the embedded vectors to pass to the LSTM cell with [`tf.nn.embedding_lookup`](https://www.tensorflow.org/api_docs/python/tf/nn/embedding_lookup). This function takes the embedding matrix and an input tensor, such as the review vectors. Then, it'll return another tensor with the embedded vectors. So, if the embedding layer has 200 units, the function will return a tensor with size [batch_size, 200].\n",
    "\n"
   ]
  },
  {
   "cell_type": "code",
   "execution_count": 26,
   "metadata": {
    "collapsed": true
   },
   "outputs": [],
   "source": [
    "# Size of the embedding vectors (number of units in the embedding layer)\n",
    "embed_size = 300 \n",
    "\n",
    "with graph.as_default():\n",
    "    embedding = tf.Variable(tf.random_uniform((n_words,embed_size),-0.5,0.5))\n",
    "    embed = tf.nn.embedding_lookup(embedding,inputs_)"
   ]
  },
  {
   "cell_type": "markdown",
   "metadata": {},
   "source": [
    "### LSTM cell\n",
    "\n",
    "<img src=\"assets/network_diagram.png\" width=400px>\n",
    "\n",
    "Next, we'll create our LSTM cells to use in the recurrent network ([TensorFlow documentation](https://www.tensorflow.org/api_docs/python/tf/contrib/rnn)). Here we are just defining what the cells look like. This isn't actually building the graph, just defining the type of cells we want in our graph.\n",
    "\n",
    "To create a basic LSTM cell for the graph, you'll want to use `tf.contrib.rnn.BasicLSTMCell`. Looking at the function documentation:\n",
    "\n",
    "```\n",
    "tf.contrib.rnn.BasicLSTMCell(num_units, forget_bias=1.0, input_size=None, state_is_tuple=True, activation=<function tanh at 0x109f1ef28>)\n",
    "```\n",
    "\n",
    "you can see it takes a parameter called `num_units`, the number of units in the cell, called `lstm_size` in this code. So then, you can write something like \n",
    "\n",
    "```\n",
    "lstm = tf.contrib.rnn.BasicLSTMCell(num_units)\n",
    "```\n",
    "\n",
    "to create an LSTM cell with `num_units`. Next, you can add dropout to the cell with `tf.contrib.rnn.DropoutWrapper`. This just wraps the cell in another cell, but with dropout added to the inputs and/or outputs. It's a really convenient way to make your network better with almost no effort! So you'd do something like\n",
    "\n",
    "```\n",
    "drop = tf.contrib.rnn.DropoutWrapper(cell, output_keep_prob=keep_prob)\n",
    "```\n",
    "\n",
    "Most of the time, your network will have better performance with more layers. That's sort of the magic of deep learning, adding more layers allows the network to learn really complex relationships. Again, there is a simple way to create multiple layers of LSTM cells with `tf.contrib.rnn.MultiRNNCell`:\n",
    "\n",
    "```\n",
    "cell = tf.contrib.rnn.MultiRNNCell([drop] * lstm_layers)\n",
    "```\n",
    "\n",
    "Here, `[drop] * lstm_layers` creates a list of cells (`drop`) that is `lstm_layers` long. The `MultiRNNCell` wrapper builds this into multiple layers of RNN cells, one for each cell in the list.\n",
    "\n",
    "So the final cell you're using in the network is actually multiple (or just one) LSTM cells with dropout. But it all works the same from an achitectural viewpoint, just a more complicated graph in the cell.\n",
    "\n",
    "> **Exercise:** Below, use `tf.contrib.rnn.BasicLSTMCell` to create an LSTM cell. Then, add drop out to it with `tf.contrib.rnn.DropoutWrapper`. Finally, create multiple LSTM layers with `tf.contrib.rnn.MultiRNNCell`.\n",
    "\n",
    "Here is [a tutorial on building RNNs](https://www.tensorflow.org/tutorials/recurrent) that will help you out.\n"
   ]
  },
  {
   "cell_type": "code",
   "execution_count": 27,
   "metadata": {
    "collapsed": true
   },
   "outputs": [],
   "source": [
    "with graph.as_default():\n",
    "    # Your basic LSTM cell\n",
    "    #lstm = tf.contrib.rnn.BasicLSTMCell(num_units=lstm_size)\n",
    "    \n",
    "    # Add dropout to the cell\n",
    "    #drop = tf.contrib.rnn.DropoutWrapper(lstm,output_keep_prob=keep_prob)\n",
    "    \n",
    "    # Stack up multiple LSTM layers, for deep learning\n",
    "    #cell = tf.contrib.rnn.MultiRNNCell([drop]*lstm_layers)\n",
    "    cell_list = [tf.contrib.rnn.DropoutWrapper(tf.contrib.rnn.BasicLSTMCell(num_units=lstm_size) ,output_keep_prob=keep_prob)  ]\n",
    "    cell = tf.contrib.rnn.MultiRNNCell(cell_list)\n",
    "    # Getting an initial state of all zeros\n",
    "    initial_state = cell.zero_state(batch_size, tf.float32)"
   ]
  },
  {
   "cell_type": "markdown",
   "metadata": {},
   "source": [
    "### RNN forward pass\n",
    "\n",
    "<img src=\"assets/network_diagram.png\" width=400px>\n",
    "\n",
    "Now we need to actually run the data through the RNN nodes. You can use [`tf.nn.dynamic_rnn`](https://www.tensorflow.org/api_docs/python/tf/nn/dynamic_rnn) to do this. You'd pass in the RNN cell you created (our multiple layered LSTM `cell` for instance), and the inputs to the network.\n",
    "\n",
    "```\n",
    "outputs, final_state = tf.nn.dynamic_rnn(cell, inputs, initial_state=initial_state)\n",
    "```\n",
    "\n",
    "Above I created an initial state, `initial_state`, to pass to the RNN. This is the cell state that is passed between the hidden layers in successive time steps. `tf.nn.dynamic_rnn` takes care of most of the work for us. We pass in our cell and the input to the cell, then it does the unrolling and everything else for us. It returns outputs for each time step and the final_state of the hidden layer.\n",
    "\n",
    "> **Exercise:** Use `tf.nn.dynamic_rnn` to add the forward pass through the RNN. Remember that we're actually passing in vectors from the embedding layer, `embed`.\n",
    "\n"
   ]
  },
  {
   "cell_type": "code",
   "execution_count": 28,
   "metadata": {
    "collapsed": true
   },
   "outputs": [],
   "source": [
    "with graph.as_default():\n",
    "    outputs, final_state = tf.nn.dynamic_rnn(cell,embed,initial_state=initial_state)"
   ]
  },
  {
   "cell_type": "markdown",
   "metadata": {},
   "source": [
    "### Output\n",
    "\n",
    "We only care about the final output, we'll be using that as our sentiment prediction. So we need to grab the last output with `outputs[:, -1]`, the calculate the cost from that and `labels_`."
   ]
  },
  {
   "cell_type": "code",
   "execution_count": 29,
   "metadata": {
    "collapsed": true
   },
   "outputs": [],
   "source": [
    "with graph.as_default():\n",
    "    fully_connected = tf.contrib.layers.fully_connected(outputs[:, -1], 10, activation_fn=tf.nn.relu)\n",
    "    fully_connected = tf.contrib.layers.fully_connected(fully_connected, 3, activation_fn=tf.nn.relu)\n",
    "    logits = tf.identity(fully_connected)\n",
    "    cost = tf.reduce_mean(tf.nn.softmax_cross_entropy_with_logits(logits = logits, labels=labels_))\n",
    "    \n",
    "    optimizer = tf.train.AdamOptimizer(learning_rate_).minimize(cost)"
   ]
  },
  {
   "cell_type": "markdown",
   "metadata": {},
   "source": [
    "### Validation accuracy\n",
    "\n",
    "Here we can add a few nodes to calculate the accuracy which we'll use in the validation pass."
   ]
  },
  {
   "cell_type": "code",
   "execution_count": 30,
   "metadata": {
    "collapsed": true
   },
   "outputs": [],
   "source": [
    "with graph.as_default():\n",
    "    predictions = tf.nn.softmax(logits)\n",
    "    predictions_hardmax = tf.argmax(predictions,1)\n",
    "#    correct_pred = tf.equal(tf.cast(tf.round(predictions), tf.int32), labels_)\n",
    "#    accuracy = tf.reduce_mean(tf.cast(correct_pred, tf.float32))"
   ]
  },
  {
   "cell_type": "markdown",
   "metadata": {},
   "source": [
    "### Batching\n",
    "\n",
    "This is a simple function for returning batches from our data. First it removes data such that we only have full batches. Then it iterates through the `x` and `y` arrays and returns slices out of those arrays with size `[batch_size]`."
   ]
  },
  {
   "cell_type": "code",
   "execution_count": 31,
   "metadata": {
    "collapsed": true
   },
   "outputs": [],
   "source": [
    "def get_batches(x, y, batch_size=100):\n",
    "    \n",
    "    n_batches = len(x)//batch_size\n",
    "    x, y = x[:n_batches*batch_size], y[:n_batches*batch_size]\n",
    "    for ii in range(0, len(x), batch_size):\n",
    "        yield x[ii:ii+batch_size], y[ii:ii+batch_size]"
   ]
  },
  {
   "cell_type": "markdown",
   "metadata": {},
   "source": [
    "## Training\n",
    "\n",
    "Below is the typical training code. If you want to do this yourself, feel free to delete all this code and implement it yourself. Before you run this, make sure the `checkpoints` directory exists."
   ]
  },
  {
   "cell_type": "code",
   "execution_count": 32,
   "metadata": {},
   "outputs": [],
   "source": [
    "def calc_classification_metrics(predictions,real_values):\n",
    "    accuracy =  sum(predictions == real_values)/predictions.shape[0] # metrics.accuracy_score(predictions,real_values)\n",
    "    error = 1 - accuracy\n",
    "    precision = 0# metrics.precision_score(predictions,real_values)\n",
    "    recall = 0#metrics.recall_score(predictions,real_values)\n",
    "    \n",
    "    return accuracy,error,precision,recall\n"
   ]
  },
  {
   "cell_type": "code",
   "execution_count": 33,
   "metadata": {},
   "outputs": [
    {
     "name": "stdout",
     "output_type": "stream",
     "text": [
      "Epoch: 1/5 Iteration: 5 Train loss: 1.098 Train accuracy: 0.468 Train error: 0.532 Cal cost: 1.085 Val acc: 0.463\n",
      "Epoch: 1/5 Iteration: 10 Train loss: 1.069 Train accuracy: 0.480 Train error: 0.520 Cal cost: 1.022 Val acc: 0.494\n",
      "Epoch: 1/5 Iteration: 15 Train loss: 1.042 Train accuracy: 0.524 Train error: 0.476 Cal cost: 0.979 Val acc: 0.535\n",
      "Epoch: 1/5 Iteration: 20 Train loss: 0.996 Train accuracy: 0.572 Train error: 0.428 Cal cost: 0.907 Val acc: 0.597\n",
      "Epoch: 1/5 Iteration: 25 Train loss: 0.887 Train accuracy: 0.642 Train error: 0.358 Cal cost: 0.846 Val acc: 0.620\n",
      "val cost 0.793439 0.62\n",
      "Epoch: 1/5 Iteration: 30 Train loss: 0.904 Train accuracy: 0.650 Train error: 0.350 Cal cost: 0.803 Val acc: 0.666\n",
      "Epoch: 2/5 Iteration: 35 Train loss: 0.789 Train accuracy: 0.736 Train error: 0.264 Cal cost: 0.751 Val acc: 0.697\n",
      "Epoch: 2/5 Iteration: 40 Train loss: 0.692 Train accuracy: 0.820 Train error: 0.180 Cal cost: 0.660 Val acc: 0.732\n",
      "Epoch: 2/5 Iteration: 45 Train loss: 0.563 Train accuracy: 0.820 Train error: 0.180 Cal cost: 0.645 Val acc: 0.745\n",
      "Epoch: 2/5 Iteration: 50 Train loss: 0.478 Train accuracy: 0.848 Train error: 0.152 Cal cost: 0.609 Val acc: 0.747\n",
      "val cost 0.544013 0.747\n",
      "Epoch: 2/5 Iteration: 55 Train loss: 0.462 Train accuracy: 0.850 Train error: 0.150 Cal cost: 0.585 Val acc: 0.766\n",
      "Epoch: 2/5 Iteration: 60 Train loss: 0.380 Train accuracy: 0.872 Train error: 0.128 Cal cost: 0.551 Val acc: 0.780\n",
      "Epoch: 2/5 Iteration: 65 Train loss: 0.369 Train accuracy: 0.866 Train error: 0.134 Cal cost: 0.551 Val acc: 0.791\n",
      "Epoch: 3/5 Iteration: 70 Train loss: 0.285 Train accuracy: 0.928 Train error: 0.072 Cal cost: 0.559 Val acc: 0.798\n",
      "Epoch: 3/5 Iteration: 75 Train loss: 0.304 Train accuracy: 0.902 Train error: 0.098 Cal cost: 0.574 Val acc: 0.779\n",
      "val cost 0.496586 0.779\n",
      "Epoch: 3/5 Iteration: 80 Train loss: 0.213 Train accuracy: 0.932 Train error: 0.068 Cal cost: 0.554 Val acc: 0.796\n",
      "Epoch: 3/5 Iteration: 85 Train loss: 0.206 Train accuracy: 0.926 Train error: 0.074 Cal cost: 0.637 Val acc: 0.787\n"
     ]
    },
    {
     "ename": "KeyboardInterrupt",
     "evalue": "",
     "output_type": "error",
     "traceback": [
      "\u001b[0;31m---------------------------------------------------------------------------\u001b[0m",
      "\u001b[0;31mKeyboardInterrupt\u001b[0m                         Traceback (most recent call last)",
      "\u001b[0;32m<ipython-input-33-b7da95d327d3>\u001b[0m in \u001b[0;36m<module>\u001b[0;34m()\u001b[0m\n\u001b[1;32m     16\u001b[0m                     \u001b[0minitial_state\u001b[0m\u001b[0;34m:\u001b[0m \u001b[0mstate\u001b[0m\u001b[0;34m,\u001b[0m\u001b[0;34m\u001b[0m\u001b[0m\n\u001b[1;32m     17\u001b[0m                         learning_rate_ : learning_rate}\n\u001b[0;32m---> 18\u001b[0;31m             \u001b[0mloss\u001b[0m\u001b[0;34m,\u001b[0m \u001b[0mstate\u001b[0m\u001b[0;34m,\u001b[0m \u001b[0m_\u001b[0m \u001b[0;34m=\u001b[0m \u001b[0msess\u001b[0m\u001b[0;34m.\u001b[0m\u001b[0mrun\u001b[0m\u001b[0;34m(\u001b[0m\u001b[0;34m[\u001b[0m\u001b[0mcost\u001b[0m\u001b[0;34m,\u001b[0m \u001b[0mfinal_state\u001b[0m\u001b[0;34m,\u001b[0m \u001b[0moptimizer\u001b[0m\u001b[0;34m]\u001b[0m\u001b[0;34m,\u001b[0m \u001b[0mfeed_dict\u001b[0m\u001b[0;34m=\u001b[0m\u001b[0mfeed_dict\u001b[0m\u001b[0;34m)\u001b[0m\u001b[0;34m\u001b[0m\u001b[0m\n\u001b[0m\u001b[1;32m     19\u001b[0m \u001b[0;34m\u001b[0m\u001b[0m\n\u001b[1;32m     20\u001b[0m             \u001b[0;32mif\u001b[0m \u001b[0miteration\u001b[0m\u001b[0;34m%\u001b[0m\u001b[0;36m5\u001b[0m\u001b[0;34m==\u001b[0m\u001b[0;36m0\u001b[0m\u001b[0;34m:\u001b[0m\u001b[0;34m\u001b[0m\u001b[0m\n",
      "\u001b[0;32m/Users/llealhernandez/anaconda/envs/dlnd/lib/python3.6/site-packages/tensorflow/python/client/session.py\u001b[0m in \u001b[0;36mrun\u001b[0;34m(self, fetches, feed_dict, options, run_metadata)\u001b[0m\n\u001b[1;32m    776\u001b[0m     \u001b[0;32mtry\u001b[0m\u001b[0;34m:\u001b[0m\u001b[0;34m\u001b[0m\u001b[0m\n\u001b[1;32m    777\u001b[0m       result = self._run(None, fetches, feed_dict, options_ptr,\n\u001b[0;32m--> 778\u001b[0;31m                          run_metadata_ptr)\n\u001b[0m\u001b[1;32m    779\u001b[0m       \u001b[0;32mif\u001b[0m \u001b[0mrun_metadata\u001b[0m\u001b[0;34m:\u001b[0m\u001b[0;34m\u001b[0m\u001b[0m\n\u001b[1;32m    780\u001b[0m         \u001b[0mproto_data\u001b[0m \u001b[0;34m=\u001b[0m \u001b[0mtf_session\u001b[0m\u001b[0;34m.\u001b[0m\u001b[0mTF_GetBuffer\u001b[0m\u001b[0;34m(\u001b[0m\u001b[0mrun_metadata_ptr\u001b[0m\u001b[0;34m)\u001b[0m\u001b[0;34m\u001b[0m\u001b[0m\n",
      "\u001b[0;32m/Users/llealhernandez/anaconda/envs/dlnd/lib/python3.6/site-packages/tensorflow/python/client/session.py\u001b[0m in \u001b[0;36m_run\u001b[0;34m(self, handle, fetches, feed_dict, options, run_metadata)\u001b[0m\n\u001b[1;32m    980\u001b[0m     \u001b[0;32mif\u001b[0m \u001b[0mfinal_fetches\u001b[0m \u001b[0;32mor\u001b[0m \u001b[0mfinal_targets\u001b[0m\u001b[0;34m:\u001b[0m\u001b[0;34m\u001b[0m\u001b[0m\n\u001b[1;32m    981\u001b[0m       results = self._do_run(handle, final_targets, final_fetches,\n\u001b[0;32m--> 982\u001b[0;31m                              feed_dict_string, options, run_metadata)\n\u001b[0m\u001b[1;32m    983\u001b[0m     \u001b[0;32melse\u001b[0m\u001b[0;34m:\u001b[0m\u001b[0;34m\u001b[0m\u001b[0m\n\u001b[1;32m    984\u001b[0m       \u001b[0mresults\u001b[0m \u001b[0;34m=\u001b[0m \u001b[0;34m[\u001b[0m\u001b[0;34m]\u001b[0m\u001b[0;34m\u001b[0m\u001b[0m\n",
      "\u001b[0;32m/Users/llealhernandez/anaconda/envs/dlnd/lib/python3.6/site-packages/tensorflow/python/client/session.py\u001b[0m in \u001b[0;36m_do_run\u001b[0;34m(self, handle, target_list, fetch_list, feed_dict, options, run_metadata)\u001b[0m\n\u001b[1;32m   1030\u001b[0m     \u001b[0;32mif\u001b[0m \u001b[0mhandle\u001b[0m \u001b[0;32mis\u001b[0m \u001b[0;32mNone\u001b[0m\u001b[0;34m:\u001b[0m\u001b[0;34m\u001b[0m\u001b[0m\n\u001b[1;32m   1031\u001b[0m       return self._do_call(_run_fn, self._session, feed_dict, fetch_list,\n\u001b[0;32m-> 1032\u001b[0;31m                            target_list, options, run_metadata)\n\u001b[0m\u001b[1;32m   1033\u001b[0m     \u001b[0;32melse\u001b[0m\u001b[0;34m:\u001b[0m\u001b[0;34m\u001b[0m\u001b[0m\n\u001b[1;32m   1034\u001b[0m       return self._do_call(_prun_fn, self._session, handle, feed_dict,\n",
      "\u001b[0;32m/Users/llealhernandez/anaconda/envs/dlnd/lib/python3.6/site-packages/tensorflow/python/client/session.py\u001b[0m in \u001b[0;36m_do_call\u001b[0;34m(self, fn, *args)\u001b[0m\n\u001b[1;32m   1037\u001b[0m   \u001b[0;32mdef\u001b[0m \u001b[0m_do_call\u001b[0m\u001b[0;34m(\u001b[0m\u001b[0mself\u001b[0m\u001b[0;34m,\u001b[0m \u001b[0mfn\u001b[0m\u001b[0;34m,\u001b[0m \u001b[0;34m*\u001b[0m\u001b[0margs\u001b[0m\u001b[0;34m)\u001b[0m\u001b[0;34m:\u001b[0m\u001b[0;34m\u001b[0m\u001b[0m\n\u001b[1;32m   1038\u001b[0m     \u001b[0;32mtry\u001b[0m\u001b[0;34m:\u001b[0m\u001b[0;34m\u001b[0m\u001b[0m\n\u001b[0;32m-> 1039\u001b[0;31m       \u001b[0;32mreturn\u001b[0m \u001b[0mfn\u001b[0m\u001b[0;34m(\u001b[0m\u001b[0;34m*\u001b[0m\u001b[0margs\u001b[0m\u001b[0;34m)\u001b[0m\u001b[0;34m\u001b[0m\u001b[0m\n\u001b[0m\u001b[1;32m   1040\u001b[0m     \u001b[0;32mexcept\u001b[0m \u001b[0merrors\u001b[0m\u001b[0;34m.\u001b[0m\u001b[0mOpError\u001b[0m \u001b[0;32mas\u001b[0m \u001b[0me\u001b[0m\u001b[0;34m:\u001b[0m\u001b[0;34m\u001b[0m\u001b[0m\n\u001b[1;32m   1041\u001b[0m       \u001b[0mmessage\u001b[0m \u001b[0;34m=\u001b[0m \u001b[0mcompat\u001b[0m\u001b[0;34m.\u001b[0m\u001b[0mas_text\u001b[0m\u001b[0;34m(\u001b[0m\u001b[0me\u001b[0m\u001b[0;34m.\u001b[0m\u001b[0mmessage\u001b[0m\u001b[0;34m)\u001b[0m\u001b[0;34m\u001b[0m\u001b[0m\n",
      "\u001b[0;32m/Users/llealhernandez/anaconda/envs/dlnd/lib/python3.6/site-packages/tensorflow/python/client/session.py\u001b[0m in \u001b[0;36m_run_fn\u001b[0;34m(session, feed_dict, fetch_list, target_list, options, run_metadata)\u001b[0m\n\u001b[1;32m   1019\u001b[0m         return tf_session.TF_Run(session, options,\n\u001b[1;32m   1020\u001b[0m                                  \u001b[0mfeed_dict\u001b[0m\u001b[0;34m,\u001b[0m \u001b[0mfetch_list\u001b[0m\u001b[0;34m,\u001b[0m \u001b[0mtarget_list\u001b[0m\u001b[0;34m,\u001b[0m\u001b[0;34m\u001b[0m\u001b[0m\n\u001b[0;32m-> 1021\u001b[0;31m                                  status, run_metadata)\n\u001b[0m\u001b[1;32m   1022\u001b[0m \u001b[0;34m\u001b[0m\u001b[0m\n\u001b[1;32m   1023\u001b[0m     \u001b[0;32mdef\u001b[0m \u001b[0m_prun_fn\u001b[0m\u001b[0;34m(\u001b[0m\u001b[0msession\u001b[0m\u001b[0;34m,\u001b[0m \u001b[0mhandle\u001b[0m\u001b[0;34m,\u001b[0m \u001b[0mfeed_dict\u001b[0m\u001b[0;34m,\u001b[0m \u001b[0mfetch_list\u001b[0m\u001b[0;34m)\u001b[0m\u001b[0;34m:\u001b[0m\u001b[0;34m\u001b[0m\u001b[0m\n",
      "\u001b[0;31mKeyboardInterrupt\u001b[0m: "
     ]
    }
   ],
   "source": [
    "epochs = 5\n",
    "\n",
    "with graph.as_default():\n",
    "    saver = tf.train.Saver()\n",
    "\n",
    "with tf.Session(graph=graph) as sess:\n",
    "    sess.run(tf.global_variables_initializer())\n",
    "    iteration = 1\n",
    "    for e in range(epochs):\n",
    "        state = sess.run(initial_state)\n",
    "        \n",
    "        for ii, (x, y) in enumerate(get_batches(train_x, train_y, batch_size), 1):\n",
    "            feed_dict = {inputs_: x,\n",
    "                    labels_: y,\n",
    "                    keep_prob: dropout_prob,\n",
    "                    initial_state: state,\n",
    "                        learning_rate_ : learning_rate}\n",
    "            loss, state, _ = sess.run([cost, final_state, optimizer], feed_dict=feed_dict)\n",
    "            \n",
    "            if iteration%5==0:\n",
    "                val_acc = []\n",
    "                val_costs = []\n",
    "                \n",
    "                train_prediction_hardmax = sess.run(predictions_hardmax,feed_dict=feed_dict)\n",
    "                train_real_hardmax = np.argmax(y,1)\n",
    "                train_accuracy,train_error,train_precision,train_recall  = calc_classification_metrics(train_prediction_hardmax,train_real_hardmax)\n",
    "                \n",
    "                val_state = sess.run(cell.zero_state(batch_size, tf.float32))\n",
    "                \n",
    "                for x, y in get_batches(val_x, val_y, batch_size):\n",
    "                    feed_dict = {inputs_: x,\n",
    "                            labels_: y,\n",
    "                            keep_prob: 1,\n",
    "                            initial_state: val_state,\n",
    "                        learning_rate_ : learning_rate}\n",
    "                    \n",
    "                    val_prediction = sess.run(predictions,feed_dict=feed_dict)\n",
    "                    val_cost = sess.run(cost,feed_dict=feed_dict)\n",
    "                    val_prediction_hardmax = sess.run(predictions_hardmax,feed_dict=feed_dict)\n",
    "                    val_real_hardmax = np.argmax(y,1)\n",
    "                    val_accuracy,val_error,val_precision,val_recall  = calc_classification_metrics(val_prediction_hardmax,val_real_hardmax)\n",
    "                    val_acc.append(val_accuracy)\n",
    "                    val_costs.append(val_cost)\n",
    "                \n",
    "                val_cost = np.mean(val_costs)  \n",
    "                val_acc  = np.mean(val_acc)\n",
    "                print(\"Epoch: {}/{}\".format(e+1, epochs),\n",
    "                      \"Iteration: {}\".format(iteration),\n",
    "                      \"Train loss: {:.3f}\".format(loss),\n",
    "                      \"Train accuracy: {:.3f}\".format(train_accuracy),\n",
    "                     \"Train error: {:.3f}\".format(train_error),\n",
    "                      \"Cal cost: {:.3f}\".format(val_cost),\n",
    "                      \"Val acc: {:.3f}\".format(val_acc)\n",
    "                     )\n",
    "\n",
    "                    \n",
    "            if iteration%25==0:\n",
    "                val_acc = []\n",
    "                val_costs = []\n",
    "                val_state = sess.run(cell.zero_state(batch_size, tf.float32))\n",
    "                for x, y in get_batches(val_x, val_y, batch_size):\n",
    "                    feed_dict = {inputs_: x,\n",
    "                            labels_: y,\n",
    "                            keep_prob: 1,\n",
    "                            initial_state: val_state,\n",
    "                        learning_rate_ : learning_rate}\n",
    "                    \n",
    "                    val_prediction = sess.run(predictions,feed_dict=feed_dict)\n",
    "                    val_cost = sess.run(cost,feed_dict=feed_dict)\n",
    "                    val_prediction_hardmax = sess.run(predictions_hardmax,feed_dict=feed_dict)\n",
    "                    val_real_hardmax = np.argmax(y,1)\n",
    "                    val_accuracy,val_error,val_precision,val_recall  = calc_classification_metrics(val_prediction_hardmax,val_real_hardmax)\n",
    "                    val_acc.append(val_accuracy)\n",
    "                    val_costs.append(val_cost)\n",
    "                    \n",
    "                print(\"val cost\",np.mean(val_cost) , np.mean(val_acc) )\n",
    "                    \n",
    "                    #batch_acc, val_state = sess.run([accuracy, final_state], feed_dict=feed)\n",
    "                    #val_acc.append(batch_acc)\n",
    "                #print(\"Val acc: {:.3f}\".format(np.mean(val_acc)))\n",
    "            iteration +=1\n",
    "            learning_rate = 0.99 * learning_rate\n",
    "    saver.save(sess, \"checkpoints/checkpoint.ckpt\")"
   ]
  },
  {
   "cell_type": "markdown",
   "metadata": {},
   "source": [
    "## Testing"
   ]
  },
  {
   "cell_type": "code",
   "execution_count": null,
   "metadata": {},
   "outputs": [],
   "source": [
    "test_acc = []\n",
    "with tf.Session(graph=graph) as sess:\n",
    "    saver.restore(sess, tf.train.latest_checkpoint('checkpoints'))\n",
    "    test_state = sess.run(cell.zero_state(batch_size, tf.float32))\n",
    "    for ii, (x, y) in enumerate(get_batches(test_x, test_y, batch_size), 1):\n",
    "        print(x.shape,y.shape)\n",
    "        feed_dict = {inputs_: x,\n",
    "                labels_: y,\n",
    "                keep_prob: 1,\n",
    "                initial_state: test_state,\n",
    "                        learning_rate_ : learning_rate}\n",
    "        \n",
    "        test_prediction = sess.run(predictions,feed_dict=feed_dict)\n",
    "        test_cost = sess.run(cost,feed_dict=feed_dict)\n",
    "        test_prediction_hardmax = sess.run(predictions_hardmax,feed_dict=feed_dict)\n",
    "        test_real_hardmax = np.argmax(y,1)\n",
    "        test_accuracy,test_error,test_precision,test_recall  = calc_classification_metrics(test_prediction_hardmax,test_real_hardmax)\n",
    "        print(\"test cost\",test_cost , test_accuracy )\n",
    "        #batch_acc, test_state = sess.run([accuracy, final_state], feed_dict=feed)\n",
    "        #test_acc.append(batch_acc)\n",
    "        #print(x.shape,y.shape)\n",
    "    #print(\"Test accuracy: {:.3f}\".format(np.mean(test_acc)))"
   ]
  },
  {
   "cell_type": "markdown",
   "metadata": {},
   "source": [
    "## Generate submission file"
   ]
  },
  {
   "cell_type": "code",
   "execution_count": null,
   "metadata": {},
   "outputs": [],
   "source": [
    "with tf.Session(graph=graph) as sess:\n",
    "    saver.restore(sess, tf.train.latest_checkpoint('checkpoints'))\n",
    "    test_state = sess.run(cell.zero_state(batch_size, tf.float32))\n",
    "    \n",
    "    full_batches =  int(test_features.shape[0]/batch_size)\n",
    "    submit_file = open(\"submission.csv\",\"w\")\n",
    "    csv_writer = csv.writer(submit_file,delimiter = \",\")\n",
    "    header = [\"id\",\"EAP\",\"HPL\",\"MWS\"]\n",
    "    csv_writer.writerow(header)\n",
    "    \n",
    "    # TODO: find a way to send 1 line at a time without having to take special care of last incomplete batch\n",
    "    for i in range(full_batches):\n",
    "        batch = test_features[ (i*batch_size):((i+1)*batch_size)]\n",
    "\n",
    "        feed_dict = {inputs_: batch,\n",
    "                keep_prob: 1,\n",
    "                initial_state: test_state,\n",
    "                        learning_rate_ : learning_rate}\n",
    "    \n",
    "        test_prediction = sess.run(predictions,feed_dict=feed_dict)\n",
    "        test_prediction_hardmax = np.argmax(test_prediction,1)\n",
    "    \n",
    "        for j,prediction in enumerate(test_prediction_hardmax):\n",
    "            EAP_prob = test_prediction[j,labels_to_int[\"EAP\"]]\n",
    "            HPL_prob = test_prediction[j,labels_to_int[\"HPL\"]]\n",
    "            MWS_prob = test_prediction[j,labels_to_int[\"MWS\"]]\n",
    "        \n",
    "            line = [test_ids[(i*batch_size + j)] , EAP_prob, HPL_prob, MWS_prob]\n",
    "            csv_writer.writerow(line)\n",
    "        \n",
    "        print(\"finished batch {}\".format(i))\n",
    "            #print(\"Finished writing {}\".format(i))\n",
    "            #print(test_ids[i] ,test[i][:50] , \" \", int_to_labels[test_prediction_hardmax] , EAP_prob, HPL_prob, MWS_prob)\n",
    "       \n",
    "    if test_features.shape[0]%batch_size != 0:\n",
    "        print(\"Last minibatch\" ,full_batches*batch_size,\",\", test_features.shape[0])\n",
    "        \n",
    "        i+=1\n",
    "        batch = np.zeros((batch_size,test_features.shape[1]))\n",
    "        batch[0:(test_features.shape[0]-full_batches*batch_size),:] = test_features[full_batches*batch_size:,:]\n",
    "        \n",
    "        feed_dict = {inputs_: batch,\n",
    "                keep_prob: 1,\n",
    "                initial_state: test_state,\n",
    "                        learning_rate_ : learning_rate}\n",
    "    \n",
    "        test_prediction = sess.run(predictions,feed_dict=feed_dict)\n",
    "        test_prediction_hardmax = np.argmax(test_prediction,1)\n",
    "\n",
    "        for j in range(test_features.shape[0]-full_batches*batch_size):\n",
    "            EAP_prob = test_prediction[j,labels_to_int[\"EAP\"]]\n",
    "            HPL_prob = test_prediction[j,labels_to_int[\"HPL\"]]\n",
    "            MWS_prob = test_prediction[j,labels_to_int[\"MWS\"]]\n",
    "        \n",
    "            line = [test_ids[(i*batch_size + j)] , EAP_prob, HPL_prob, MWS_prob]\n",
    "            csv_writer.writerow(line)\n",
    "        \n",
    "        print(\"finished batch {}\".format(i))\n",
    "\n",
    "    submit_file.close()"
   ]
  },
  {
   "cell_type": "code",
   "execution_count": null,
   "metadata": {
    "collapsed": true
   },
   "outputs": [],
   "source": []
  }
 ],
 "metadata": {
  "kernelspec": {
   "display_name": "Python 3",
   "language": "python",
   "name": "python3"
  },
  "language_info": {
   "codemirror_mode": {
    "name": "ipython",
    "version": 3
   },
   "file_extension": ".py",
   "mimetype": "text/x-python",
   "name": "python",
   "nbconvert_exporter": "python",
   "pygments_lexer": "ipython3",
   "version": "3.6.1"
  }
 },
 "nbformat": 4,
 "nbformat_minor": 2
}
